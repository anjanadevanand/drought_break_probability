{
 "cells": [
  {
   "cell_type": "markdown",
   "id": "5d75b82b-e3f7-46e4-bbe3-d90bf05e2b28",
   "metadata": {},
   "source": [
    "#### Calculate reference period percentiles of gridded soil moisture (sm) for each day of the year\n",
    "#### These percentiles will then be used as thersholds to classify sm and analyse relationships between sm & P/P-E"
   ]
  },
  {
   "cell_type": "code",
   "execution_count": 1,
   "id": "0f7bba50-0256-4d29-bdc6-9846cda2613c",
   "metadata": {},
   "outputs": [
    {
     "name": "stdout",
     "output_type": "stream",
     "text": [
      "Interactive namespace is empty.\n"
     ]
    }
   ],
   "source": [
    "%who"
   ]
  },
  {
   "cell_type": "code",
   "execution_count": 1,
   "id": "81a28ee2-b8df-4fae-9e1d-c0ac264e1b9a",
   "metadata": {
    "tags": []
   },
   "outputs": [
    {
     "data": {
      "text/html": [
       "<div>\n",
       "    <div style=\"width: 24px; height: 24px; background-color: #e1e1e1; border: 3px solid #9D9D9D; border-radius: 5px; position: absolute;\"> </div>\n",
       "    <div style=\"margin-left: 48px;\">\n",
       "        <h3 style=\"margin-bottom: 0px;\">Client</h3>\n",
       "        <p style=\"color: #9D9D9D; margin-bottom: 0px;\">Client-84b94d0b-4137-11ec-a473-fa163e94351e</p>\n",
       "        <table style=\"width: 100%; text-align: left;\">\n",
       "\n",
       "        <tr>\n",
       "        \n",
       "            <td style=\"text-align: left;\"><strong>Connection method:</strong> Cluster object</td>\n",
       "            <td style=\"text-align: left;\"><strong>Cluster type:</strong> dask_jobqueue.SLURMCluster</td>\n",
       "        \n",
       "        </tr>\n",
       "\n",
       "        \n",
       "            <tr>\n",
       "                <td style=\"text-align: left;\">\n",
       "                    <strong>Dashboard: </strong> <a href=\"/proxy/8787/status\" target=\"_blank\">/proxy/8787/status</a>\n",
       "                </td>\n",
       "                <td style=\"text-align: left;\"></td>\n",
       "            </tr>\n",
       "        \n",
       "\n",
       "        </table>\n",
       "\n",
       "        \n",
       "            <details>\n",
       "            <summary style=\"margin-bottom: 20px;\"><h3 style=\"display: inline;\">Cluster Info</h3></summary>\n",
       "            <div class=\"jp-RenderedHTMLCommon jp-RenderedHTML jp-mod-trusted jp-OutputArea-output\">\n",
       "    <div style=\"width: 24px; height: 24px; background-color: #e1e1e1; border: 3px solid #9D9D9D; border-radius: 5px; position: absolute;\">\n",
       "    </div>\n",
       "    <div style=\"margin-left: 48px;\">\n",
       "        <h3 style=\"margin-bottom: 0px; margin-top: 0px;\">SLURMCluster</h3>\n",
       "        <p style=\"color: #9D9D9D; margin-bottom: 0px;\">ed42fcb0</p>\n",
       "        <table style=\"width: 100%; text-align: left;\">\n",
       "            <tr>\n",
       "                <td style=\"text-align: left;\">\n",
       "                    <strong>Dashboard:</strong> <a href=\"/proxy/8787/status\" target=\"_blank\">/proxy/8787/status</a>\n",
       "                </td>\n",
       "                <td style=\"text-align: left;\">\n",
       "                    <strong>Workers:</strong> 0\n",
       "                </td>\n",
       "            </tr>\n",
       "            <tr>\n",
       "                <td style=\"text-align: left;\">\n",
       "                    <strong>Total threads:</strong> 0\n",
       "                </td>\n",
       "                <td style=\"text-align: left;\">\n",
       "                    <strong>Total memory:</strong> 0 B\n",
       "                </td>\n",
       "            </tr>\n",
       "            \n",
       "        </table>\n",
       "\n",
       "        <details>\n",
       "            <summary style=\"margin-bottom: 20px;\">\n",
       "                <h3 style=\"display: inline;\">Scheduler Info</h3>\n",
       "            </summary>\n",
       "\n",
       "            <div style=\"\">\n",
       "    <div>\n",
       "        <div style=\"width: 24px; height: 24px; background-color: #FFF7E5; border: 3px solid #FF6132; border-radius: 5px; position: absolute;\"> </div>\n",
       "        <div style=\"margin-left: 48px;\">\n",
       "            <h3 style=\"margin-bottom: 0px;\">Scheduler</h3>\n",
       "            <p style=\"color: #9D9D9D; margin-bottom: 0px;\">Scheduler-82abbe6c-3598-4c26-a6e6-80162b70c6da</p>\n",
       "            <table style=\"width: 100%; text-align: left;\">\n",
       "                <tr>\n",
       "                    <td style=\"text-align: left;\">\n",
       "                        <strong>Comm:</strong> tcp://10.0.128.148:40659\n",
       "                    </td>\n",
       "                    <td style=\"text-align: left;\">\n",
       "                        <strong>Workers:</strong> 0\n",
       "                    </td>\n",
       "                </tr>\n",
       "                <tr>\n",
       "                    <td style=\"text-align: left;\">\n",
       "                        <strong>Dashboard:</strong> <a href=\"/proxy/8787/status\" target=\"_blank\">/proxy/8787/status</a>\n",
       "                    </td>\n",
       "                    <td style=\"text-align: left;\">\n",
       "                        <strong>Total threads:</strong> 0\n",
       "                    </td>\n",
       "                </tr>\n",
       "                <tr>\n",
       "                    <td style=\"text-align: left;\">\n",
       "                        <strong>Started:</strong> Just now\n",
       "                    </td>\n",
       "                    <td style=\"text-align: left;\">\n",
       "                        <strong>Total memory:</strong> 0 B\n",
       "                    </td>\n",
       "                </tr>\n",
       "            </table>\n",
       "        </div>\n",
       "    </div>\n",
       "\n",
       "    <details style=\"margin-left: 48px;\">\n",
       "        <summary style=\"margin-bottom: 20px;\">\n",
       "            <h3 style=\"display: inline;\">Workers</h3>\n",
       "        </summary>\n",
       "\n",
       "        \n",
       "\n",
       "    </details>\n",
       "</div>\n",
       "\n",
       "        </details>\n",
       "    </div>\n",
       "</div>\n",
       "            </details>\n",
       "        \n",
       "\n",
       "    </div>\n",
       "</div>"
      ],
      "text/plain": [
       "<Client: 'tcp://10.0.128.148:40659' processes=0 threads=0, memory=0 B>"
      ]
     },
     "execution_count": 1,
     "metadata": {},
     "output_type": "execute_result"
    }
   ],
   "source": [
    "from dask.distributed import Client,Scheduler\n",
    "from dask_jobqueue import SLURMCluster\n",
    "cluster = SLURMCluster(cores=16,memory=\"31GB\",walltime='02:30:00')\n",
    "client = Client(cluster)\n",
    "cluster.scale(cores=32)\n",
    "client"
   ]
  },
  {
   "cell_type": "code",
   "execution_count": 2,
   "id": "61e90737-f16a-43c4-bc5f-17586ad91fd7",
   "metadata": {
    "tags": []
   },
   "outputs": [
    {
     "data": {
      "application/vnd.jupyter.widget-view+json": {
       "model_id": "556ea30944794b80a8bed7838d3fe1e9",
       "version_major": 2,
       "version_minor": 0
      },
      "text/plain": [
       "  0%|          | 0/366 [00:00<?, ?it/s]"
      ]
     },
     "metadata": {},
     "output_type": "display_data"
    },
    {
     "name": "stderr",
     "output_type": "stream",
     "text": [
      "/g/data/hh5/public/apps/miniconda3/envs/analysis3-21.07/lib/python3.9/site-packages/numpy/lib/nanfunctions.py:1395: RuntimeWarning: All-NaN slice encountered\n",
      "  result = np.apply_along_axis(_nanquantile_1d, axis, a, q,\n"
     ]
    }
   ],
   "source": [
    "import xarray as xr\n",
    "import numpy as np\n",
    "import climtas\n",
    "    \n",
    "out_dir = '/g/data/w97/ad9701/p_prob_analysis/temp_files/sm_refPeriod_perc/'\n",
    "out_file = 'sm_191101_to_202005_30_40perc.nc'\n",
    "# out_file = 'sm_191101_to_202005_perc.nc'\n",
    "    \n",
    "awra_dir = '/g/data/fj8/BoM/AWRA/DATA/SCHEDULED-V6/processed/values/day/'\n",
    "sm_files = 'sm_[1-2]*.nc'\n",
    "\n",
    "ds_sm_temp = xr.open_mfdataset(awra_dir + sm_files)\n",
    "lat_slice = slice(-32, -39)      #slice(-36.3, -36.2)  #tiny slice for testing\n",
    "lon_slice = slice(139, 152)      #slice(148.9, 149)\n",
    "time_slice = slice('1911-01-01', '2020-05-31')\n",
    "\n",
    "# converting the datatypes of SM to match P\n",
    "lat_new = np.float32(ds_sm_temp['latitude'])\n",
    "lon_new = np.float32(ds_sm_temp['longitude'])\n",
    "\n",
    "# rename & reassign lat-lon to match the precip data; subset lat-lon\n",
    "ds_sm = ds_sm_temp.rename({'latitude':'lat','longitude':'lon'}).assign_coords(lat=lat_new, lon=lon_new)\\\n",
    ".sel(lat = lat_slice, lon = lon_slice, time = time_slice)\n",
    "\n",
    "# calculate percentiles using the full 31-day windows from all the available years\n",
    "from tqdm.auto import tqdm\n",
    "doy_pct = []\n",
    "for doy, sample in tqdm(ds_sm.sm.rolling(time=31, center=True).construct(time='window').groupby('time.dayofyear')):\n",
    "    # doy_pct.append(sample.load().quantile([0.1, 0.2, 0.3, 0.5], dim=['time', 'window']))\n",
    "    doy_pct.append(sample.load().quantile([0.3, 0.4], dim=['time', 'window']))\n",
    "\n",
    "da_sm_perc = xr.concat(doy_pct, dim='dayofyear')\n",
    "dayofyear = np.arange(366)+1\n",
    "da_sm_perc = da_sm_perc.assign_coords(dayofyear=dayofyear)\n",
    "\n",
    "da_sm_perc.to_netcdf(out_dir + out_file)\n",
    "\n",
    "cluster.scale(cores=0)"
   ]
  },
  {
   "cell_type": "code",
   "execution_count": 6,
   "id": "b0275059-b430-4118-8d42-0169bee3e0fb",
   "metadata": {},
   "outputs": [
    {
     "name": "stdout",
     "output_type": "stream",
     "text": [
      "             JOBID PARTITION     NAME     USER ST       TIME  NODES NODELIST(REASON)\n",
      "             11927       vdi sys/dash   ad9701  R    2:42:51      1 ood-vn17\n"
     ]
    }
   ],
   "source": [
    "! squeue -u ad9701"
   ]
  },
  {
   "cell_type": "code",
   "execution_count": null,
   "id": "55423096-cdf5-49e1-bdf9-c8e4c10e54e3",
   "metadata": {},
   "outputs": [],
   "source": [
    "len(doy_pct)"
   ]
  },
  {
   "cell_type": "code",
   "execution_count": 5,
   "id": "4243bb85-2c2e-4bf1-8d23-d394b2ae78df",
   "metadata": {},
   "outputs": [
    {
     "data": {
      "application/vnd.jupyter.widget-view+json": {
       "model_id": "739b38a1e900404c99349c243a7dcaf2",
       "version_major": 2,
       "version_minor": 0
      },
      "text/plain": [
       "Tab(children=(HTML(value='<div class=\"jp-RenderedHTMLCommon jp-RenderedHTML jp-mod-trusted jp-OutputArea-outpu…"
      ]
     },
     "metadata": {},
     "output_type": "display_data"
    }
   ],
   "source": [
    "cluster"
   ]
  },
  {
   "cell_type": "code",
   "execution_count": null,
   "id": "28372eb6-cbd1-49c7-94db-2e5f60ac0b33",
   "metadata": {},
   "outputs": [],
   "source": []
  }
 ],
 "metadata": {
  "kernelspec": {
   "display_name": "Python [conda env:analysis3-21.07]",
   "language": "python",
   "name": "conda-env-analysis3-21.07-py"
  },
  "language_info": {
   "codemirror_mode": {
    "name": "ipython",
    "version": 3
   },
   "file_extension": ".py",
   "mimetype": "text/x-python",
   "name": "python",
   "nbconvert_exporter": "python",
   "pygments_lexer": "ipython3",
   "version": "3.9.7"
  }
 },
 "nbformat": 4,
 "nbformat_minor": 5
}
