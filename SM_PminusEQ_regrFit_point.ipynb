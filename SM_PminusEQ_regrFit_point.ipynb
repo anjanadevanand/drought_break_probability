{
 "cells": [
  {
   "cell_type": "markdown",
   "id": "195b6937-b6bf-45d5-8d06-3793725fcd75",
   "metadata": {},
   "source": [
    "#### Working notebook for grid level linear regression relationship between P-E-Q and change in soil moisture"
   ]
  },
  {
   "cell_type": "code",
   "execution_count": 24,
   "id": "b0a47aaf-75e5-4aaf-beb8-5c21398961e2",
   "metadata": {
    "tags": []
   },
   "outputs": [],
   "source": [
    "import xarray as xr\n",
    "import numpy as np\n",
    "import matplotlib.pyplot as plt\n",
    "%matplotlib inline\n",
    "\n",
    "outdir = 'figures/SM_P_PmE_PmEQ_scatter/'\n",
    "#out_dir = '/g/data/w97/ad9701/p_prob_analysis/temp_files/sm_P_PminusE_eqns/'\n",
    "rootdir = '/g/data/w97/ad9701/p_prob_analysis/temp_files/'\n",
    "\n",
    "########## Add more when calculated #########\n",
    "multiweek = [2] #, 6, 8, 12] #np.array([1, 2, 3, 6, 8, 12])\n",
    "#############################################\n",
    "\n",
    "fname_sm_init = 'sm_init_*_SEA_*.nc'\n",
    "fname_sm_diff = 'sm_diff_*_SEA_*.nc'\n",
    "fname_PmEQ = 'PminusEQ_*_SEA_*.nc'\n",
    "fname_PmE = 'PminusE_*_SEA_*.nc'\n",
    "\n",
    "lat_pt = -37 #-37\n",
    "lon_pt = 148 #142\n",
    "sm_thresh_perc = 0.3     # this is the thershold percentile to identify dry soil moisture conditions\n",
    "\n",
    "for iW in multiweek:\n",
    "    \n",
    "    data_dir_PmEQ = rootdir + 'PminusEQ_week'+str(iW)+'/'\n",
    "    ds_PmEQ = xr.open_mfdataset(data_dir_PmEQ + fname_PmEQ, chunks = {'lat':400, 'lon':400}) #, combine='nested', concat_dim='time', chunks={'lat':1,'lon':1})\n",
    "    \n",
    "    data_dir_sm = rootdir + 'sm_week'+str(iW)+'/'\n",
    "    ds_sm_init = xr.open_mfdataset(data_dir_sm + fname_sm_init, chunks = {'lat':400, 'lon':400})\n",
    "    ds_sm_diff = xr.open_mfdataset(data_dir_sm + fname_sm_diff, chunks = {'lat':400, 'lon':400})\n",
    "    \n",
    "    da_PmEQ_pt_temp = ds_PmEQ['PminusEQ'].sel(lat = lat_pt, lon = lon_pt, method = \"nearest\").load()\n",
    "    da_sm_init_pt = ds_sm_init['sm'].sel(lat = lat_pt, lon = lon_pt, method = \"nearest\").load()\n",
    "    da_sm_diff_pt = ds_sm_diff['sm_diff'].sel(lat = lat_pt, lon = lon_pt, method = \"nearest\").load()   \n",
    "\n",
    "    # reassigning the time dimension of PmEQ to match sm exactly\n",
    "    da_PmEQ_pt = da_PmEQ_pt_temp.assign_coords(time = da_sm_init_pt.time)\n",
    "    \n",
    "    ds_sm_perc = xr.open_dataset(rootdir + 'sm_refPeriod_perc/sm_191101_to_202005_perc.nc')\n",
    "    da_sm_thresh_pt = ds_sm_perc['sm'].sel(lat = lat_pt, lon = lon_pt, method = \"nearest\").sel(quantile = sm_thresh_perc).load()\n",
    "    \n",
    "    # day of year is not properly assigned in the dataset of percentiles; reassigning\n",
    "    dayofyear = np.arange(366)+1\n",
    "    da_sm_thresh_pt = da_sm_thresh_pt.assign_coords(dayofyear = dayofyear)\n",
    "    \n",
    "    # get the corresponding thershold for each day in the init sm dataset\n",
    "    da_sm_init_thresh_pt = da_sm_thresh_pt.sel(dayofyear = da_sm_init_pt['time.dayofyear'])\n",
    "    \n",
    "    # index of dry initial soil mositure days with following positive changes in delta soil moisture\n",
    "    dryInd = [x & y for (x, y) in zip((da_sm_init_pt<=da_sm_init_thresh_pt).values, (da_sm_diff_pt>0).values)]"
   ]
  },
  {
   "cell_type": "code",
   "execution_count": 25,
   "id": "7999f5f4-63d9-42ef-89dd-e87de791df2d",
   "metadata": {
    "tags": []
   },
   "outputs": [
    {
     "data": {
      "text/plain": [
       "<matplotlib.collections.PathCollection at 0x7f81b408beb0>"
      ]
     },
     "execution_count": 25,
     "metadata": {},
     "output_type": "execute_result"
    },
    {
     "data": {
      "image/png": "[encoded data removed]",
      "text/plain": [
       "<Figure size 432x288 with 1 Axes>"
      ]
     },
     "metadata": {
      "needs_background": "light"
     },
     "output_type": "display_data"
    }
   ],
   "source": [
    "#da_sm_thersh_pt\n",
    "plt.scatter(da_PmEQ_pt[dryInd].values, da_sm_diff_pt[dryInd].values)"
   ]
  },
  {
   "cell_type": "code",
   "execution_count": 28,
   "id": "963e8c3d-9ab7-4000-a7ed-e0c465293858",
   "metadata": {},
   "outputs": [
    {
     "data": {
      "text/html": [
       "<table class=\"simpletable\">\n",
       "<caption>OLS Regression Results</caption>\n",
       "<tr>\n",
       "  <th>Dep. Variable:</th>          <td>delSM</td>      <th>  R-squared:         </th> <td>   0.907</td> \n",
       "</tr>\n",
       "<tr>\n",
       "  <th>Model:</th>                   <td>OLS</td>       <th>  Adj. R-squared:    </th> <td>   0.907</td> \n",
       "</tr>\n",
       "<tr>\n",
       "  <th>Method:</th>             <td>Least Squares</td>  <th>  F-statistic:       </th> <td>   4817.</td> \n",
       "</tr>\n",
       "<tr>\n",
       "  <th>Date:</th>             <td>Tue, 28 Sep 2021</td> <th>  Prob (F-statistic):</th> <td>6.44e-257</td>\n",
       "</tr>\n",
       "<tr>\n",
       "  <th>Time:</th>                 <td>09:52:48</td>     <th>  Log-Likelihood:    </th> <td> -1743.7</td> \n",
       "</tr>\n",
       "<tr>\n",
       "  <th>No. Observations:</th>      <td>   496</td>      <th>  AIC:               </th> <td>   3491.</td> \n",
       "</tr>\n",
       "<tr>\n",
       "  <th>Df Residuals:</th>          <td>   494</td>      <th>  BIC:               </th> <td>   3500.</td> \n",
       "</tr>\n",
       "<tr>\n",
       "  <th>Df Model:</th>              <td>     1</td>      <th>                     </th>     <td> </td>    \n",
       "</tr>\n",
       "<tr>\n",
       "  <th>Covariance Type:</th>      <td>nonrobust</td>    <th>                     </th>     <td> </td>    \n",
       "</tr>\n",
       "</table>\n",
       "<table class=\"simpletable\">\n",
       "<tr>\n",
       "      <td></td>         <th>coef</th>     <th>std err</th>      <th>t</th>      <th>P>|t|</th>  <th>[0.025</th>    <th>0.975]</th>  \n",
       "</tr>\n",
       "<tr>\n",
       "  <th>Intercept</th> <td>    6.0573</td> <td>    0.498</td> <td>   12.159</td> <td> 0.000</td> <td>    5.078</td> <td>    7.036</td>\n",
       "</tr>\n",
       "<tr>\n",
       "  <th>PmEQ</th>      <td>    0.7459</td> <td>    0.011</td> <td>   69.404</td> <td> 0.000</td> <td>    0.725</td> <td>    0.767</td>\n",
       "</tr>\n",
       "</table>\n",
       "<table class=\"simpletable\">\n",
       "<tr>\n",
       "  <th>Omnibus:</th>       <td>162.177</td> <th>  Durbin-Watson:     </th> <td>   1.732</td>\n",
       "</tr>\n",
       "<tr>\n",
       "  <th>Prob(Omnibus):</th> <td> 0.000</td>  <th>  Jarque-Bera (JB):  </th> <td>1533.359</td>\n",
       "</tr>\n",
       "<tr>\n",
       "  <th>Skew:</th>          <td>-1.135</td>  <th>  Prob(JB):          </th> <td>    0.00</td>\n",
       "</tr>\n",
       "<tr>\n",
       "  <th>Kurtosis:</th>      <td>11.309</td>  <th>  Cond. No.          </th> <td>    63.1</td>\n",
       "</tr>\n",
       "</table><br/><br/>Notes:<br/>[1] Standard Errors assume that the covariance matrix of the errors is correctly specified."
      ],
      "text/plain": [
       "<class 'statsmodels.iolib.summary.Summary'>\n",
       "\"\"\"\n",
       "                            OLS Regression Results                            \n",
       "==============================================================================\n",
       "Dep. Variable:                  delSM   R-squared:                       0.907\n",
       "Model:                            OLS   Adj. R-squared:                  0.907\n",
       "Method:                 Least Squares   F-statistic:                     4817.\n",
       "Date:                Tue, 28 Sep 2021   Prob (F-statistic):          6.44e-257\n",
       "Time:                        09:52:48   Log-Likelihood:                -1743.7\n",
       "No. Observations:                 496   AIC:                             3491.\n",
       "Df Residuals:                     494   BIC:                             3500.\n",
       "Df Model:                           1                                         \n",
       "Covariance Type:            nonrobust                                         \n",
       "==============================================================================\n",
       "                 coef    std err          t      P>|t|      [0.025      0.975]\n",
       "------------------------------------------------------------------------------\n",
       "Intercept      6.0573      0.498     12.159      0.000       5.078       7.036\n",
       "PmEQ           0.7459      0.011     69.404      0.000       0.725       0.767\n",
       "==============================================================================\n",
       "Omnibus:                      162.177   Durbin-Watson:                   1.732\n",
       "Prob(Omnibus):                  0.000   Jarque-Bera (JB):             1533.359\n",
       "Skew:                          -1.135   Prob(JB):                         0.00\n",
       "Kurtosis:                      11.309   Cond. No.                         63.1\n",
       "==============================================================================\n",
       "\n",
       "Notes:\n",
       "[1] Standard Errors assume that the covariance matrix of the errors is correctly specified.\n",
       "\"\"\""
      ]
     },
     "execution_count": 28,
     "metadata": {},
     "output_type": "execute_result"
    }
   ],
   "source": [
    "import statsmodels.formula.api as smf\n",
    "import pandas as pd\n",
    "\n",
    "df = pd.DataFrame(dict(zip(['PmEQ', 'delSM'], [da_PmEQ_pt[dryInd].values, da_sm_diff_pt[dryInd].values])))\n",
    "\n",
    "formula = 'delSM ~ PmEQ'\n",
    "lm = smf.ols(formula, df)\n",
    "model_lm = lm.fit()\n",
    "# model_lm.predict(x_new)\n",
    "# model_lm.params.values\n",
    "# model_lm.pvalues.values\n",
    "\n",
    "model_lm.summary()"
   ]
  },
  {
   "cell_type": "code",
   "execution_count": 36,
   "id": "45970837-86ca-448f-8780-d95a392a0159",
   "metadata": {},
   "outputs": [
    {
     "data": {
      "text/plain": [
       "0.9067963834847315"
      ]
     },
     "execution_count": 36,
     "metadata": {},
     "output_type": "execute_result"
    }
   ],
   "source": [
    "model_lm.rsquared_adj"
   ]
  },
  {
   "cell_type": "code",
   "execution_count": 37,
   "id": "75107ee9-7b9e-4832-b2d5-c1a345b6951e",
   "metadata": {},
   "outputs": [
    {
     "name": "stdout",
     "output_type": "stream",
     "text": [
      "Intercept    6.057301\n",
      "PmEQ         0.745878\n",
      "dtype: float64\n",
      "                  0         1\n",
      "Intercept  5.078491  7.036110\n",
      "PmEQ       0.724763  0.766993\n",
      "Intercept     6.125452e-30\n",
      "PmEQ         6.440686e-257\n",
      "dtype: float64\n"
     ]
    }
   ],
   "source": [
    "print(model_lm.params)\n",
    "print(model_lm.conf_int())\n",
    "print(model_lm.pvalues)\n"
   ]
  },
  {
   "cell_type": "code",
   "execution_count": 82,
   "id": "4b62f145-30cd-4fcd-9ba7-d9820ed4bfde",
   "metadata": {},
   "outputs": [
    {
     "data": {
      "text/html": [
       "<div>\n",
       "<style scoped>\n",
       "    .dataframe tbody tr th:only-of-type {\n",
       "        vertical-align: middle;\n",
       "    }\n",
       "\n",
       "    .dataframe tbody tr th {\n",
       "        vertical-align: top;\n",
       "    }\n",
       "\n",
       "    .dataframe thead th {\n",
       "        text-align: right;\n",
       "    }\n",
       "</style>\n",
       "<table border=\"1\" class=\"dataframe\">\n",
       "  <thead>\n",
       "    <tr style=\"text-align: right;\">\n",
       "      <th></th>\n",
       "      <th>0</th>\n",
       "      <th>1</th>\n",
       "    </tr>\n",
       "  </thead>\n",
       "  <tbody>\n",
       "    <tr>\n",
       "      <th>Intercept</th>\n",
       "      <td>5.236330</td>\n",
       "      <td>6.878271</td>\n",
       "    </tr>\n",
       "    <tr>\n",
       "      <th>PmEQ</th>\n",
       "      <td>0.728168</td>\n",
       "      <td>0.763588</td>\n",
       "    </tr>\n",
       "  </tbody>\n",
       "</table>\n",
       "</div>"
      ],
      "text/plain": [
       "                  0         1\n",
       "Intercept  5.236330  6.878271\n",
       "PmEQ       0.728168  0.763588"
      ]
     },
     "execution_count": 82,
     "metadata": {},
     "output_type": "execute_result"
    }
   ],
   "source": [
    "model_lm.conf_int(alpha=0.1)"
   ]
  },
  {
   "cell_type": "code",
   "execution_count": 42,
   "id": "ba875312-970d-4137-be19-16fc168d06e4",
   "metadata": {},
   "outputs": [
    {
     "data": {
      "text/plain": [
       "<matplotlib.collections.PathCollection at 0x7f81b087e490>"
      ]
     },
     "execution_count": 42,
     "metadata": {},
     "output_type": "execute_result"
    },
    {
     "data": {
      "image/png": "[encoded data removed]",
      "text/plain": [
       "<Figure size 432x288 with 1 Axes>"
      ]
     },
     "metadata": {
      "needs_background": "light"
     },
     "output_type": "display_data"
    }
   ],
   "source": [
    "plt.scatter(np.arange(len(da_sm_diff_pt[dryInd].values)), model_lm.fittedvalues.values-da_sm_diff_pt[dryInd].values)"
   ]
  },
  {
   "cell_type": "code",
   "execution_count": 60,
   "id": "c7612aea-8fb6-4cc0-8bb6-9b26446f8183",
   "metadata": {},
   "outputs": [
    {
     "data": {
      "text/plain": [
       "[<matplotlib.lines.Line2D at 0x7f81ab806cd0>]"
      ]
     },
     "execution_count": 60,
     "metadata": {},
     "output_type": "execute_result"
    },
    {
     "data": {
      "image/png": "[encoded data removed]",
      "text/plain": [
       "<Figure size 432x288 with 1 Axes>"
      ]
     },
     "metadata": {
      "needs_background": "light"
     },
     "output_type": "display_data"
    }
   ],
   "source": [
    "alpha = 0.001\n",
    "\n",
    "fitted_lower = model_lm.conf_int(alpha=alpha).values[0,0] + model_lm.conf_int(alpha=alpha).values[1,0]*da_PmEQ_pt[dryInd].values\n",
    "fitted_upper = model_lm.conf_int(alpha=alpha).values[0,1] + model_lm.conf_int(alpha=alpha).values[1,1]*da_PmEQ_pt[dryInd].values\n",
    "\n",
    "plt.scatter(da_PmEQ_pt[dryInd].values, da_sm_diff_pt[dryInd].values)\n",
    "plt.plot(da_PmEQ_pt[dryInd].values, model_lm.fittedvalues.values, color=\"black\")\n",
    "plt.plot(da_PmEQ_pt[dryInd].values, fitted_lower, color=\"red\")\n",
    "plt.plot(da_PmEQ_pt[dryInd].values, fitted_upper, color=\"royalblue\")\n"
   ]
  },
  {
   "cell_type": "code",
   "execution_count": 84,
   "id": "f3449834-97c5-4745-a8c4-2fcbb110d2fd",
   "metadata": {},
   "outputs": [
    {
     "data": {
      "text/plain": [
       "0      20.974863\n",
       "1      27.687766\n",
       "2      34.400669\n",
       "3      41.113572\n",
       "4      47.826475\n",
       "5      54.539378\n",
       "6      61.252281\n",
       "7      67.965184\n",
       "8      74.678088\n",
       "9      81.390991\n",
       "10     88.103894\n",
       "11     94.816797\n",
       "12    101.529700\n",
       "13    108.242603\n",
       "14    114.955506\n",
       "15    121.668409\n",
       "16    128.381312\n",
       "17    135.094215\n",
       "18    141.807118\n",
       "19    148.520021\n",
       "20    155.232924\n",
       "dtype: float64"
      ]
     },
     "execution_count": 84,
     "metadata": {},
     "output_type": "execute_result"
    }
   ],
   "source": [
    "x_new = pd.DataFrame({'PmEQ': np.linspace(20, 200, 21)})\n",
    "x_new.head()\n",
    "x_pred = model_lm.predict(x_new)\n",
    "# x_pred.summary_frame(alpha=0.05)\n",
    "x_pred"
   ]
  },
  {
   "cell_type": "code",
   "execution_count": null,
   "id": "0d1d4527-e274-49b9-b9e8-7dc9b5149cd8",
   "metadata": {},
   "outputs": [],
   "source": []
  }
 ],
 "metadata": {
  "kernelspec": {
   "display_name": "Python [conda env:analysis3-21.07]",
   "language": "python",
   "name": "conda-env-analysis3-21.07-py"
  },
  "language_info": {
   "codemirror_mode": {
    "name": "ipython",
    "version": 3
   },
   "file_extension": ".py",
   "mimetype": "text/x-python",
   "name": "python",
   "nbconvert_exporter": "python",
   "pygments_lexer": "ipython3",
   "version": "3.9.7"
  }
 },
 "nbformat": 4,
 "nbformat_minor": 5
}
