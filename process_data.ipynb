{
 "cells": [
  {
   "cell_type": "markdown",
   "id": "e5f9fb92-71cb-4a08-827b-aa7764e142d4",
   "metadata": {},
   "source": [
    "#### Process AGCD and AWRA datasets for all the grids"
   ]
  },
  {
   "cell_type": "code",
   "execution_count": 24,
   "id": "98eb01e8-7f0e-447d-a35d-38c58a4f4e1b",
   "metadata": {},
   "outputs": [
    {
     "name": "stdout",
     "output_type": "stream",
     "text": [
      "Client\t SLURMCluster\t Scheduler\t agcd_dir\t agcd_files\t allWeek_allSets\t allWeek_dict\t client\t climtas\t \n",
      "cluster\t create_filepath\t da_P\t da_P_accum\t data_names\t datasets\t datetime\t day_len_dict\t delayed\t \n",
      "ds_P_accum\t ds_agcd\t end_day\t end_day_dict\t field\t full_dir_path\t i\t iSet\t iWeek\t \n",
      "itertools\t lat_slice\t lon_slice\t my\t nWeek\t ndays\t new_path\t np\t os\t \n",
      "out_dir\t paths\t prefix\t root_path\t split_by_chunks\t start_day\t start_day_dict\t sub_dir\t sub_dir_names\t \n",
      "sys\t time_chunk\t time_chunk_dict\t time_slice\t values\t week_names\t xr\t \n"
     ]
    }
   ],
   "source": [
    "%who"
   ]
  },
  {
   "cell_type": "code",
   "execution_count": 4,
   "id": "f9e38a66-b9f9-453a-be2b-fb24e623f869",
   "metadata": {},
   "outputs": [
    {
     "data": {
      "text/plain": [
       "10.689655172413794"
      ]
     },
     "execution_count": 4,
     "metadata": {},
     "output_type": "execute_result"
    }
   ],
   "source": [
    "31/11.6*4"
   ]
  },
  {
   "cell_type": "code",
   "execution_count": 15,
   "id": "b1e2bfb8-26c3-4a76-a58c-c0470d81e23e",
   "metadata": {},
   "outputs": [
    {
     "data": {
      "text/html": [
       "<div>\n",
       "    <div style=\"width: 24px; height: 24px; background-color: #e1e1e1; border: 3px solid #9D9D9D; border-radius: 5px; position: absolute;\"> </div>\n",
       "    <div style=\"margin-left: 48px;\">\n",
       "        <h3 style=\"margin-bottom: 0px;\">Client</h3>\n",
       "        <p style=\"color: #9D9D9D; margin-bottom: 0px;\">Client-9418fce1-2291-11ec-8ba0-fa163e31ecfb</p>\n",
       "        <table style=\"width: 100%; text-align: left;\">\n",
       "\n",
       "        <tr>\n",
       "        \n",
       "            <td style=\"text-align: left;\"><strong>Connection method:</strong> Cluster object</td>\n",
       "            <td style=\"text-align: left;\"><strong>Cluster type:</strong> dask_jobqueue.SLURMCluster</td>\n",
       "        \n",
       "        </tr>\n",
       "\n",
       "        \n",
       "            <tr>\n",
       "                <td style=\"text-align: left;\">\n",
       "                    <strong>Dashboard: </strong> <a href=\"/proxy/8787/status\" target=\"_blank\">/proxy/8787/status</a>\n",
       "                </td>\n",
       "                <td style=\"text-align: left;\"></td>\n",
       "            </tr>\n",
       "        \n",
       "\n",
       "        </table>\n",
       "\n",
       "        \n",
       "            <details>\n",
       "            <summary style=\"margin-bottom: 20px;\"><h3 style=\"display: inline;\">Cluster Info</h3></summary>\n",
       "            <div class=\"jp-RenderedHTMLCommon jp-RenderedHTML jp-mod-trusted jp-OutputArea-output\">\n",
       "    <div style=\"width: 24px; height: 24px; background-color: #e1e1e1; border: 3px solid #9D9D9D; border-radius: 5px; position: absolute;\">\n",
       "    </div>\n",
       "    <div style=\"margin-left: 48px;\">\n",
       "        <h3 style=\"margin-bottom: 0px; margin-top: 0px;\">SLURMCluster</h3>\n",
       "        <p style=\"color: #9D9D9D; margin-bottom: 0px;\">cc7fbb84</p>\n",
       "        <table style=\"width: 100%; text-align: left;\">\n",
       "            <tr>\n",
       "                <td style=\"text-align: left;\">\n",
       "                    <strong>Dashboard:</strong> <a href=\"/proxy/8787/status\" target=\"_blank\">/proxy/8787/status</a>\n",
       "                </td>\n",
       "                <td style=\"text-align: left;\">\n",
       "                    <strong>Workers:</strong> 0\n",
       "                </td>\n",
       "            </tr>\n",
       "            <tr>\n",
       "                <td style=\"text-align: left;\">\n",
       "                    <strong>Total threads:</strong> 0\n",
       "                </td>\n",
       "                <td style=\"text-align: left;\">\n",
       "                    <strong>Total memory:</strong> 0 B\n",
       "                </td>\n",
       "            </tr>\n",
       "            \n",
       "        </table>\n",
       "\n",
       "        <details>\n",
       "            <summary style=\"margin-bottom: 20px;\">\n",
       "                <h3 style=\"display: inline;\">Scheduler Info</h3>\n",
       "            </summary>\n",
       "\n",
       "            <div style=\"\">\n",
       "    <div>\n",
       "        <div style=\"width: 24px; height: 24px; background-color: #FFF7E5; border: 3px solid #FF6132; border-radius: 5px; position: absolute;\"> </div>\n",
       "        <div style=\"margin-left: 48px;\">\n",
       "            <h3 style=\"margin-bottom: 0px;\">Scheduler</h3>\n",
       "            <p style=\"color: #9D9D9D; margin-bottom: 0px;\">Scheduler-bf943a21-8778-441d-96b3-920504a2cf13</p>\n",
       "            <table style=\"width: 100%; text-align: left;\">\n",
       "                <tr>\n",
       "                    <td style=\"text-align: left;\">\n",
       "                        <strong>Comm:</strong> tcp://10.0.128.155:38677\n",
       "                    </td>\n",
       "                    <td style=\"text-align: left;\">\n",
       "                        <strong>Workers:</strong> 0\n",
       "                    </td>\n",
       "                </tr>\n",
       "                <tr>\n",
       "                    <td style=\"text-align: left;\">\n",
       "                        <strong>Dashboard:</strong> <a href=\"/proxy/8787/status\" target=\"_blank\">/proxy/8787/status</a>\n",
       "                    </td>\n",
       "                    <td style=\"text-align: left;\">\n",
       "                        <strong>Total threads:</strong> 0\n",
       "                    </td>\n",
       "                </tr>\n",
       "                <tr>\n",
       "                    <td style=\"text-align: left;\">\n",
       "                        <strong>Started:</strong> Just now\n",
       "                    </td>\n",
       "                    <td style=\"text-align: left;\">\n",
       "                        <strong>Total memory:</strong> 0 B\n",
       "                    </td>\n",
       "                </tr>\n",
       "            </table>\n",
       "        </div>\n",
       "    </div>\n",
       "\n",
       "    <details style=\"margin-left: 48px;\">\n",
       "        <summary style=\"margin-bottom: 20px;\">\n",
       "            <h3 style=\"display: inline;\">Workers</h3>\n",
       "        </summary>\n",
       "\n",
       "        \n",
       "\n",
       "    </details>\n",
       "</div>\n",
       "\n",
       "        </details>\n",
       "    </div>\n",
       "</div>\n",
       "            </details>\n",
       "        \n",
       "\n",
       "    </div>\n",
       "</div>"
      ],
      "text/plain": [
       "<Client: 'tcp://10.0.128.155:38677' processes=0 threads=0, memory=0 B>"
      ]
     },
     "execution_count": 15,
     "metadata": {},
     "output_type": "execute_result"
    }
   ],
   "source": [
    "from dask.distributed import Client,Scheduler\n",
    "from dask_jobqueue import SLURMCluster\n",
    "cluster = SLURMCluster(cores=8,memory=\"31GB\")\n",
    "client = Client(cluster)\n",
    "cluster.scale(cores=8)\n",
    "client"
   ]
  },
  {
   "cell_type": "code",
   "execution_count": null,
   "id": "ece03826-0af6-43be-8e55-baf313af0536",
   "metadata": {},
   "outputs": [],
   "source": [
    "from dask.distributed import Client, LocalCluster\n",
    "cluster = LocalCluster()\n",
    "client = Client(cluster)"
   ]
  },
  {
   "cell_type": "code",
   "execution_count": null,
   "id": "91b7ce6a-6cf9-4271-8246-e98eb22e10d0",
   "metadata": {
    "tags": []
   },
   "outputs": [],
   "source": [
    "from dask.distributed import Client, LocalCluster\n",
    "cluster = LocalCluster(n_workers = 2, threads_per_worker = 1)\n",
    "client = Client(cluster)"
   ]
  },
  {
   "cell_type": "code",
   "execution_count": 19,
   "id": "d6133f2a-a31c-4f7d-9f87-3e60bd2af020",
   "metadata": {},
   "outputs": [
    {
     "data": {
      "text/html": [
       "<div>\n",
       "    <div style=\"width: 24px; height: 24px; background-color: #e1e1e1; border: 3px solid #9D9D9D; border-radius: 5px; position: absolute;\"> </div>\n",
       "    <div style=\"margin-left: 48px;\">\n",
       "        <h3 style=\"margin-bottom: 0px;\">Client</h3>\n",
       "        <p style=\"color: #9D9D9D; margin-bottom: 0px;\">Client-9418fce1-2291-11ec-8ba0-fa163e31ecfb</p>\n",
       "        <table style=\"width: 100%; text-align: left;\">\n",
       "\n",
       "        <tr>\n",
       "        \n",
       "            <td style=\"text-align: left;\"><strong>Connection method:</strong> Cluster object</td>\n",
       "            <td style=\"text-align: left;\"><strong>Cluster type:</strong> dask_jobqueue.SLURMCluster</td>\n",
       "        \n",
       "        </tr>\n",
       "\n",
       "        \n",
       "            <tr>\n",
       "                <td style=\"text-align: left;\">\n",
       "                    <strong>Dashboard: </strong> <a href=\"/proxy/8787/status\" target=\"_blank\">/proxy/8787/status</a>\n",
       "                </td>\n",
       "                <td style=\"text-align: left;\"></td>\n",
       "            </tr>\n",
       "        \n",
       "\n",
       "        </table>\n",
       "\n",
       "        \n",
       "            <details>\n",
       "            <summary style=\"margin-bottom: 20px;\"><h3 style=\"display: inline;\">Cluster Info</h3></summary>\n",
       "            <div class=\"jp-RenderedHTMLCommon jp-RenderedHTML jp-mod-trusted jp-OutputArea-output\">\n",
       "    <div style=\"width: 24px; height: 24px; background-color: #e1e1e1; border: 3px solid #9D9D9D; border-radius: 5px; position: absolute;\">\n",
       "    </div>\n",
       "    <div style=\"margin-left: 48px;\">\n",
       "        <h3 style=\"margin-bottom: 0px; margin-top: 0px;\">SLURMCluster</h3>\n",
       "        <p style=\"color: #9D9D9D; margin-bottom: 0px;\">cc7fbb84</p>\n",
       "        <table style=\"width: 100%; text-align: left;\">\n",
       "            <tr>\n",
       "                <td style=\"text-align: left;\">\n",
       "                    <strong>Dashboard:</strong> <a href=\"/proxy/8787/status\" target=\"_blank\">/proxy/8787/status</a>\n",
       "                </td>\n",
       "                <td style=\"text-align: left;\">\n",
       "                    <strong>Workers:</strong> 0\n",
       "                </td>\n",
       "            </tr>\n",
       "            <tr>\n",
       "                <td style=\"text-align: left;\">\n",
       "                    <strong>Total threads:</strong> 0\n",
       "                </td>\n",
       "                <td style=\"text-align: left;\">\n",
       "                    <strong>Total memory:</strong> 0 B\n",
       "                </td>\n",
       "            </tr>\n",
       "            \n",
       "        </table>\n",
       "\n",
       "        <details>\n",
       "            <summary style=\"margin-bottom: 20px;\">\n",
       "                <h3 style=\"display: inline;\">Scheduler Info</h3>\n",
       "            </summary>\n",
       "\n",
       "            <div style=\"\">\n",
       "    <div>\n",
       "        <div style=\"width: 24px; height: 24px; background-color: #FFF7E5; border: 3px solid #FF6132; border-radius: 5px; position: absolute;\"> </div>\n",
       "        <div style=\"margin-left: 48px;\">\n",
       "            <h3 style=\"margin-bottom: 0px;\">Scheduler</h3>\n",
       "            <p style=\"color: #9D9D9D; margin-bottom: 0px;\">Scheduler-bf943a21-8778-441d-96b3-920504a2cf13</p>\n",
       "            <table style=\"width: 100%; text-align: left;\">\n",
       "                <tr>\n",
       "                    <td style=\"text-align: left;\">\n",
       "                        <strong>Comm:</strong> tcp://10.0.128.155:38677\n",
       "                    </td>\n",
       "                    <td style=\"text-align: left;\">\n",
       "                        <strong>Workers:</strong> 0\n",
       "                    </td>\n",
       "                </tr>\n",
       "                <tr>\n",
       "                    <td style=\"text-align: left;\">\n",
       "                        <strong>Dashboard:</strong> <a href=\"/proxy/8787/status\" target=\"_blank\">/proxy/8787/status</a>\n",
       "                    </td>\n",
       "                    <td style=\"text-align: left;\">\n",
       "                        <strong>Total threads:</strong> 0\n",
       "                    </td>\n",
       "                </tr>\n",
       "                <tr>\n",
       "                    <td style=\"text-align: left;\">\n",
       "                        <strong>Started:</strong> 2 minutes ago\n",
       "                    </td>\n",
       "                    <td style=\"text-align: left;\">\n",
       "                        <strong>Total memory:</strong> 0 B\n",
       "                    </td>\n",
       "                </tr>\n",
       "            </table>\n",
       "        </div>\n",
       "    </div>\n",
       "\n",
       "    <details style=\"margin-left: 48px;\">\n",
       "        <summary style=\"margin-bottom: 20px;\">\n",
       "            <h3 style=\"display: inline;\">Workers</h3>\n",
       "        </summary>\n",
       "\n",
       "        \n",
       "\n",
       "    </details>\n",
       "</div>\n",
       "\n",
       "        </details>\n",
       "    </div>\n",
       "</div>\n",
       "            </details>\n",
       "        \n",
       "\n",
       "    </div>\n",
       "</div>"
      ],
      "text/plain": [
       "<Client: 'tcp://10.0.128.155:38677' processes=0 threads=0, memory=0 B>"
      ]
     },
     "execution_count": 19,
     "metadata": {},
     "output_type": "execute_result"
    }
   ],
   "source": [
    "client"
   ]
  },
  {
   "cell_type": "code",
   "execution_count": 25,
   "id": "8131b889-dd82-4658-af4c-66f00e8c5c7e",
   "metadata": {},
   "outputs": [],
   "source": [
    "cluster.scale(cores = 0)"
   ]
  },
  {
   "cell_type": "code",
   "execution_count": 26,
   "id": "7d7d7396-8d4c-4e94-a6aa-ff99210a5dbb",
   "metadata": {},
   "outputs": [
    {
     "name": "stdout",
     "output_type": "stream",
     "text": [
      "             JOBID PARTITION     NAME     USER ST       TIME  NODES NODELIST(REASON)\n",
      "              7252      main dask-wor   ad9701 CG       7:50      1 ood-n4\n",
      "              7253      main dask-wor   ad9701 CG       7:50      1 ood-n5\n",
      "              7227       vdi sys/dash   ad9701  R    1:30:08      1 ood-vn27\n"
     ]
    }
   ],
   "source": [
    "! squeue -u ad9701"
   ]
  },
  {
   "cell_type": "code",
   "execution_count": 7,
   "id": "c0f0e196-8ca2-44bc-a2fb-006e89ab2f71",
   "metadata": {},
   "outputs": [],
   "source": [
    "cluster.scale(cores = 0)"
   ]
  },
  {
   "cell_type": "code",
   "execution_count": 2,
   "id": "61733857-91bd-4816-ad83-abf5491c650e",
   "metadata": {
    "tags": []
   },
   "outputs": [],
   "source": [
    "import sys\n",
    "new_path = '/home/566/ad9701/drought_probability/'\n",
    "if new_path not in sys.path:\n",
    "    sys.path.append(new_path)\n",
    "\n",
    "import xarray as xr\n",
    "import numpy as np\n",
    "import my_data_process_funcs as my\n",
    "\n",
    "# creating information required for weekly accumulations\n",
    "week_names = list(np.arange(2, 13, 2))\n",
    "ndays = list(np.arange(14, 13*14, 14))\n",
    "start_day = ['1911-01-02'] * len(week_names)\n",
    "\n",
    "end_day = [#'2020-05-31',   #1\n",
    "           '2020-05-24',   #2\n",
    "           #'2020-05-31',   #3\n",
    "           '2020-05-24',   #4\n",
    "           '2020-05-10',   #6\n",
    "           '2020-04-26',   #8\n",
    "           '2020-03-29',   #10\n",
    "           '2020-03-29'    #12\n",
    "          ]\n",
    "time_chunk = [#364,   #1 \n",
    "              378,   #2\n",
    "              #378,   #3\n",
    "              336,   #4\n",
    "              378,   #6\n",
    "              336,   #8\n",
    "              350,   #10\n",
    "              336    #12\n",
    "             ]\n",
    "\n",
    "day_len_dict = dict(zip(week_names, ndays))\n",
    "start_day_dict = dict(zip(week_names, start_day))\n",
    "end_day_dict = dict(zip(week_names, end_day))\n",
    "time_chunk_dict = dict(zip(week_names, time_chunk))\n",
    "\n",
    "data_names = ['day_len', 'start_day', 'end_day', 'time_chunk']\n",
    "values = [day_len_dict, start_day_dict, end_day_dict, time_chunk_dict]\n",
    "allWeek_dict = dict(zip(data_names, values))"
   ]
  },
  {
   "cell_type": "code",
   "execution_count": null,
   "id": "45388496-6c55-4514-87b0-7eaebe5fe5c5",
   "metadata": {},
   "outputs": [],
   "source": [
    "out_dir = '/g/data/w97/ad9701/p_prob_analysis/weekly_data/awra/'\n",
    "sub_dir = \"/set1\"\n",
    "\n",
    "for i in range(2, 13, 3): #[2, 6, 8, 12]:\n",
    "    temp = my.calc_agcd_accum(nWeek = i, allWeek_dict = allWeek_dict, out_dir = out_dir, sub_dir = sub_dir)\n",
    "    # temp = my.calc_awra_accum(nWeek = i, allWeek_dict = allWeek_dict, file_names = file_names, var_name = var_name, out_dir = out_dir, sub_dir = sub_dir)"
   ]
  },
  {
   "cell_type": "code",
   "execution_count": null,
   "id": "c612c654-dd73-4cbd-904a-f2b9987bb334",
   "metadata": {},
   "outputs": [],
   "source": [
    "var_name = 'qtot'\n",
    "file_names = 'qtot_*.nc'\n",
    "for i in range(2, 13, 3): #[2, 6, 8, 12]:\n",
    "    temp = my.calc_agcd_accum(nWeek = i, allWeek_dict = allWeek_dict, out_dir = out_dir, sub_dir = sub_dir)\n",
    "    # temp = my.calc_awra_accum(nWeek = i, allWeek_dict = allWeek_dict, file_names = file_names, var_name = var_name, out_dir = out_dir, sub_dir = sub_dir)"
   ]
  },
  {
   "cell_type": "code",
   "execution_count": 3,
   "id": "7aa6acae-a5eb-4acc-9418-ed0de6a066cd",
   "metadata": {},
   "outputs": [],
   "source": [
    "# Using the same workflow to generate data for alternate accumulations for the smaller SE AU data\n",
    "\n",
    "allWeek_allSets = {}\n",
    "for i in range(2, 13, 2):\n",
    "    field = 'week' + str(i) + '_sets'\n",
    "    allWeek_allSets.update({field: my.create_week_sets(nWeek = i, allWeek_dict = allWeek_dict)})\n",
    "\n",
    "sub_dir_names = []\n",
    "for i in range(2, 2+len(allWeek_allSets['week2_sets'])):\n",
    "    #print('/set' + str(i))\n",
    "    sub_dir_names.append('/set' + str(i))\n",
    "\n",
    "out_dir = '/g/data/w97/ad9701/p_prob_analysis/temp_files/'\n",
    "\n",
    "lat_slice = slice(-39, -32)\n",
    "lon_slice = slice(139, 152)\n",
    "\n",
    "from dask import delayed\n",
    "\n",
    "for iWeek in [2]: #[2, 6, 8, 12]:\n",
    "    for iSet in range(2, len(allWeek_allSets['week' + str(iWeek) + '_sets'])):\n",
    "        set_dict = allWeek_allSets['week' + str(iWeek) + '_sets'][iSet]\n",
    "        # delayed(add)(x, y)\n",
    "        temp = delayed(my.calc_agcd_accum)(nWeek = iWeek, allWeek_dict = set_dict, out_dir = out_dir, sub_dir = sub_dir_names[iSet], lat_slice = lat_slice, lon_slice = lon_slice)\n",
    "        # temp = my.calc_awra_accum(nWeek = i, allWeek_dict = allWeek_dict, file_names = file_names, var_name = var_name, out_dir = out_dir, sub_dir = sub_dir)"
   ]
  },
  {
   "cell_type": "code",
   "execution_count": 3,
   "id": "558954eb-0c9f-40c8-9287-8b3cf48d0404",
   "metadata": {},
   "outputs": [
    {
     "name": "stdout",
     "output_type": "stream",
     "text": [
      "/g/data/w97/ad9701/p_prob_analysis/temp_files/P_week2/set4\n"
     ]
    }
   ],
   "source": [
    "from dask import delayed\n",
    "import climtas\n",
    "import os\n",
    "import datetime\n",
    "\n",
    "allWeek_allSets = {}\n",
    "for i in range(2, 13, 2):\n",
    "    field = 'week' + str(i) + '_sets'\n",
    "    allWeek_allSets.update({field: my.create_week_sets(nWeek = i, allWeek_dict = allWeek_dict)})\n",
    "\n",
    "sub_dir_names = []\n",
    "for i in range(2, 2+len(allWeek_allSets['week2_sets'])):\n",
    "    #print('/set' + str(i))\n",
    "    sub_dir_names.append('/set' + str(i))\n",
    "\n",
    "iWeek = 2\n",
    "iSet = 2\n",
    "nWeek = iWeek\n",
    "allWeek_dict = allWeek_allSets['week' + str(iWeek) + '_sets'][iSet]\n",
    "out_dir = '/g/data/w97/ad9701/p_prob_analysis/temp_files/'\n",
    "sub_dir = sub_dir_names[iSet]\n",
    "agcd_dir = '/g/data/zv2/agcd/v1/precip/total/r005/01day/'\n",
    "agcd_files = 'agcd_v1_precip_total_r005_daily_*.nc'\n",
    "lat_slice = slice(-39, -32)\n",
    "lon_slice = slice(139, 152)\n",
    "\n",
    "ds_agcd = xr.open_mfdataset(agcd_dir + agcd_files) #, chunks = {'lat':400,'lon':400})\n",
    "\n",
    "time_slice = slice(allWeek_dict['start_day'][nWeek], allWeek_dict['end_day'][nWeek])\n",
    "time_chunk_dict = {'time':allWeek_dict['time_chunk'][nWeek]}\n",
    "da_P = ds_agcd['precip'].sel(lat = lat_slice, lon = lon_slice, time = time_slice).chunk(chunks = time_chunk_dict)  # time needs to be rechunked for blocked_resample operation\n",
    "da_P_accum = climtas.blocked.blocked_resample(da_P, time = 7*nWeek).sum()\n",
    "\n",
    "full_dir_path = out_dir + 'P_week' + str(nWeek) + sub_dir\n",
    "print(full_dir_path)\n",
    "if not os.path.exists(full_dir_path):\n",
    "    os.makedirs(full_dir_path)\n",
    "\n",
    "# for year, data in da_P_accum.groupby('time.year'):\n",
    "#     print('Writing file:' + str(year))\n",
    "#     out_file = full_dir_path + '/P_week' + str(nWeek) + '_SEA_' + str(year) + '.nc'\n",
    "#     delayed(climtas.io.to_netcdf_throttled)(data, f'{out_file}')#.compute()\n",
    "\n",
    "# z.compute()"
   ]
  },
  {
   "cell_type": "code",
   "execution_count": 5,
   "id": "d4a4604e-cdca-4880-b24b-4fadac1d79be",
   "metadata": {},
   "outputs": [
    {
     "data": {
      "text/html": [
       "<div><svg style=\"position: absolute; width: 0; height: 0; overflow: hidden\">\n",
       "<defs>\n",
       "<symbol id=\"icon-database\" viewBox=\"0 0 32 32\">\n",
       "<path d=\"M16 0c-8.837 0-16 2.239-16 5v4c0 2.761 7.163 5 16 5s16-2.239 16-5v-4c0-2.761-7.163-5-16-5z\"></path>\n",
       "<path d=\"M16 17c-8.837 0-16-2.239-16-5v6c0 2.761 7.163 5 16 5s16-2.239 16-5v-6c0 2.761-7.163 5-16 5z\"></path>\n",
       "<path d=\"M16 26c-8.837 0-16-2.239-16-5v6c0 2.761 7.163 5 16 5s16-2.239 16-5v-6c0 2.761-7.163 5-16 5z\"></path>\n",
       "</symbol>\n",
       "<symbol id=\"icon-file-text2\" viewBox=\"0 0 32 32\">\n",
       "<path d=\"M28.681 7.159c-0.694-0.947-1.662-2.053-2.724-3.116s-2.169-2.030-3.116-2.724c-1.612-1.182-2.393-1.319-2.841-1.319h-15.5c-1.378 0-2.5 1.121-2.5 2.5v27c0 1.378 1.122 2.5 2.5 2.5h23c1.378 0 2.5-1.122 2.5-2.5v-19.5c0-0.448-0.137-1.23-1.319-2.841zM24.543 5.457c0.959 0.959 1.712 1.825 2.268 2.543h-4.811v-4.811c0.718 0.556 1.584 1.309 2.543 2.268zM28 29.5c0 0.271-0.229 0.5-0.5 0.5h-23c-0.271 0-0.5-0.229-0.5-0.5v-27c0-0.271 0.229-0.5 0.5-0.5 0 0 15.499-0 15.5 0v7c0 0.552 0.448 1 1 1h7v19.5z\"></path>\n",
       "<path d=\"M23 26h-14c-0.552 0-1-0.448-1-1s0.448-1 1-1h14c0.552 0 1 0.448 1 1s-0.448 1-1 1z\"></path>\n",
       "<path d=\"M23 22h-14c-0.552 0-1-0.448-1-1s0.448-1 1-1h14c0.552 0 1 0.448 1 1s-0.448 1-1 1z\"></path>\n",
       "<path d=\"M23 18h-14c-0.552 0-1-0.448-1-1s0.448-1 1-1h14c0.552 0 1 0.448 1 1s-0.448 1-1 1z\"></path>\n",
       "</symbol>\n",
       "</defs>\n",
       "</svg>\n",
       "<style>/* CSS stylesheet for displaying xarray objects in jupyterlab.\n",
       " *\n",
       " */\n",
       "\n",
       ":root {\n",
       "  --xr-font-color0: var(--jp-content-font-color0, rgba(0, 0, 0, 1));\n",
       "  --xr-font-color2: var(--jp-content-font-color2, rgba(0, 0, 0, 0.54));\n",
       "  --xr-font-color3: var(--jp-content-font-color3, rgba(0, 0, 0, 0.38));\n",
       "  --xr-border-color: var(--jp-border-color2, #e0e0e0);\n",
       "  --xr-disabled-color: var(--jp-layout-color3, #bdbdbd);\n",
       "  --xr-background-color: var(--jp-layout-color0, white);\n",
       "  --xr-background-color-row-even: var(--jp-layout-color1, white);\n",
       "  --xr-background-color-row-odd: var(--jp-layout-color2, #eeeeee);\n",
       "}\n",
       "\n",
       "html[theme=dark],\n",
       "body.vscode-dark {\n",
       "  --xr-font-color0: rgba(255, 255, 255, 1);\n",
       "  --xr-font-color2: rgba(255, 255, 255, 0.54);\n",
       "  --xr-font-color3: rgba(255, 255, 255, 0.38);\n",
       "  --xr-border-color: #1F1F1F;\n",
       "  --xr-disabled-color: #515151;\n",
       "  --xr-background-color: #111111;\n",
       "  --xr-background-color-row-even: #111111;\n",
       "  --xr-background-color-row-odd: #313131;\n",
       "}\n",
       "\n",
       ".xr-wrap {\n",
       "  display: block;\n",
       "  min-width: 300px;\n",
       "  max-width: 700px;\n",
       "}\n",
       "\n",
       ".xr-text-repr-fallback {\n",
       "  /* fallback to plain text repr when CSS is not injected (untrusted notebook) */\n",
       "  display: none;\n",
       "}\n",
       "\n",
       ".xr-header {\n",
       "  padding-top: 6px;\n",
       "  padding-bottom: 6px;\n",
       "  margin-bottom: 4px;\n",
       "  border-bottom: solid 1px var(--xr-border-color);\n",
       "}\n",
       "\n",
       ".xr-header > div,\n",
       ".xr-header > ul {\n",
       "  display: inline;\n",
       "  margin-top: 0;\n",
       "  margin-bottom: 0;\n",
       "}\n",
       "\n",
       ".xr-obj-type,\n",
       ".xr-array-name {\n",
       "  margin-left: 2px;\n",
       "  margin-right: 10px;\n",
       "}\n",
       "\n",
       ".xr-obj-type {\n",
       "  color: var(--xr-font-color2);\n",
       "}\n",
       "\n",
       ".xr-sections {\n",
       "  padding-left: 0 !important;\n",
       "  display: grid;\n",
       "  grid-template-columns: 150px auto auto 1fr 20px 20px;\n",
       "}\n",
       "\n",
       ".xr-section-item {\n",
       "  display: contents;\n",
       "}\n",
       "\n",
       ".xr-section-item input {\n",
       "  display: none;\n",
       "}\n",
       "\n",
       ".xr-section-item input + label {\n",
       "  color: var(--xr-disabled-color);\n",
       "}\n",
       "\n",
       ".xr-section-item input:enabled + label {\n",
       "  cursor: pointer;\n",
       "  color: var(--xr-font-color2);\n",
       "}\n",
       "\n",
       ".xr-section-item input:enabled + label:hover {\n",
       "  color: var(--xr-font-color0);\n",
       "}\n",
       "\n",
       ".xr-section-summary {\n",
       "  grid-column: 1;\n",
       "  color: var(--xr-font-color2);\n",
       "  font-weight: 500;\n",
       "}\n",
       "\n",
       ".xr-section-summary > span {\n",
       "  display: inline-block;\n",
       "  padding-left: 0.5em;\n",
       "}\n",
       "\n",
       ".xr-section-summary-in:disabled + label {\n",
       "  color: var(--xr-font-color2);\n",
       "}\n",
       "\n",
       ".xr-section-summary-in + label:before {\n",
       "  display: inline-block;\n",
       "  content: '►';\n",
       "  font-size: 11px;\n",
       "  width: 15px;\n",
       "  text-align: center;\n",
       "}\n",
       "\n",
       ".xr-section-summary-in:disabled + label:before {\n",
       "  color: var(--xr-disabled-color);\n",
       "}\n",
       "\n",
       ".xr-section-summary-in:checked + label:before {\n",
       "  content: '▼';\n",
       "}\n",
       "\n",
       ".xr-section-summary-in:checked + label > span {\n",
       "  display: none;\n",
       "}\n",
       "\n",
       ".xr-section-summary,\n",
       ".xr-section-inline-details {\n",
       "  padding-top: 4px;\n",
       "  padding-bottom: 4px;\n",
       "}\n",
       "\n",
       ".xr-section-inline-details {\n",
       "  grid-column: 2 / -1;\n",
       "}\n",
       "\n",
       ".xr-section-details {\n",
       "  display: none;\n",
       "  grid-column: 1 / -1;\n",
       "  margin-bottom: 5px;\n",
       "}\n",
       "\n",
       ".xr-section-summary-in:checked ~ .xr-section-details {\n",
       "  display: contents;\n",
       "}\n",
       "\n",
       ".xr-array-wrap {\n",
       "  grid-column: 1 / -1;\n",
       "  display: grid;\n",
       "  grid-template-columns: 20px auto;\n",
       "}\n",
       "\n",
       ".xr-array-wrap > label {\n",
       "  grid-column: 1;\n",
       "  vertical-align: top;\n",
       "}\n",
       "\n",
       ".xr-preview {\n",
       "  color: var(--xr-font-color3);\n",
       "}\n",
       "\n",
       ".xr-array-preview,\n",
       ".xr-array-data {\n",
       "  padding: 0 5px !important;\n",
       "  grid-column: 2;\n",
       "}\n",
       "\n",
       ".xr-array-data,\n",
       ".xr-array-in:checked ~ .xr-array-preview {\n",
       "  display: none;\n",
       "}\n",
       "\n",
       ".xr-array-in:checked ~ .xr-array-data,\n",
       ".xr-array-preview {\n",
       "  display: inline-block;\n",
       "}\n",
       "\n",
       ".xr-dim-list {\n",
       "  display: inline-block !important;\n",
       "  list-style: none;\n",
       "  padding: 0 !important;\n",
       "  margin: 0;\n",
       "}\n",
       "\n",
       ".xr-dim-list li {\n",
       "  display: inline-block;\n",
       "  padding: 0;\n",
       "  margin: 0;\n",
       "}\n",
       "\n",
       ".xr-dim-list:before {\n",
       "  content: '(';\n",
       "}\n",
       "\n",
       ".xr-dim-list:after {\n",
       "  content: ')';\n",
       "}\n",
       "\n",
       ".xr-dim-list li:not(:last-child):after {\n",
       "  content: ',';\n",
       "  padding-right: 5px;\n",
       "}\n",
       "\n",
       ".xr-has-index {\n",
       "  font-weight: bold;\n",
       "}\n",
       "\n",
       ".xr-var-list,\n",
       ".xr-var-item {\n",
       "  display: contents;\n",
       "}\n",
       "\n",
       ".xr-var-item > div,\n",
       ".xr-var-item label,\n",
       ".xr-var-item > .xr-var-name span {\n",
       "  background-color: var(--xr-background-color-row-even);\n",
       "  margin-bottom: 0;\n",
       "}\n",
       "\n",
       ".xr-var-item > .xr-var-name:hover span {\n",
       "  padding-right: 5px;\n",
       "}\n",
       "\n",
       ".xr-var-list > li:nth-child(odd) > div,\n",
       ".xr-var-list > li:nth-child(odd) > label,\n",
       ".xr-var-list > li:nth-child(odd) > .xr-var-name span {\n",
       "  background-color: var(--xr-background-color-row-odd);\n",
       "}\n",
       "\n",
       ".xr-var-name {\n",
       "  grid-column: 1;\n",
       "}\n",
       "\n",
       ".xr-var-dims {\n",
       "  grid-column: 2;\n",
       "}\n",
       "\n",
       ".xr-var-dtype {\n",
       "  grid-column: 3;\n",
       "  text-align: right;\n",
       "  color: var(--xr-font-color2);\n",
       "}\n",
       "\n",
       ".xr-var-preview {\n",
       "  grid-column: 4;\n",
       "}\n",
       "\n",
       ".xr-var-name,\n",
       ".xr-var-dims,\n",
       ".xr-var-dtype,\n",
       ".xr-preview,\n",
       ".xr-attrs dt {\n",
       "  white-space: nowrap;\n",
       "  overflow: hidden;\n",
       "  text-overflow: ellipsis;\n",
       "  padding-right: 10px;\n",
       "}\n",
       "\n",
       ".xr-var-name:hover,\n",
       ".xr-var-dims:hover,\n",
       ".xr-var-dtype:hover,\n",
       ".xr-attrs dt:hover {\n",
       "  overflow: visible;\n",
       "  width: auto;\n",
       "  z-index: 1;\n",
       "}\n",
       "\n",
       ".xr-var-attrs,\n",
       ".xr-var-data {\n",
       "  display: none;\n",
       "  background-color: var(--xr-background-color) !important;\n",
       "  padding-bottom: 5px !important;\n",
       "}\n",
       "\n",
       ".xr-var-attrs-in:checked ~ .xr-var-attrs,\n",
       ".xr-var-data-in:checked ~ .xr-var-data {\n",
       "  display: block;\n",
       "}\n",
       "\n",
       ".xr-var-data > table {\n",
       "  float: right;\n",
       "}\n",
       "\n",
       ".xr-var-name span,\n",
       ".xr-var-data,\n",
       ".xr-attrs {\n",
       "  padding-left: 25px !important;\n",
       "}\n",
       "\n",
       ".xr-attrs,\n",
       ".xr-var-attrs,\n",
       ".xr-var-data {\n",
       "  grid-column: 1 / -1;\n",
       "}\n",
       "\n",
       "dl.xr-attrs {\n",
       "  padding: 0;\n",
       "  margin: 0;\n",
       "  display: grid;\n",
       "  grid-template-columns: 125px auto;\n",
       "}\n",
       "\n",
       ".xr-attrs dt,\n",
       ".xr-attrs dd {\n",
       "  padding: 0;\n",
       "  margin: 0;\n",
       "  float: left;\n",
       "  padding-right: 10px;\n",
       "  width: auto;\n",
       "}\n",
       "\n",
       ".xr-attrs dt {\n",
       "  font-weight: normal;\n",
       "  grid-column: 1;\n",
       "}\n",
       "\n",
       ".xr-attrs dt:hover span {\n",
       "  display: inline-block;\n",
       "  background: var(--xr-background-color);\n",
       "  padding-right: 10px;\n",
       "}\n",
       "\n",
       ".xr-attrs dd {\n",
       "  grid-column: 2;\n",
       "  white-space: pre-wrap;\n",
       "  word-break: break-all;\n",
       "}\n",
       "\n",
       ".xr-icon-database,\n",
       ".xr-icon-file-text2 {\n",
       "  display: inline-block;\n",
       "  vertical-align: middle;\n",
       "  width: 1em;\n",
       "  height: 1.5em !important;\n",
       "  stroke-width: 0;\n",
       "  stroke: currentColor;\n",
       "  fill: currentColor;\n",
       "}\n",
       "</style><pre class='xr-text-repr-fallback'>&lt;xarray.DataArray &#x27;precip&#x27; (time: 2854, lat: 141, lon: 261)&gt;\n",
       "dask.array&lt;resample_op, shape=(2854, 141, 261), dtype=float32, chunksize=(27, 141, 261), chunktype=numpy.ndarray&gt;\n",
       "Coordinates:\n",
       "  * time     (time) datetime64[ns] 1911-01-05T09:00:00 ... 2020-05-14T09:00:00\n",
       "  * lat      (lat) float32 -39.0 -38.95 -38.9 -38.85 ... -32.1 -32.05 -32.0\n",
       "  * lon      (lon) float32 139.0 139.1 139.1 139.1 ... 151.9 151.9 151.9 152.0\n",
       "Attributes:\n",
       "    cell_methods:                  time: sum\n",
       "    units:                         mm\n",
       "    analysis_version_number:       3.01\n",
       "    long_name:                     Daily precipitation\n",
       "    number_of_stations_reporting:  2757\n",
       "    standard_name:                 lwe_thickness_of_precipitation_amount\n",
       "    frequency:                     daily\n",
       "    length_scale_for_analysis:     80.0\n",
       "    grid_mapping:                  crs\n",
       "    coverage_content_type:         physicalMeasurement\n",
       "    valid_range:                   [     0. 100000.]</pre><div class='xr-wrap' hidden><div class='xr-header'><div class='xr-obj-type'>xarray.DataArray</div><div class='xr-array-name'>'precip'</div><ul class='xr-dim-list'><li><span class='xr-has-index'>time</span>: 2854</li><li><span class='xr-has-index'>lat</span>: 141</li><li><span class='xr-has-index'>lon</span>: 261</li></ul></div><ul class='xr-sections'><li class='xr-section-item'><div class='xr-array-wrap'><input id='section-ed2c67d4-4d6e-41f9-b03d-cf8642804f2a' class='xr-array-in' type='checkbox' checked><label for='section-ed2c67d4-4d6e-41f9-b03d-cf8642804f2a' title='Show/hide data repr'><svg class='icon xr-icon-database'><use xlink:href='#icon-database'></use></svg></label><div class='xr-array-preview xr-preview'><span>dask.array&lt;chunksize=(27, 141, 261), meta=np.ndarray&gt;</span></div><div class='xr-array-data'><table>\n",
       "    <tr>\n",
       "        <td>\n",
       "            <table>\n",
       "                <thead>\n",
       "                    <tr>\n",
       "                        <td> </td>\n",
       "                        <th> Array </th>\n",
       "                        <th> Chunk </th>\n",
       "                    </tr>\n",
       "                </thead>\n",
       "                <tbody>\n",
       "                    \n",
       "                    <tr>\n",
       "                        <th> Bytes </th>\n",
       "                        <td> 400.66 MiB </td>\n",
       "                        <td> 3.79 MiB </td>\n",
       "                    </tr>\n",
       "                    \n",
       "                    <tr>\n",
       "                        <th> Shape </th>\n",
       "                        <td> (2854, 141, 261) </td>\n",
       "                        <td> (27, 141, 261) </td>\n",
       "                    </tr>\n",
       "                    <tr>\n",
       "                        <th> Count </th>\n",
       "                        <td> 893 Tasks </td>\n",
       "                        <td> 106 Chunks </td>\n",
       "                    </tr>\n",
       "                    <tr>\n",
       "                    <th> Type </th>\n",
       "                    <td> float32 </td>\n",
       "                    <td> numpy.ndarray </td>\n",
       "                    </tr>\n",
       "                </tbody>\n",
       "            </table>\n",
       "        </td>\n",
       "        <td>\n",
       "        <svg width=\"168\" height=\"155\" style=\"stroke:rgb(0,0,0);stroke-width:1\" >\n",
       "\n",
       "  <!-- Horizontal lines -->\n",
       "  <line x1=\"10\" y1=\"0\" x2=\"80\" y2=\"70\" style=\"stroke-width:2\" />\n",
       "  <line x1=\"10\" y1=\"34\" x2=\"80\" y2=\"105\" style=\"stroke-width:2\" />\n",
       "\n",
       "  <!-- Vertical lines -->\n",
       "  <line x1=\"10\" y1=\"0\" x2=\"10\" y2=\"34\" style=\"stroke-width:2\" />\n",
       "  <line x1=\"13\" y1=\"3\" x2=\"13\" y2=\"37\" />\n",
       "  <line x1=\"17\" y1=\"7\" x2=\"17\" y2=\"41\" />\n",
       "  <line x1=\"20\" y1=\"10\" x2=\"20\" y2=\"45\" />\n",
       "  <line x1=\"24\" y1=\"14\" x2=\"24\" y2=\"49\" />\n",
       "  <line x1=\"28\" y1=\"18\" x2=\"28\" y2=\"52\" />\n",
       "  <line x1=\"32\" y1=\"22\" x2=\"32\" y2=\"56\" />\n",
       "  <line x1=\"36\" y1=\"26\" x2=\"36\" y2=\"60\" />\n",
       "  <line x1=\"39\" y1=\"29\" x2=\"39\" y2=\"63\" />\n",
       "  <line x1=\"43\" y1=\"33\" x2=\"43\" y2=\"67\" />\n",
       "  <line x1=\"46\" y1=\"36\" x2=\"46\" y2=\"71\" />\n",
       "  <line x1=\"50\" y1=\"40\" x2=\"50\" y2=\"75\" />\n",
       "  <line x1=\"54\" y1=\"44\" x2=\"54\" y2=\"78\" />\n",
       "  <line x1=\"58\" y1=\"48\" x2=\"58\" y2=\"82\" />\n",
       "  <line x1=\"62\" y1=\"52\" x2=\"62\" y2=\"86\" />\n",
       "  <line x1=\"65\" y1=\"55\" x2=\"65\" y2=\"89\" />\n",
       "  <line x1=\"69\" y1=\"59\" x2=\"69\" y2=\"93\" />\n",
       "  <line x1=\"72\" y1=\"62\" x2=\"72\" y2=\"97\" />\n",
       "  <line x1=\"76\" y1=\"66\" x2=\"76\" y2=\"101\" />\n",
       "  <line x1=\"80\" y1=\"70\" x2=\"80\" y2=\"105\" style=\"stroke-width:2\" />\n",
       "\n",
       "  <!-- Colored Rectangle -->\n",
       "  <polygon points=\"10.0,0.0 80.58823529411765,70.58823529411765 80.58823529411765,105.01585733444425 10.0,34.4276220403266\" style=\"fill:#8B4903A0;stroke-width:0\"/>\n",
       "\n",
       "  <!-- Horizontal lines -->\n",
       "  <line x1=\"10\" y1=\"0\" x2=\"48\" y2=\"0\" style=\"stroke-width:2\" />\n",
       "  <line x1=\"13\" y1=\"3\" x2=\"51\" y2=\"3\" />\n",
       "  <line x1=\"17\" y1=\"7\" x2=\"55\" y2=\"7\" />\n",
       "  <line x1=\"20\" y1=\"10\" x2=\"58\" y2=\"10\" />\n",
       "  <line x1=\"24\" y1=\"14\" x2=\"62\" y2=\"14\" />\n",
       "  <line x1=\"28\" y1=\"18\" x2=\"66\" y2=\"18\" />\n",
       "  <line x1=\"32\" y1=\"22\" x2=\"70\" y2=\"22\" />\n",
       "  <line x1=\"36\" y1=\"26\" x2=\"74\" y2=\"26\" />\n",
       "  <line x1=\"39\" y1=\"29\" x2=\"77\" y2=\"29\" />\n",
       "  <line x1=\"43\" y1=\"33\" x2=\"81\" y2=\"33\" />\n",
       "  <line x1=\"46\" y1=\"36\" x2=\"84\" y2=\"36\" />\n",
       "  <line x1=\"50\" y1=\"40\" x2=\"88\" y2=\"40\" />\n",
       "  <line x1=\"54\" y1=\"44\" x2=\"92\" y2=\"44\" />\n",
       "  <line x1=\"58\" y1=\"48\" x2=\"96\" y2=\"48\" />\n",
       "  <line x1=\"62\" y1=\"52\" x2=\"100\" y2=\"52\" />\n",
       "  <line x1=\"65\" y1=\"55\" x2=\"103\" y2=\"55\" />\n",
       "  <line x1=\"69\" y1=\"59\" x2=\"107\" y2=\"59\" />\n",
       "  <line x1=\"72\" y1=\"62\" x2=\"110\" y2=\"62\" />\n",
       "  <line x1=\"76\" y1=\"66\" x2=\"114\" y2=\"66\" />\n",
       "  <line x1=\"80\" y1=\"70\" x2=\"118\" y2=\"70\" style=\"stroke-width:2\" />\n",
       "\n",
       "  <!-- Vertical lines -->\n",
       "  <line x1=\"10\" y1=\"0\" x2=\"80\" y2=\"70\" style=\"stroke-width:2\" />\n",
       "  <line x1=\"48\" y1=\"0\" x2=\"118\" y2=\"70\" style=\"stroke-width:2\" />\n",
       "\n",
       "  <!-- Colored Rectangle -->\n",
       "  <polygon points=\"10.0,0.0 48.0958593278108,0.0 118.68409462192845,70.58823529411765 80.58823529411765,70.58823529411765\" style=\"fill:#8B4903A0;stroke-width:0\"/>\n",
       "\n",
       "  <!-- Horizontal lines -->\n",
       "  <line x1=\"80\" y1=\"70\" x2=\"118\" y2=\"70\" style=\"stroke-width:2\" />\n",
       "  <line x1=\"80\" y1=\"105\" x2=\"118\" y2=\"105\" style=\"stroke-width:2\" />\n",
       "\n",
       "  <!-- Vertical lines -->\n",
       "  <line x1=\"80\" y1=\"70\" x2=\"80\" y2=\"105\" style=\"stroke-width:2\" />\n",
       "  <line x1=\"118\" y1=\"70\" x2=\"118\" y2=\"105\" style=\"stroke-width:2\" />\n",
       "\n",
       "  <!-- Colored Rectangle -->\n",
       "  <polygon points=\"80.58823529411765,70.58823529411765 118.68409462192845,70.58823529411765 118.68409462192845,105.01585733444425 80.58823529411765,105.01585733444425\" style=\"fill:#ECB172A0;stroke-width:0\"/>\n",
       "\n",
       "  <!-- Text -->\n",
       "  <text x=\"99.636165\" y=\"125.015857\" font-size=\"1.0rem\" font-weight=\"100\" text-anchor=\"middle\" >261</text>\n",
       "  <text x=\"138.684095\" y=\"87.802046\" font-size=\"1.0rem\" font-weight=\"100\" text-anchor=\"middle\" transform=\"rotate(-90,138.684095,87.802046)\">141</text>\n",
       "  <text x=\"35.294118\" y=\"89.721740\" font-size=\"1.0rem\" font-weight=\"100\" text-anchor=\"middle\" transform=\"rotate(45,35.294118,89.721740)\">2854</text>\n",
       "</svg>\n",
       "        </td>\n",
       "    </tr>\n",
       "</table></div></div></li><li class='xr-section-item'><input id='section-957a2d47-e281-46f5-b116-0e755307f177' class='xr-section-summary-in' type='checkbox'  checked><label for='section-957a2d47-e281-46f5-b116-0e755307f177' class='xr-section-summary' >Coordinates: <span>(3)</span></label><div class='xr-section-inline-details'></div><div class='xr-section-details'><ul class='xr-var-list'><li class='xr-var-item'><div class='xr-var-name'><span class='xr-has-index'>time</span></div><div class='xr-var-dims'>(time)</div><div class='xr-var-dtype'>datetime64[ns]</div><div class='xr-var-preview xr-preview'>1911-01-05T09:00:00 ... 2020-05-...</div><input id='attrs-7e6a4550-062c-4e4c-9f1c-39c125d798c9' class='xr-var-attrs-in' type='checkbox' ><label for='attrs-7e6a4550-062c-4e4c-9f1c-39c125d798c9' title='Show/Hide attributes'><svg class='icon xr-icon-file-text2'><use xlink:href='#icon-file-text2'></use></svg></label><input id='data-7d6b33e4-459d-482a-a10e-91f5c2742dcb' class='xr-var-data-in' type='checkbox'><label for='data-7d6b33e4-459d-482a-a10e-91f5c2742dcb' title='Show/Hide data repr'><svg class='icon xr-icon-database'><use xlink:href='#icon-database'></use></svg></label><div class='xr-var-attrs'><dl class='xr-attrs'><dt><span>axis :</span></dt><dd>T</dd><dt><span>time_zone :</span></dt><dd>local time</dd><dt><span>bounds :</span></dt><dd>time_bnds</dd><dt><span>long_name :</span></dt><dd>time</dd></dl></div><div class='xr-var-data'><pre>array([&#x27;1911-01-05T09:00:00.000000000&#x27;, &#x27;1911-01-19T09:00:00.000000000&#x27;,\n",
       "       &#x27;1911-02-02T09:00:00.000000000&#x27;, ..., &#x27;2020-04-16T09:00:00.000000000&#x27;,\n",
       "       &#x27;2020-04-30T09:00:00.000000000&#x27;, &#x27;2020-05-14T09:00:00.000000000&#x27;],\n",
       "      dtype=&#x27;datetime64[ns]&#x27;)</pre></div></li><li class='xr-var-item'><div class='xr-var-name'><span class='xr-has-index'>lat</span></div><div class='xr-var-dims'>(lat)</div><div class='xr-var-dtype'>float32</div><div class='xr-var-preview xr-preview'>-39.0 -38.95 -38.9 ... -32.05 -32.0</div><input id='attrs-27edb7c8-ff46-4914-91af-b9b4af45b53e' class='xr-var-attrs-in' type='checkbox' ><label for='attrs-27edb7c8-ff46-4914-91af-b9b4af45b53e' title='Show/Hide attributes'><svg class='icon xr-icon-file-text2'><use xlink:href='#icon-file-text2'></use></svg></label><input id='data-48c0f9aa-f9bd-4096-82ce-6cd103810485' class='xr-var-data-in' type='checkbox'><label for='data-48c0f9aa-f9bd-4096-82ce-6cd103810485' title='Show/Hide data repr'><svg class='icon xr-icon-database'><use xlink:href='#icon-database'></use></svg></label><div class='xr-var-attrs'><dl class='xr-attrs'><dt><span>long_name :</span></dt><dd>latitude</dd><dt><span>standard_name :</span></dt><dd>latitude</dd><dt><span>units :</span></dt><dd>degrees_north</dd><dt><span>bounds :</span></dt><dd>lat_bnds</dd><dt><span>axis :</span></dt><dd>Y</dd></dl></div><div class='xr-var-data'><pre>array([-39.  , -38.95, -38.9 , -38.85, -38.8 , -38.75, -38.7 , -38.65, -38.6 ,\n",
       "       -38.55, -38.5 , -38.45, -38.4 , -38.35, -38.3 , -38.25, -38.2 , -38.15,\n",
       "       -38.1 , -38.05, -38.  , -37.95, -37.9 , -37.85, -37.8 , -37.75, -37.7 ,\n",
       "       -37.65, -37.6 , -37.55, -37.5 , -37.45, -37.4 , -37.35, -37.3 , -37.25,\n",
       "       -37.2 , -37.15, -37.1 , -37.05, -37.  , -36.95, -36.9 , -36.85, -36.8 ,\n",
       "       -36.75, -36.7 , -36.65, -36.6 , -36.55, -36.5 , -36.45, -36.4 , -36.35,\n",
       "       -36.3 , -36.25, -36.2 , -36.15, -36.1 , -36.05, -36.  , -35.95, -35.9 ,\n",
       "       -35.85, -35.8 , -35.75, -35.7 , -35.65, -35.6 , -35.55, -35.5 , -35.45,\n",
       "       -35.4 , -35.35, -35.3 , -35.25, -35.2 , -35.15, -35.1 , -35.05, -35.  ,\n",
       "       -34.95, -34.9 , -34.85, -34.8 , -34.75, -34.7 , -34.65, -34.6 , -34.55,\n",
       "       -34.5 , -34.45, -34.4 , -34.35, -34.3 , -34.25, -34.2 , -34.15, -34.1 ,\n",
       "       -34.05, -34.  , -33.95, -33.9 , -33.85, -33.8 , -33.75, -33.7 , -33.65,\n",
       "       -33.6 , -33.55, -33.5 , -33.45, -33.4 , -33.35, -33.3 , -33.25, -33.2 ,\n",
       "       -33.15, -33.1 , -33.05, -33.  , -32.95, -32.9 , -32.85, -32.8 , -32.75,\n",
       "       -32.7 , -32.65, -32.6 , -32.55, -32.5 , -32.45, -32.4 , -32.35, -32.3 ,\n",
       "       -32.25, -32.2 , -32.15, -32.1 , -32.05, -32.  ], dtype=float32)</pre></div></li><li class='xr-var-item'><div class='xr-var-name'><span class='xr-has-index'>lon</span></div><div class='xr-var-dims'>(lon)</div><div class='xr-var-dtype'>float32</div><div class='xr-var-preview xr-preview'>139.0 139.1 139.1 ... 151.9 152.0</div><input id='attrs-ff9c065d-7c78-4e31-a26b-21270c624b77' class='xr-var-attrs-in' type='checkbox' ><label for='attrs-ff9c065d-7c78-4e31-a26b-21270c624b77' title='Show/Hide attributes'><svg class='icon xr-icon-file-text2'><use xlink:href='#icon-file-text2'></use></svg></label><input id='data-5f4fef83-98a2-4fc8-a0fe-ae179857a0d6' class='xr-var-data-in' type='checkbox'><label for='data-5f4fef83-98a2-4fc8-a0fe-ae179857a0d6' title='Show/Hide data repr'><svg class='icon xr-icon-database'><use xlink:href='#icon-database'></use></svg></label><div class='xr-var-attrs'><dl class='xr-attrs'><dt><span>long_name :</span></dt><dd>longitude</dd><dt><span>standard_name :</span></dt><dd>longitude</dd><dt><span>units :</span></dt><dd>degrees_east</dd><dt><span>bounds :</span></dt><dd>lon_bnds</dd><dt><span>axis :</span></dt><dd>X</dd></dl></div><div class='xr-var-data'><pre>array([139.  , 139.05, 139.1 , ..., 151.9 , 151.95, 152.  ], dtype=float32)</pre></div></li></ul></div></li><li class='xr-section-item'><input id='section-9e74ab84-e6b2-4a43-baa6-7344253a2a40' class='xr-section-summary-in' type='checkbox'  ><label for='section-9e74ab84-e6b2-4a43-baa6-7344253a2a40' class='xr-section-summary' >Attributes: <span>(11)</span></label><div class='xr-section-inline-details'></div><div class='xr-section-details'><dl class='xr-attrs'><dt><span>cell_methods :</span></dt><dd>time: sum</dd><dt><span>units :</span></dt><dd>mm</dd><dt><span>analysis_version_number :</span></dt><dd>3.01</dd><dt><span>long_name :</span></dt><dd>Daily precipitation</dd><dt><span>number_of_stations_reporting :</span></dt><dd>2757</dd><dt><span>standard_name :</span></dt><dd>lwe_thickness_of_precipitation_amount</dd><dt><span>frequency :</span></dt><dd>daily</dd><dt><span>length_scale_for_analysis :</span></dt><dd>80.0</dd><dt><span>grid_mapping :</span></dt><dd>crs</dd><dt><span>coverage_content_type :</span></dt><dd>physicalMeasurement</dd><dt><span>valid_range :</span></dt><dd>[     0. 100000.]</dd></dl></div></li></ul></div></div>"
      ],
      "text/plain": [
       "<xarray.DataArray 'precip' (time: 2854, lat: 141, lon: 261)>\n",
       "dask.array<resample_op, shape=(2854, 141, 261), dtype=float32, chunksize=(27, 141, 261), chunktype=numpy.ndarray>\n",
       "Coordinates:\n",
       "  * time     (time) datetime64[ns] 1911-01-05T09:00:00 ... 2020-05-14T09:00:00\n",
       "  * lat      (lat) float32 -39.0 -38.95 -38.9 -38.85 ... -32.1 -32.05 -32.0\n",
       "  * lon      (lon) float32 139.0 139.1 139.1 139.1 ... 151.9 151.9 151.9 152.0\n",
       "Attributes:\n",
       "    cell_methods:                  time: sum\n",
       "    units:                         mm\n",
       "    analysis_version_number:       3.01\n",
       "    long_name:                     Daily precipitation\n",
       "    number_of_stations_reporting:  2757\n",
       "    standard_name:                 lwe_thickness_of_precipitation_amount\n",
       "    frequency:                     daily\n",
       "    length_scale_for_analysis:     80.0\n",
       "    grid_mapping:                  crs\n",
       "    coverage_content_type:         physicalMeasurement\n",
       "    valid_range:                   [     0. 100000.]"
      ]
     },
     "execution_count": 5,
     "metadata": {},
     "output_type": "execute_result"
    }
   ],
   "source": [
    "da_P_accum"
   ]
  },
  {
   "cell_type": "code",
   "execution_count": 6,
   "id": "db6fd463-d216-409e-a653-fcf541b71e29",
   "metadata": {},
   "outputs": [],
   "source": [
    "import itertools\n",
    "def split_by_chunks(dataset):\n",
    "    chunk_slices = {}\n",
    "    for dim, chunks in dataset.chunks.items():\n",
    "        slices = []\n",
    "        start = 0\n",
    "        for chunk in chunks:\n",
    "            if start >= dataset.sizes[dim]:\n",
    "                break\n",
    "            stop = start + chunk\n",
    "            slices.append(slice(start, stop))\n",
    "            start = stop\n",
    "        chunk_slices[dim] = slices\n",
    "    for slices in itertools.product(*chunk_slices.values()):\n",
    "        selection = dict(zip(chunk_slices.keys(), slices))\n",
    "        yield dataset[selection]\n",
    "        \n",
    "def create_filepath(ds, prefix='filename', root_path=\".\"):\n",
    "    \"\"\"\n",
    "    Generate a filepath when given an xarray dataset\n",
    "    \"\"\"\n",
    "    start = ds.time[0].dt.strftime(\"%Y-%m-%d\").data\n",
    "    end = ds.time[-1].dt.strftime(\"%Y-%m-%d\").data\n",
    "    # start = ds.time.data[0].strftime(\"%Y-%m-%d\")\n",
    "    # end = ds.time.data[-1].strftime(\"%Y-%m-%d\")\n",
    "    filepath = f'{root_path}/{prefix}_{start}_{end}.nc'\n",
    "    return filepath"
   ]
  },
  {
   "cell_type": "code",
   "execution_count": 7,
   "id": "dc81d7fb-3031-43a0-ac23-05392f8bc15f",
   "metadata": {},
   "outputs": [],
   "source": [
    "ds_P_accum = da_P_accum.to_dataset()\n",
    "datasets = list(split_by_chunks(ds_P_accum))"
   ]
  },
  {
   "cell_type": "code",
   "execution_count": 12,
   "id": "5f59b186-4505-4c6a-81b4-8b2968f6b6f9",
   "metadata": {},
   "outputs": [
    {
     "data": {
      "text/html": [
       "<div><svg style=\"position: absolute; width: 0; height: 0; overflow: hidden\">\n",
       "<defs>\n",
       "<symbol id=\"icon-database\" viewBox=\"0 0 32 32\">\n",
       "<path d=\"M16 0c-8.837 0-16 2.239-16 5v4c0 2.761 7.163 5 16 5s16-2.239 16-5v-4c0-2.761-7.163-5-16-5z\"></path>\n",
       "<path d=\"M16 17c-8.837 0-16-2.239-16-5v6c0 2.761 7.163 5 16 5s16-2.239 16-5v-6c0 2.761-7.163 5-16 5z\"></path>\n",
       "<path d=\"M16 26c-8.837 0-16-2.239-16-5v6c0 2.761 7.163 5 16 5s16-2.239 16-5v-6c0 2.761-7.163 5-16 5z\"></path>\n",
       "</symbol>\n",
       "<symbol id=\"icon-file-text2\" viewBox=\"0 0 32 32\">\n",
       "<path d=\"M28.681 7.159c-0.694-0.947-1.662-2.053-2.724-3.116s-2.169-2.030-3.116-2.724c-1.612-1.182-2.393-1.319-2.841-1.319h-15.5c-1.378 0-2.5 1.121-2.5 2.5v27c0 1.378 1.122 2.5 2.5 2.5h23c1.378 0 2.5-1.122 2.5-2.5v-19.5c0-0.448-0.137-1.23-1.319-2.841zM24.543 5.457c0.959 0.959 1.712 1.825 2.268 2.543h-4.811v-4.811c0.718 0.556 1.584 1.309 2.543 2.268zM28 29.5c0 0.271-0.229 0.5-0.5 0.5h-23c-0.271 0-0.5-0.229-0.5-0.5v-27c0-0.271 0.229-0.5 0.5-0.5 0 0 15.499-0 15.5 0v7c0 0.552 0.448 1 1 1h7v19.5z\"></path>\n",
       "<path d=\"M23 26h-14c-0.552 0-1-0.448-1-1s0.448-1 1-1h14c0.552 0 1 0.448 1 1s-0.448 1-1 1z\"></path>\n",
       "<path d=\"M23 22h-14c-0.552 0-1-0.448-1-1s0.448-1 1-1h14c0.552 0 1 0.448 1 1s-0.448 1-1 1z\"></path>\n",
       "<path d=\"M23 18h-14c-0.552 0-1-0.448-1-1s0.448-1 1-1h14c0.552 0 1 0.448 1 1s-0.448 1-1 1z\"></path>\n",
       "</symbol>\n",
       "</defs>\n",
       "</svg>\n",
       "<style>/* CSS stylesheet for displaying xarray objects in jupyterlab.\n",
       " *\n",
       " */\n",
       "\n",
       ":root {\n",
       "  --xr-font-color0: var(--jp-content-font-color0, rgba(0, 0, 0, 1));\n",
       "  --xr-font-color2: var(--jp-content-font-color2, rgba(0, 0, 0, 0.54));\n",
       "  --xr-font-color3: var(--jp-content-font-color3, rgba(0, 0, 0, 0.38));\n",
       "  --xr-border-color: var(--jp-border-color2, #e0e0e0);\n",
       "  --xr-disabled-color: var(--jp-layout-color3, #bdbdbd);\n",
       "  --xr-background-color: var(--jp-layout-color0, white);\n",
       "  --xr-background-color-row-even: var(--jp-layout-color1, white);\n",
       "  --xr-background-color-row-odd: var(--jp-layout-color2, #eeeeee);\n",
       "}\n",
       "\n",
       "html[theme=dark],\n",
       "body.vscode-dark {\n",
       "  --xr-font-color0: rgba(255, 255, 255, 1);\n",
       "  --xr-font-color2: rgba(255, 255, 255, 0.54);\n",
       "  --xr-font-color3: rgba(255, 255, 255, 0.38);\n",
       "  --xr-border-color: #1F1F1F;\n",
       "  --xr-disabled-color: #515151;\n",
       "  --xr-background-color: #111111;\n",
       "  --xr-background-color-row-even: #111111;\n",
       "  --xr-background-color-row-odd: #313131;\n",
       "}\n",
       "\n",
       ".xr-wrap {\n",
       "  display: block;\n",
       "  min-width: 300px;\n",
       "  max-width: 700px;\n",
       "}\n",
       "\n",
       ".xr-text-repr-fallback {\n",
       "  /* fallback to plain text repr when CSS is not injected (untrusted notebook) */\n",
       "  display: none;\n",
       "}\n",
       "\n",
       ".xr-header {\n",
       "  padding-top: 6px;\n",
       "  padding-bottom: 6px;\n",
       "  margin-bottom: 4px;\n",
       "  border-bottom: solid 1px var(--xr-border-color);\n",
       "}\n",
       "\n",
       ".xr-header > div,\n",
       ".xr-header > ul {\n",
       "  display: inline;\n",
       "  margin-top: 0;\n",
       "  margin-bottom: 0;\n",
       "}\n",
       "\n",
       ".xr-obj-type,\n",
       ".xr-array-name {\n",
       "  margin-left: 2px;\n",
       "  margin-right: 10px;\n",
       "}\n",
       "\n",
       ".xr-obj-type {\n",
       "  color: var(--xr-font-color2);\n",
       "}\n",
       "\n",
       ".xr-sections {\n",
       "  padding-left: 0 !important;\n",
       "  display: grid;\n",
       "  grid-template-columns: 150px auto auto 1fr 20px 20px;\n",
       "}\n",
       "\n",
       ".xr-section-item {\n",
       "  display: contents;\n",
       "}\n",
       "\n",
       ".xr-section-item input {\n",
       "  display: none;\n",
       "}\n",
       "\n",
       ".xr-section-item input + label {\n",
       "  color: var(--xr-disabled-color);\n",
       "}\n",
       "\n",
       ".xr-section-item input:enabled + label {\n",
       "  cursor: pointer;\n",
       "  color: var(--xr-font-color2);\n",
       "}\n",
       "\n",
       ".xr-section-item input:enabled + label:hover {\n",
       "  color: var(--xr-font-color0);\n",
       "}\n",
       "\n",
       ".xr-section-summary {\n",
       "  grid-column: 1;\n",
       "  color: var(--xr-font-color2);\n",
       "  font-weight: 500;\n",
       "}\n",
       "\n",
       ".xr-section-summary > span {\n",
       "  display: inline-block;\n",
       "  padding-left: 0.5em;\n",
       "}\n",
       "\n",
       ".xr-section-summary-in:disabled + label {\n",
       "  color: var(--xr-font-color2);\n",
       "}\n",
       "\n",
       ".xr-section-summary-in + label:before {\n",
       "  display: inline-block;\n",
       "  content: '►';\n",
       "  font-size: 11px;\n",
       "  width: 15px;\n",
       "  text-align: center;\n",
       "}\n",
       "\n",
       ".xr-section-summary-in:disabled + label:before {\n",
       "  color: var(--xr-disabled-color);\n",
       "}\n",
       "\n",
       ".xr-section-summary-in:checked + label:before {\n",
       "  content: '▼';\n",
       "}\n",
       "\n",
       ".xr-section-summary-in:checked + label > span {\n",
       "  display: none;\n",
       "}\n",
       "\n",
       ".xr-section-summary,\n",
       ".xr-section-inline-details {\n",
       "  padding-top: 4px;\n",
       "  padding-bottom: 4px;\n",
       "}\n",
       "\n",
       ".xr-section-inline-details {\n",
       "  grid-column: 2 / -1;\n",
       "}\n",
       "\n",
       ".xr-section-details {\n",
       "  display: none;\n",
       "  grid-column: 1 / -1;\n",
       "  margin-bottom: 5px;\n",
       "}\n",
       "\n",
       ".xr-section-summary-in:checked ~ .xr-section-details {\n",
       "  display: contents;\n",
       "}\n",
       "\n",
       ".xr-array-wrap {\n",
       "  grid-column: 1 / -1;\n",
       "  display: grid;\n",
       "  grid-template-columns: 20px auto;\n",
       "}\n",
       "\n",
       ".xr-array-wrap > label {\n",
       "  grid-column: 1;\n",
       "  vertical-align: top;\n",
       "}\n",
       "\n",
       ".xr-preview {\n",
       "  color: var(--xr-font-color3);\n",
       "}\n",
       "\n",
       ".xr-array-preview,\n",
       ".xr-array-data {\n",
       "  padding: 0 5px !important;\n",
       "  grid-column: 2;\n",
       "}\n",
       "\n",
       ".xr-array-data,\n",
       ".xr-array-in:checked ~ .xr-array-preview {\n",
       "  display: none;\n",
       "}\n",
       "\n",
       ".xr-array-in:checked ~ .xr-array-data,\n",
       ".xr-array-preview {\n",
       "  display: inline-block;\n",
       "}\n",
       "\n",
       ".xr-dim-list {\n",
       "  display: inline-block !important;\n",
       "  list-style: none;\n",
       "  padding: 0 !important;\n",
       "  margin: 0;\n",
       "}\n",
       "\n",
       ".xr-dim-list li {\n",
       "  display: inline-block;\n",
       "  padding: 0;\n",
       "  margin: 0;\n",
       "}\n",
       "\n",
       ".xr-dim-list:before {\n",
       "  content: '(';\n",
       "}\n",
       "\n",
       ".xr-dim-list:after {\n",
       "  content: ')';\n",
       "}\n",
       "\n",
       ".xr-dim-list li:not(:last-child):after {\n",
       "  content: ',';\n",
       "  padding-right: 5px;\n",
       "}\n",
       "\n",
       ".xr-has-index {\n",
       "  font-weight: bold;\n",
       "}\n",
       "\n",
       ".xr-var-list,\n",
       ".xr-var-item {\n",
       "  display: contents;\n",
       "}\n",
       "\n",
       ".xr-var-item > div,\n",
       ".xr-var-item label,\n",
       ".xr-var-item > .xr-var-name span {\n",
       "  background-color: var(--xr-background-color-row-even);\n",
       "  margin-bottom: 0;\n",
       "}\n",
       "\n",
       ".xr-var-item > .xr-var-name:hover span {\n",
       "  padding-right: 5px;\n",
       "}\n",
       "\n",
       ".xr-var-list > li:nth-child(odd) > div,\n",
       ".xr-var-list > li:nth-child(odd) > label,\n",
       ".xr-var-list > li:nth-child(odd) > .xr-var-name span {\n",
       "  background-color: var(--xr-background-color-row-odd);\n",
       "}\n",
       "\n",
       ".xr-var-name {\n",
       "  grid-column: 1;\n",
       "}\n",
       "\n",
       ".xr-var-dims {\n",
       "  grid-column: 2;\n",
       "}\n",
       "\n",
       ".xr-var-dtype {\n",
       "  grid-column: 3;\n",
       "  text-align: right;\n",
       "  color: var(--xr-font-color2);\n",
       "}\n",
       "\n",
       ".xr-var-preview {\n",
       "  grid-column: 4;\n",
       "}\n",
       "\n",
       ".xr-var-name,\n",
       ".xr-var-dims,\n",
       ".xr-var-dtype,\n",
       ".xr-preview,\n",
       ".xr-attrs dt {\n",
       "  white-space: nowrap;\n",
       "  overflow: hidden;\n",
       "  text-overflow: ellipsis;\n",
       "  padding-right: 10px;\n",
       "}\n",
       "\n",
       ".xr-var-name:hover,\n",
       ".xr-var-dims:hover,\n",
       ".xr-var-dtype:hover,\n",
       ".xr-attrs dt:hover {\n",
       "  overflow: visible;\n",
       "  width: auto;\n",
       "  z-index: 1;\n",
       "}\n",
       "\n",
       ".xr-var-attrs,\n",
       ".xr-var-data {\n",
       "  display: none;\n",
       "  background-color: var(--xr-background-color) !important;\n",
       "  padding-bottom: 5px !important;\n",
       "}\n",
       "\n",
       ".xr-var-attrs-in:checked ~ .xr-var-attrs,\n",
       ".xr-var-data-in:checked ~ .xr-var-data {\n",
       "  display: block;\n",
       "}\n",
       "\n",
       ".xr-var-data > table {\n",
       "  float: right;\n",
       "}\n",
       "\n",
       ".xr-var-name span,\n",
       ".xr-var-data,\n",
       ".xr-attrs {\n",
       "  padding-left: 25px !important;\n",
       "}\n",
       "\n",
       ".xr-attrs,\n",
       ".xr-var-attrs,\n",
       ".xr-var-data {\n",
       "  grid-column: 1 / -1;\n",
       "}\n",
       "\n",
       "dl.xr-attrs {\n",
       "  padding: 0;\n",
       "  margin: 0;\n",
       "  display: grid;\n",
       "  grid-template-columns: 125px auto;\n",
       "}\n",
       "\n",
       ".xr-attrs dt,\n",
       ".xr-attrs dd {\n",
       "  padding: 0;\n",
       "  margin: 0;\n",
       "  float: left;\n",
       "  padding-right: 10px;\n",
       "  width: auto;\n",
       "}\n",
       "\n",
       ".xr-attrs dt {\n",
       "  font-weight: normal;\n",
       "  grid-column: 1;\n",
       "}\n",
       "\n",
       ".xr-attrs dt:hover span {\n",
       "  display: inline-block;\n",
       "  background: var(--xr-background-color);\n",
       "  padding-right: 10px;\n",
       "}\n",
       "\n",
       ".xr-attrs dd {\n",
       "  grid-column: 2;\n",
       "  white-space: pre-wrap;\n",
       "  word-break: break-all;\n",
       "}\n",
       "\n",
       ".xr-icon-database,\n",
       ".xr-icon-file-text2 {\n",
       "  display: inline-block;\n",
       "  vertical-align: middle;\n",
       "  width: 1em;\n",
       "  height: 1.5em !important;\n",
       "  stroke-width: 0;\n",
       "  stroke: currentColor;\n",
       "  fill: currentColor;\n",
       "}\n",
       "</style><pre class='xr-text-repr-fallback'>&lt;xarray.DataArray &#x27;precip&#x27; (time: 2854, lat: 141, lon: 261)&gt;\n",
       "dask.array&lt;resample_op, shape=(2854, 141, 261), dtype=float32, chunksize=(27, 141, 261), chunktype=numpy.ndarray&gt;\n",
       "Coordinates:\n",
       "  * time     (time) datetime64[ns] 1911-01-05T09:00:00 ... 2020-05-14T09:00:00\n",
       "  * lat      (lat) float32 -39.0 -38.95 -38.9 -38.85 ... -32.1 -32.05 -32.0\n",
       "  * lon      (lon) float32 139.0 139.1 139.1 139.1 ... 151.9 151.9 151.9 152.0\n",
       "Attributes:\n",
       "    cell_methods:                  time: sum\n",
       "    units:                         mm\n",
       "    analysis_version_number:       3.01\n",
       "    long_name:                     Daily precipitation\n",
       "    number_of_stations_reporting:  2757\n",
       "    standard_name:                 lwe_thickness_of_precipitation_amount\n",
       "    frequency:                     daily\n",
       "    length_scale_for_analysis:     80.0\n",
       "    grid_mapping:                  crs\n",
       "    coverage_content_type:         physicalMeasurement\n",
       "    valid_range:                   [     0. 100000.]</pre><div class='xr-wrap' hidden><div class='xr-header'><div class='xr-obj-type'>xarray.DataArray</div><div class='xr-array-name'>'precip'</div><ul class='xr-dim-list'><li><span class='xr-has-index'>time</span>: 2854</li><li><span class='xr-has-index'>lat</span>: 141</li><li><span class='xr-has-index'>lon</span>: 261</li></ul></div><ul class='xr-sections'><li class='xr-section-item'><div class='xr-array-wrap'><input id='section-847689bc-d483-465d-8fe9-b30b7df5a338' class='xr-array-in' type='checkbox' checked><label for='section-847689bc-d483-465d-8fe9-b30b7df5a338' title='Show/hide data repr'><svg class='icon xr-icon-database'><use xlink:href='#icon-database'></use></svg></label><div class='xr-array-preview xr-preview'><span>dask.array&lt;chunksize=(27, 141, 261), meta=np.ndarray&gt;</span></div><div class='xr-array-data'><table>\n",
       "    <tr>\n",
       "        <td>\n",
       "            <table>\n",
       "                <thead>\n",
       "                    <tr>\n",
       "                        <td> </td>\n",
       "                        <th> Array </th>\n",
       "                        <th> Chunk </th>\n",
       "                    </tr>\n",
       "                </thead>\n",
       "                <tbody>\n",
       "                    \n",
       "                    <tr>\n",
       "                        <th> Bytes </th>\n",
       "                        <td> 400.66 MiB </td>\n",
       "                        <td> 3.79 MiB </td>\n",
       "                    </tr>\n",
       "                    \n",
       "                    <tr>\n",
       "                        <th> Shape </th>\n",
       "                        <td> (2854, 141, 261) </td>\n",
       "                        <td> (27, 141, 261) </td>\n",
       "                    </tr>\n",
       "                    <tr>\n",
       "                        <th> Count </th>\n",
       "                        <td> 893 Tasks </td>\n",
       "                        <td> 106 Chunks </td>\n",
       "                    </tr>\n",
       "                    <tr>\n",
       "                    <th> Type </th>\n",
       "                    <td> float32 </td>\n",
       "                    <td> numpy.ndarray </td>\n",
       "                    </tr>\n",
       "                </tbody>\n",
       "            </table>\n",
       "        </td>\n",
       "        <td>\n",
       "        <svg width=\"168\" height=\"155\" style=\"stroke:rgb(0,0,0);stroke-width:1\" >\n",
       "\n",
       "  <!-- Horizontal lines -->\n",
       "  <line x1=\"10\" y1=\"0\" x2=\"80\" y2=\"70\" style=\"stroke-width:2\" />\n",
       "  <line x1=\"10\" y1=\"34\" x2=\"80\" y2=\"105\" style=\"stroke-width:2\" />\n",
       "\n",
       "  <!-- Vertical lines -->\n",
       "  <line x1=\"10\" y1=\"0\" x2=\"10\" y2=\"34\" style=\"stroke-width:2\" />\n",
       "  <line x1=\"13\" y1=\"3\" x2=\"13\" y2=\"37\" />\n",
       "  <line x1=\"17\" y1=\"7\" x2=\"17\" y2=\"41\" />\n",
       "  <line x1=\"20\" y1=\"10\" x2=\"20\" y2=\"45\" />\n",
       "  <line x1=\"24\" y1=\"14\" x2=\"24\" y2=\"49\" />\n",
       "  <line x1=\"28\" y1=\"18\" x2=\"28\" y2=\"52\" />\n",
       "  <line x1=\"32\" y1=\"22\" x2=\"32\" y2=\"56\" />\n",
       "  <line x1=\"36\" y1=\"26\" x2=\"36\" y2=\"60\" />\n",
       "  <line x1=\"39\" y1=\"29\" x2=\"39\" y2=\"63\" />\n",
       "  <line x1=\"43\" y1=\"33\" x2=\"43\" y2=\"67\" />\n",
       "  <line x1=\"46\" y1=\"36\" x2=\"46\" y2=\"71\" />\n",
       "  <line x1=\"50\" y1=\"40\" x2=\"50\" y2=\"75\" />\n",
       "  <line x1=\"54\" y1=\"44\" x2=\"54\" y2=\"78\" />\n",
       "  <line x1=\"58\" y1=\"48\" x2=\"58\" y2=\"82\" />\n",
       "  <line x1=\"62\" y1=\"52\" x2=\"62\" y2=\"86\" />\n",
       "  <line x1=\"65\" y1=\"55\" x2=\"65\" y2=\"89\" />\n",
       "  <line x1=\"69\" y1=\"59\" x2=\"69\" y2=\"93\" />\n",
       "  <line x1=\"72\" y1=\"62\" x2=\"72\" y2=\"97\" />\n",
       "  <line x1=\"76\" y1=\"66\" x2=\"76\" y2=\"101\" />\n",
       "  <line x1=\"80\" y1=\"70\" x2=\"80\" y2=\"105\" style=\"stroke-width:2\" />\n",
       "\n",
       "  <!-- Colored Rectangle -->\n",
       "  <polygon points=\"10.0,0.0 80.58823529411765,70.58823529411765 80.58823529411765,105.01585733444425 10.0,34.4276220403266\" style=\"fill:#8B4903A0;stroke-width:0\"/>\n",
       "\n",
       "  <!-- Horizontal lines -->\n",
       "  <line x1=\"10\" y1=\"0\" x2=\"48\" y2=\"0\" style=\"stroke-width:2\" />\n",
       "  <line x1=\"13\" y1=\"3\" x2=\"51\" y2=\"3\" />\n",
       "  <line x1=\"17\" y1=\"7\" x2=\"55\" y2=\"7\" />\n",
       "  <line x1=\"20\" y1=\"10\" x2=\"58\" y2=\"10\" />\n",
       "  <line x1=\"24\" y1=\"14\" x2=\"62\" y2=\"14\" />\n",
       "  <line x1=\"28\" y1=\"18\" x2=\"66\" y2=\"18\" />\n",
       "  <line x1=\"32\" y1=\"22\" x2=\"70\" y2=\"22\" />\n",
       "  <line x1=\"36\" y1=\"26\" x2=\"74\" y2=\"26\" />\n",
       "  <line x1=\"39\" y1=\"29\" x2=\"77\" y2=\"29\" />\n",
       "  <line x1=\"43\" y1=\"33\" x2=\"81\" y2=\"33\" />\n",
       "  <line x1=\"46\" y1=\"36\" x2=\"84\" y2=\"36\" />\n",
       "  <line x1=\"50\" y1=\"40\" x2=\"88\" y2=\"40\" />\n",
       "  <line x1=\"54\" y1=\"44\" x2=\"92\" y2=\"44\" />\n",
       "  <line x1=\"58\" y1=\"48\" x2=\"96\" y2=\"48\" />\n",
       "  <line x1=\"62\" y1=\"52\" x2=\"100\" y2=\"52\" />\n",
       "  <line x1=\"65\" y1=\"55\" x2=\"103\" y2=\"55\" />\n",
       "  <line x1=\"69\" y1=\"59\" x2=\"107\" y2=\"59\" />\n",
       "  <line x1=\"72\" y1=\"62\" x2=\"110\" y2=\"62\" />\n",
       "  <line x1=\"76\" y1=\"66\" x2=\"114\" y2=\"66\" />\n",
       "  <line x1=\"80\" y1=\"70\" x2=\"118\" y2=\"70\" style=\"stroke-width:2\" />\n",
       "\n",
       "  <!-- Vertical lines -->\n",
       "  <line x1=\"10\" y1=\"0\" x2=\"80\" y2=\"70\" style=\"stroke-width:2\" />\n",
       "  <line x1=\"48\" y1=\"0\" x2=\"118\" y2=\"70\" style=\"stroke-width:2\" />\n",
       "\n",
       "  <!-- Colored Rectangle -->\n",
       "  <polygon points=\"10.0,0.0 48.0958593278108,0.0 118.68409462192845,70.58823529411765 80.58823529411765,70.58823529411765\" style=\"fill:#8B4903A0;stroke-width:0\"/>\n",
       "\n",
       "  <!-- Horizontal lines -->\n",
       "  <line x1=\"80\" y1=\"70\" x2=\"118\" y2=\"70\" style=\"stroke-width:2\" />\n",
       "  <line x1=\"80\" y1=\"105\" x2=\"118\" y2=\"105\" style=\"stroke-width:2\" />\n",
       "\n",
       "  <!-- Vertical lines -->\n",
       "  <line x1=\"80\" y1=\"70\" x2=\"80\" y2=\"105\" style=\"stroke-width:2\" />\n",
       "  <line x1=\"118\" y1=\"70\" x2=\"118\" y2=\"105\" style=\"stroke-width:2\" />\n",
       "\n",
       "  <!-- Colored Rectangle -->\n",
       "  <polygon points=\"80.58823529411765,70.58823529411765 118.68409462192845,70.58823529411765 118.68409462192845,105.01585733444425 80.58823529411765,105.01585733444425\" style=\"fill:#ECB172A0;stroke-width:0\"/>\n",
       "\n",
       "  <!-- Text -->\n",
       "  <text x=\"99.636165\" y=\"125.015857\" font-size=\"1.0rem\" font-weight=\"100\" text-anchor=\"middle\" >261</text>\n",
       "  <text x=\"138.684095\" y=\"87.802046\" font-size=\"1.0rem\" font-weight=\"100\" text-anchor=\"middle\" transform=\"rotate(-90,138.684095,87.802046)\">141</text>\n",
       "  <text x=\"35.294118\" y=\"89.721740\" font-size=\"1.0rem\" font-weight=\"100\" text-anchor=\"middle\" transform=\"rotate(45,35.294118,89.721740)\">2854</text>\n",
       "</svg>\n",
       "        </td>\n",
       "    </tr>\n",
       "</table></div></div></li><li class='xr-section-item'><input id='section-34405be1-71f3-4bab-853d-d85a5e82c4a9' class='xr-section-summary-in' type='checkbox'  checked><label for='section-34405be1-71f3-4bab-853d-d85a5e82c4a9' class='xr-section-summary' >Coordinates: <span>(3)</span></label><div class='xr-section-inline-details'></div><div class='xr-section-details'><ul class='xr-var-list'><li class='xr-var-item'><div class='xr-var-name'><span class='xr-has-index'>time</span></div><div class='xr-var-dims'>(time)</div><div class='xr-var-dtype'>datetime64[ns]</div><div class='xr-var-preview xr-preview'>1911-01-05T09:00:00 ... 2020-05-...</div><input id='attrs-7eb3642b-abbf-4038-818d-a9bff5fb85ca' class='xr-var-attrs-in' type='checkbox' ><label for='attrs-7eb3642b-abbf-4038-818d-a9bff5fb85ca' title='Show/Hide attributes'><svg class='icon xr-icon-file-text2'><use xlink:href='#icon-file-text2'></use></svg></label><input id='data-7ec4f64b-2591-4e14-8980-9de027368b45' class='xr-var-data-in' type='checkbox'><label for='data-7ec4f64b-2591-4e14-8980-9de027368b45' title='Show/Hide data repr'><svg class='icon xr-icon-database'><use xlink:href='#icon-database'></use></svg></label><div class='xr-var-attrs'><dl class='xr-attrs'><dt><span>axis :</span></dt><dd>T</dd><dt><span>time_zone :</span></dt><dd>local time</dd><dt><span>bounds :</span></dt><dd>time_bnds</dd><dt><span>long_name :</span></dt><dd>time</dd></dl></div><div class='xr-var-data'><pre>array([&#x27;1911-01-05T09:00:00.000000000&#x27;, &#x27;1911-01-19T09:00:00.000000000&#x27;,\n",
       "       &#x27;1911-02-02T09:00:00.000000000&#x27;, ..., &#x27;2020-04-16T09:00:00.000000000&#x27;,\n",
       "       &#x27;2020-04-30T09:00:00.000000000&#x27;, &#x27;2020-05-14T09:00:00.000000000&#x27;],\n",
       "      dtype=&#x27;datetime64[ns]&#x27;)</pre></div></li><li class='xr-var-item'><div class='xr-var-name'><span class='xr-has-index'>lat</span></div><div class='xr-var-dims'>(lat)</div><div class='xr-var-dtype'>float32</div><div class='xr-var-preview xr-preview'>-39.0 -38.95 -38.9 ... -32.05 -32.0</div><input id='attrs-4b38f297-a76f-4786-9334-957d4aeae51b' class='xr-var-attrs-in' type='checkbox' ><label for='attrs-4b38f297-a76f-4786-9334-957d4aeae51b' title='Show/Hide attributes'><svg class='icon xr-icon-file-text2'><use xlink:href='#icon-file-text2'></use></svg></label><input id='data-8e59643b-117d-437a-9ba8-df476230dbb2' class='xr-var-data-in' type='checkbox'><label for='data-8e59643b-117d-437a-9ba8-df476230dbb2' title='Show/Hide data repr'><svg class='icon xr-icon-database'><use xlink:href='#icon-database'></use></svg></label><div class='xr-var-attrs'><dl class='xr-attrs'><dt><span>long_name :</span></dt><dd>latitude</dd><dt><span>standard_name :</span></dt><dd>latitude</dd><dt><span>units :</span></dt><dd>degrees_north</dd><dt><span>bounds :</span></dt><dd>lat_bnds</dd><dt><span>axis :</span></dt><dd>Y</dd></dl></div><div class='xr-var-data'><pre>array([-39.  , -38.95, -38.9 , -38.85, -38.8 , -38.75, -38.7 , -38.65, -38.6 ,\n",
       "       -38.55, -38.5 , -38.45, -38.4 , -38.35, -38.3 , -38.25, -38.2 , -38.15,\n",
       "       -38.1 , -38.05, -38.  , -37.95, -37.9 , -37.85, -37.8 , -37.75, -37.7 ,\n",
       "       -37.65, -37.6 , -37.55, -37.5 , -37.45, -37.4 , -37.35, -37.3 , -37.25,\n",
       "       -37.2 , -37.15, -37.1 , -37.05, -37.  , -36.95, -36.9 , -36.85, -36.8 ,\n",
       "       -36.75, -36.7 , -36.65, -36.6 , -36.55, -36.5 , -36.45, -36.4 , -36.35,\n",
       "       -36.3 , -36.25, -36.2 , -36.15, -36.1 , -36.05, -36.  , -35.95, -35.9 ,\n",
       "       -35.85, -35.8 , -35.75, -35.7 , -35.65, -35.6 , -35.55, -35.5 , -35.45,\n",
       "       -35.4 , -35.35, -35.3 , -35.25, -35.2 , -35.15, -35.1 , -35.05, -35.  ,\n",
       "       -34.95, -34.9 , -34.85, -34.8 , -34.75, -34.7 , -34.65, -34.6 , -34.55,\n",
       "       -34.5 , -34.45, -34.4 , -34.35, -34.3 , -34.25, -34.2 , -34.15, -34.1 ,\n",
       "       -34.05, -34.  , -33.95, -33.9 , -33.85, -33.8 , -33.75, -33.7 , -33.65,\n",
       "       -33.6 , -33.55, -33.5 , -33.45, -33.4 , -33.35, -33.3 , -33.25, -33.2 ,\n",
       "       -33.15, -33.1 , -33.05, -33.  , -32.95, -32.9 , -32.85, -32.8 , -32.75,\n",
       "       -32.7 , -32.65, -32.6 , -32.55, -32.5 , -32.45, -32.4 , -32.35, -32.3 ,\n",
       "       -32.25, -32.2 , -32.15, -32.1 , -32.05, -32.  ], dtype=float32)</pre></div></li><li class='xr-var-item'><div class='xr-var-name'><span class='xr-has-index'>lon</span></div><div class='xr-var-dims'>(lon)</div><div class='xr-var-dtype'>float32</div><div class='xr-var-preview xr-preview'>139.0 139.1 139.1 ... 151.9 152.0</div><input id='attrs-176ede6c-0dab-40a8-ac18-73ac1103b115' class='xr-var-attrs-in' type='checkbox' ><label for='attrs-176ede6c-0dab-40a8-ac18-73ac1103b115' title='Show/Hide attributes'><svg class='icon xr-icon-file-text2'><use xlink:href='#icon-file-text2'></use></svg></label><input id='data-a016e958-58e2-4a98-98a8-d90c5ec52650' class='xr-var-data-in' type='checkbox'><label for='data-a016e958-58e2-4a98-98a8-d90c5ec52650' title='Show/Hide data repr'><svg class='icon xr-icon-database'><use xlink:href='#icon-database'></use></svg></label><div class='xr-var-attrs'><dl class='xr-attrs'><dt><span>long_name :</span></dt><dd>longitude</dd><dt><span>standard_name :</span></dt><dd>longitude</dd><dt><span>units :</span></dt><dd>degrees_east</dd><dt><span>bounds :</span></dt><dd>lon_bnds</dd><dt><span>axis :</span></dt><dd>X</dd></dl></div><div class='xr-var-data'><pre>array([139.  , 139.05, 139.1 , ..., 151.9 , 151.95, 152.  ], dtype=float32)</pre></div></li></ul></div></li><li class='xr-section-item'><input id='section-54e82c47-315a-4efd-bd28-7178f204c9ed' class='xr-section-summary-in' type='checkbox'  ><label for='section-54e82c47-315a-4efd-bd28-7178f204c9ed' class='xr-section-summary' >Attributes: <span>(11)</span></label><div class='xr-section-inline-details'></div><div class='xr-section-details'><dl class='xr-attrs'><dt><span>cell_methods :</span></dt><dd>time: sum</dd><dt><span>units :</span></dt><dd>mm</dd><dt><span>analysis_version_number :</span></dt><dd>3.01</dd><dt><span>long_name :</span></dt><dd>Daily precipitation</dd><dt><span>number_of_stations_reporting :</span></dt><dd>2757</dd><dt><span>standard_name :</span></dt><dd>lwe_thickness_of_precipitation_amount</dd><dt><span>frequency :</span></dt><dd>daily</dd><dt><span>length_scale_for_analysis :</span></dt><dd>80.0</dd><dt><span>grid_mapping :</span></dt><dd>crs</dd><dt><span>coverage_content_type :</span></dt><dd>physicalMeasurement</dd><dt><span>valid_range :</span></dt><dd>[     0. 100000.]</dd></dl></div></li></ul></div></div>"
      ],
      "text/plain": [
       "<xarray.DataArray 'precip' (time: 2854, lat: 141, lon: 261)>\n",
       "dask.array<resample_op, shape=(2854, 141, 261), dtype=float32, chunksize=(27, 141, 261), chunktype=numpy.ndarray>\n",
       "Coordinates:\n",
       "  * time     (time) datetime64[ns] 1911-01-05T09:00:00 ... 2020-05-14T09:00:00\n",
       "  * lat      (lat) float32 -39.0 -38.95 -38.9 -38.85 ... -32.1 -32.05 -32.0\n",
       "  * lon      (lon) float32 139.0 139.1 139.1 139.1 ... 151.9 151.9 151.9 152.0\n",
       "Attributes:\n",
       "    cell_methods:                  time: sum\n",
       "    units:                         mm\n",
       "    analysis_version_number:       3.01\n",
       "    long_name:                     Daily precipitation\n",
       "    number_of_stations_reporting:  2757\n",
       "    standard_name:                 lwe_thickness_of_precipitation_amount\n",
       "    frequency:                     daily\n",
       "    length_scale_for_analysis:     80.0\n",
       "    grid_mapping:                  crs\n",
       "    coverage_content_type:         physicalMeasurement\n",
       "    valid_range:                   [     0. 100000.]"
      ]
     },
     "execution_count": 12,
     "metadata": {},
     "output_type": "execute_result"
    }
   ],
   "source": [
    "da_P_accum"
   ]
  },
  {
   "cell_type": "code",
   "execution_count": 9,
   "id": "0a2c553e-f535-4f40-867a-31f9572a9ed9",
   "metadata": {},
   "outputs": [
    {
     "data": {
      "text/plain": [
       "106"
      ]
     },
     "execution_count": 9,
     "metadata": {},
     "output_type": "execute_result"
    }
   ],
   "source": [
    "len(datasets)"
   ]
  },
  {
   "cell_type": "code",
   "execution_count": 48,
   "id": "d33685a3-4b00-4aa8-90c1-f0924d560639",
   "metadata": {
    "tags": []
   },
   "outputs": [
    {
     "ename": "AssertionError",
     "evalue": "Left and right Dataset objects are not equal\nDiffering dimensions:\n    (time: 27, lat: 141, lon: 260) != (time: 27, lat: 141, lon: 1)\nDiffering coordinates:\nL * lon      (lon) float32 139.0 139.1 139.1 139.1 ... 151.8 151.9 151.9 151.9\nR * lon      (lon) float32 152.0\nDiffering data variables:\nL   precip   (time, lat, lon) float32 dask.array<chunksize=(27, 141, 260), meta=np.ndarray>\nR   precip   (time, lat, lon) float32 dask.array<chunksize=(27, 141, 1), meta=np.ndarray>",
     "output_type": "error",
     "traceback": [
      "\u001b[0;31m---------------------------------------------------------------------------\u001b[0m",
      "\u001b[0;31mAssertionError\u001b[0m                            Traceback (most recent call last)",
      "\u001b[0;32m/local/zv2/ad9701/tmp/ipykernel_3943607/729002568.py\u001b[0m in \u001b[0;36m<module>\u001b[0;34m\u001b[0m\n\u001b[0;32m----> 1\u001b[0;31m \u001b[0mxr\u001b[0m\u001b[0;34m.\u001b[0m\u001b[0mtesting\u001b[0m\u001b[0;34m.\u001b[0m\u001b[0massert_equal\u001b[0m\u001b[0;34m(\u001b[0m\u001b[0mdatasets\u001b[0m\u001b[0;34m[\u001b[0m\u001b[0;36m0\u001b[0m\u001b[0;34m]\u001b[0m\u001b[0;34m,\u001b[0m \u001b[0mdatasets\u001b[0m\u001b[0;34m[\u001b[0m\u001b[0;36m1\u001b[0m\u001b[0;34m]\u001b[0m\u001b[0;34m)\u001b[0m\u001b[0;34m\u001b[0m\u001b[0;34m\u001b[0m\u001b[0m\n\u001b[0m",
      "    \u001b[0;31m[... skipping hidden 1 frame]\u001b[0m\n",
      "\u001b[0;32m/g/data/hh5/public/apps/miniconda3/envs/analysis3-21.07/lib/python3.9/site-packages/xarray/testing.py\u001b[0m in \u001b[0;36massert_equal\u001b[0;34m(a, b)\u001b[0m\n\u001b[1;32m     81\u001b[0m         \u001b[0;32massert\u001b[0m \u001b[0ma\u001b[0m\u001b[0;34m.\u001b[0m\u001b[0mequals\u001b[0m\u001b[0;34m(\u001b[0m\u001b[0mb\u001b[0m\u001b[0;34m)\u001b[0m\u001b[0;34m,\u001b[0m \u001b[0mformatting\u001b[0m\u001b[0;34m.\u001b[0m\u001b[0mdiff_array_repr\u001b[0m\u001b[0;34m(\u001b[0m\u001b[0ma\u001b[0m\u001b[0;34m,\u001b[0m \u001b[0mb\u001b[0m\u001b[0;34m,\u001b[0m \u001b[0;34m\"equals\"\u001b[0m\u001b[0;34m)\u001b[0m\u001b[0;34m\u001b[0m\u001b[0;34m\u001b[0m\u001b[0m\n\u001b[1;32m     82\u001b[0m     \u001b[0;32melif\u001b[0m \u001b[0misinstance\u001b[0m\u001b[0;34m(\u001b[0m\u001b[0ma\u001b[0m\u001b[0;34m,\u001b[0m \u001b[0mDataset\u001b[0m\u001b[0;34m)\u001b[0m\u001b[0;34m:\u001b[0m\u001b[0;34m\u001b[0m\u001b[0;34m\u001b[0m\u001b[0m\n\u001b[0;32m---> 83\u001b[0;31m         \u001b[0;32massert\u001b[0m \u001b[0ma\u001b[0m\u001b[0;34m.\u001b[0m\u001b[0mequals\u001b[0m\u001b[0;34m(\u001b[0m\u001b[0mb\u001b[0m\u001b[0;34m)\u001b[0m\u001b[0;34m,\u001b[0m \u001b[0mformatting\u001b[0m\u001b[0;34m.\u001b[0m\u001b[0mdiff_dataset_repr\u001b[0m\u001b[0;34m(\u001b[0m\u001b[0ma\u001b[0m\u001b[0;34m,\u001b[0m \u001b[0mb\u001b[0m\u001b[0;34m,\u001b[0m \u001b[0;34m\"equals\"\u001b[0m\u001b[0;34m)\u001b[0m\u001b[0;34m\u001b[0m\u001b[0;34m\u001b[0m\u001b[0m\n\u001b[0m\u001b[1;32m     84\u001b[0m     \u001b[0;32melse\u001b[0m\u001b[0;34m:\u001b[0m\u001b[0;34m\u001b[0m\u001b[0;34m\u001b[0m\u001b[0m\n\u001b[1;32m     85\u001b[0m         \u001b[0;32mraise\u001b[0m \u001b[0mTypeError\u001b[0m\u001b[0;34m(\u001b[0m\u001b[0;34m\"{} not supported by assertion comparison\"\u001b[0m\u001b[0;34m.\u001b[0m\u001b[0mformat\u001b[0m\u001b[0;34m(\u001b[0m\u001b[0mtype\u001b[0m\u001b[0;34m(\u001b[0m\u001b[0ma\u001b[0m\u001b[0;34m)\u001b[0m\u001b[0;34m)\u001b[0m\u001b[0;34m)\u001b[0m\u001b[0;34m\u001b[0m\u001b[0;34m\u001b[0m\u001b[0m\n",
      "\u001b[0;31mAssertionError\u001b[0m: Left and right Dataset objects are not equal\nDiffering dimensions:\n    (time: 27, lat: 141, lon: 260) != (time: 27, lat: 141, lon: 1)\nDiffering coordinates:\nL * lon      (lon) float32 139.0 139.1 139.1 139.1 ... 151.8 151.9 151.9 151.9\nR * lon      (lon) float32 152.0\nDiffering data variables:\nL   precip   (time, lat, lon) float32 dask.array<chunksize=(27, 141, 260), meta=np.ndarray>\nR   precip   (time, lat, lon) float32 dask.array<chunksize=(27, 141, 1), meta=np.ndarray>"
     ]
    }
   ],
   "source": [
    "xr.testing.assert_equal(datasets[0], datasets[1])"
   ]
  },
  {
   "cell_type": "code",
   "execution_count": 49,
   "id": "4610f526-d15c-4022-a4db-81082cc301b2",
   "metadata": {},
   "outputs": [
    {
     "data": {
      "text/html": [
       "<div><svg style=\"position: absolute; width: 0; height: 0; overflow: hidden\">\n",
       "<defs>\n",
       "<symbol id=\"icon-database\" viewBox=\"0 0 32 32\">\n",
       "<path d=\"M16 0c-8.837 0-16 2.239-16 5v4c0 2.761 7.163 5 16 5s16-2.239 16-5v-4c0-2.761-7.163-5-16-5z\"></path>\n",
       "<path d=\"M16 17c-8.837 0-16-2.239-16-5v6c0 2.761 7.163 5 16 5s16-2.239 16-5v-6c0 2.761-7.163 5-16 5z\"></path>\n",
       "<path d=\"M16 26c-8.837 0-16-2.239-16-5v6c0 2.761 7.163 5 16 5s16-2.239 16-5v-6c0 2.761-7.163 5-16 5z\"></path>\n",
       "</symbol>\n",
       "<symbol id=\"icon-file-text2\" viewBox=\"0 0 32 32\">\n",
       "<path d=\"M28.681 7.159c-0.694-0.947-1.662-2.053-2.724-3.116s-2.169-2.030-3.116-2.724c-1.612-1.182-2.393-1.319-2.841-1.319h-15.5c-1.378 0-2.5 1.121-2.5 2.5v27c0 1.378 1.122 2.5 2.5 2.5h23c1.378 0 2.5-1.122 2.5-2.5v-19.5c0-0.448-0.137-1.23-1.319-2.841zM24.543 5.457c0.959 0.959 1.712 1.825 2.268 2.543h-4.811v-4.811c0.718 0.556 1.584 1.309 2.543 2.268zM28 29.5c0 0.271-0.229 0.5-0.5 0.5h-23c-0.271 0-0.5-0.229-0.5-0.5v-27c0-0.271 0.229-0.5 0.5-0.5 0 0 15.499-0 15.5 0v7c0 0.552 0.448 1 1 1h7v19.5z\"></path>\n",
       "<path d=\"M23 26h-14c-0.552 0-1-0.448-1-1s0.448-1 1-1h14c0.552 0 1 0.448 1 1s-0.448 1-1 1z\"></path>\n",
       "<path d=\"M23 22h-14c-0.552 0-1-0.448-1-1s0.448-1 1-1h14c0.552 0 1 0.448 1 1s-0.448 1-1 1z\"></path>\n",
       "<path d=\"M23 18h-14c-0.552 0-1-0.448-1-1s0.448-1 1-1h14c0.552 0 1 0.448 1 1s-0.448 1-1 1z\"></path>\n",
       "</symbol>\n",
       "</defs>\n",
       "</svg>\n",
       "<style>/* CSS stylesheet for displaying xarray objects in jupyterlab.\n",
       " *\n",
       " */\n",
       "\n",
       ":root {\n",
       "  --xr-font-color0: var(--jp-content-font-color0, rgba(0, 0, 0, 1));\n",
       "  --xr-font-color2: var(--jp-content-font-color2, rgba(0, 0, 0, 0.54));\n",
       "  --xr-font-color3: var(--jp-content-font-color3, rgba(0, 0, 0, 0.38));\n",
       "  --xr-border-color: var(--jp-border-color2, #e0e0e0);\n",
       "  --xr-disabled-color: var(--jp-layout-color3, #bdbdbd);\n",
       "  --xr-background-color: var(--jp-layout-color0, white);\n",
       "  --xr-background-color-row-even: var(--jp-layout-color1, white);\n",
       "  --xr-background-color-row-odd: var(--jp-layout-color2, #eeeeee);\n",
       "}\n",
       "\n",
       "html[theme=dark],\n",
       "body.vscode-dark {\n",
       "  --xr-font-color0: rgba(255, 255, 255, 1);\n",
       "  --xr-font-color2: rgba(255, 255, 255, 0.54);\n",
       "  --xr-font-color3: rgba(255, 255, 255, 0.38);\n",
       "  --xr-border-color: #1F1F1F;\n",
       "  --xr-disabled-color: #515151;\n",
       "  --xr-background-color: #111111;\n",
       "  --xr-background-color-row-even: #111111;\n",
       "  --xr-background-color-row-odd: #313131;\n",
       "}\n",
       "\n",
       ".xr-wrap {\n",
       "  display: block;\n",
       "  min-width: 300px;\n",
       "  max-width: 700px;\n",
       "}\n",
       "\n",
       ".xr-text-repr-fallback {\n",
       "  /* fallback to plain text repr when CSS is not injected (untrusted notebook) */\n",
       "  display: none;\n",
       "}\n",
       "\n",
       ".xr-header {\n",
       "  padding-top: 6px;\n",
       "  padding-bottom: 6px;\n",
       "  margin-bottom: 4px;\n",
       "  border-bottom: solid 1px var(--xr-border-color);\n",
       "}\n",
       "\n",
       ".xr-header > div,\n",
       ".xr-header > ul {\n",
       "  display: inline;\n",
       "  margin-top: 0;\n",
       "  margin-bottom: 0;\n",
       "}\n",
       "\n",
       ".xr-obj-type,\n",
       ".xr-array-name {\n",
       "  margin-left: 2px;\n",
       "  margin-right: 10px;\n",
       "}\n",
       "\n",
       ".xr-obj-type {\n",
       "  color: var(--xr-font-color2);\n",
       "}\n",
       "\n",
       ".xr-sections {\n",
       "  padding-left: 0 !important;\n",
       "  display: grid;\n",
       "  grid-template-columns: 150px auto auto 1fr 20px 20px;\n",
       "}\n",
       "\n",
       ".xr-section-item {\n",
       "  display: contents;\n",
       "}\n",
       "\n",
       ".xr-section-item input {\n",
       "  display: none;\n",
       "}\n",
       "\n",
       ".xr-section-item input + label {\n",
       "  color: var(--xr-disabled-color);\n",
       "}\n",
       "\n",
       ".xr-section-item input:enabled + label {\n",
       "  cursor: pointer;\n",
       "  color: var(--xr-font-color2);\n",
       "}\n",
       "\n",
       ".xr-section-item input:enabled + label:hover {\n",
       "  color: var(--xr-font-color0);\n",
       "}\n",
       "\n",
       ".xr-section-summary {\n",
       "  grid-column: 1;\n",
       "  color: var(--xr-font-color2);\n",
       "  font-weight: 500;\n",
       "}\n",
       "\n",
       ".xr-section-summary > span {\n",
       "  display: inline-block;\n",
       "  padding-left: 0.5em;\n",
       "}\n",
       "\n",
       ".xr-section-summary-in:disabled + label {\n",
       "  color: var(--xr-font-color2);\n",
       "}\n",
       "\n",
       ".xr-section-summary-in + label:before {\n",
       "  display: inline-block;\n",
       "  content: '►';\n",
       "  font-size: 11px;\n",
       "  width: 15px;\n",
       "  text-align: center;\n",
       "}\n",
       "\n",
       ".xr-section-summary-in:disabled + label:before {\n",
       "  color: var(--xr-disabled-color);\n",
       "}\n",
       "\n",
       ".xr-section-summary-in:checked + label:before {\n",
       "  content: '▼';\n",
       "}\n",
       "\n",
       ".xr-section-summary-in:checked + label > span {\n",
       "  display: none;\n",
       "}\n",
       "\n",
       ".xr-section-summary,\n",
       ".xr-section-inline-details {\n",
       "  padding-top: 4px;\n",
       "  padding-bottom: 4px;\n",
       "}\n",
       "\n",
       ".xr-section-inline-details {\n",
       "  grid-column: 2 / -1;\n",
       "}\n",
       "\n",
       ".xr-section-details {\n",
       "  display: none;\n",
       "  grid-column: 1 / -1;\n",
       "  margin-bottom: 5px;\n",
       "}\n",
       "\n",
       ".xr-section-summary-in:checked ~ .xr-section-details {\n",
       "  display: contents;\n",
       "}\n",
       "\n",
       ".xr-array-wrap {\n",
       "  grid-column: 1 / -1;\n",
       "  display: grid;\n",
       "  grid-template-columns: 20px auto;\n",
       "}\n",
       "\n",
       ".xr-array-wrap > label {\n",
       "  grid-column: 1;\n",
       "  vertical-align: top;\n",
       "}\n",
       "\n",
       ".xr-preview {\n",
       "  color: var(--xr-font-color3);\n",
       "}\n",
       "\n",
       ".xr-array-preview,\n",
       ".xr-array-data {\n",
       "  padding: 0 5px !important;\n",
       "  grid-column: 2;\n",
       "}\n",
       "\n",
       ".xr-array-data,\n",
       ".xr-array-in:checked ~ .xr-array-preview {\n",
       "  display: none;\n",
       "}\n",
       "\n",
       ".xr-array-in:checked ~ .xr-array-data,\n",
       ".xr-array-preview {\n",
       "  display: inline-block;\n",
       "}\n",
       "\n",
       ".xr-dim-list {\n",
       "  display: inline-block !important;\n",
       "  list-style: none;\n",
       "  padding: 0 !important;\n",
       "  margin: 0;\n",
       "}\n",
       "\n",
       ".xr-dim-list li {\n",
       "  display: inline-block;\n",
       "  padding: 0;\n",
       "  margin: 0;\n",
       "}\n",
       "\n",
       ".xr-dim-list:before {\n",
       "  content: '(';\n",
       "}\n",
       "\n",
       ".xr-dim-list:after {\n",
       "  content: ')';\n",
       "}\n",
       "\n",
       ".xr-dim-list li:not(:last-child):after {\n",
       "  content: ',';\n",
       "  padding-right: 5px;\n",
       "}\n",
       "\n",
       ".xr-has-index {\n",
       "  font-weight: bold;\n",
       "}\n",
       "\n",
       ".xr-var-list,\n",
       ".xr-var-item {\n",
       "  display: contents;\n",
       "}\n",
       "\n",
       ".xr-var-item > div,\n",
       ".xr-var-item label,\n",
       ".xr-var-item > .xr-var-name span {\n",
       "  background-color: var(--xr-background-color-row-even);\n",
       "  margin-bottom: 0;\n",
       "}\n",
       "\n",
       ".xr-var-item > .xr-var-name:hover span {\n",
       "  padding-right: 5px;\n",
       "}\n",
       "\n",
       ".xr-var-list > li:nth-child(odd) > div,\n",
       ".xr-var-list > li:nth-child(odd) > label,\n",
       ".xr-var-list > li:nth-child(odd) > .xr-var-name span {\n",
       "  background-color: var(--xr-background-color-row-odd);\n",
       "}\n",
       "\n",
       ".xr-var-name {\n",
       "  grid-column: 1;\n",
       "}\n",
       "\n",
       ".xr-var-dims {\n",
       "  grid-column: 2;\n",
       "}\n",
       "\n",
       ".xr-var-dtype {\n",
       "  grid-column: 3;\n",
       "  text-align: right;\n",
       "  color: var(--xr-font-color2);\n",
       "}\n",
       "\n",
       ".xr-var-preview {\n",
       "  grid-column: 4;\n",
       "}\n",
       "\n",
       ".xr-var-name,\n",
       ".xr-var-dims,\n",
       ".xr-var-dtype,\n",
       ".xr-preview,\n",
       ".xr-attrs dt {\n",
       "  white-space: nowrap;\n",
       "  overflow: hidden;\n",
       "  text-overflow: ellipsis;\n",
       "  padding-right: 10px;\n",
       "}\n",
       "\n",
       ".xr-var-name:hover,\n",
       ".xr-var-dims:hover,\n",
       ".xr-var-dtype:hover,\n",
       ".xr-attrs dt:hover {\n",
       "  overflow: visible;\n",
       "  width: auto;\n",
       "  z-index: 1;\n",
       "}\n",
       "\n",
       ".xr-var-attrs,\n",
       ".xr-var-data {\n",
       "  display: none;\n",
       "  background-color: var(--xr-background-color) !important;\n",
       "  padding-bottom: 5px !important;\n",
       "}\n",
       "\n",
       ".xr-var-attrs-in:checked ~ .xr-var-attrs,\n",
       ".xr-var-data-in:checked ~ .xr-var-data {\n",
       "  display: block;\n",
       "}\n",
       "\n",
       ".xr-var-data > table {\n",
       "  float: right;\n",
       "}\n",
       "\n",
       ".xr-var-name span,\n",
       ".xr-var-data,\n",
       ".xr-attrs {\n",
       "  padding-left: 25px !important;\n",
       "}\n",
       "\n",
       ".xr-attrs,\n",
       ".xr-var-attrs,\n",
       ".xr-var-data {\n",
       "  grid-column: 1 / -1;\n",
       "}\n",
       "\n",
       "dl.xr-attrs {\n",
       "  padding: 0;\n",
       "  margin: 0;\n",
       "  display: grid;\n",
       "  grid-template-columns: 125px auto;\n",
       "}\n",
       "\n",
       ".xr-attrs dt,\n",
       ".xr-attrs dd {\n",
       "  padding: 0;\n",
       "  margin: 0;\n",
       "  float: left;\n",
       "  padding-right: 10px;\n",
       "  width: auto;\n",
       "}\n",
       "\n",
       ".xr-attrs dt {\n",
       "  font-weight: normal;\n",
       "  grid-column: 1;\n",
       "}\n",
       "\n",
       ".xr-attrs dt:hover span {\n",
       "  display: inline-block;\n",
       "  background: var(--xr-background-color);\n",
       "  padding-right: 10px;\n",
       "}\n",
       "\n",
       ".xr-attrs dd {\n",
       "  grid-column: 2;\n",
       "  white-space: pre-wrap;\n",
       "  word-break: break-all;\n",
       "}\n",
       "\n",
       ".xr-icon-database,\n",
       ".xr-icon-file-text2 {\n",
       "  display: inline-block;\n",
       "  vertical-align: middle;\n",
       "  width: 1em;\n",
       "  height: 1.5em !important;\n",
       "  stroke-width: 0;\n",
       "  stroke: currentColor;\n",
       "  fill: currentColor;\n",
       "}\n",
       "</style><pre class='xr-text-repr-fallback'>&lt;xarray.Dataset&gt;\n",
       "Dimensions:  (time: 27, lat: 141, lon: 260)\n",
       "Coordinates:\n",
       "  * time     (time) datetime64[ns] 1911-01-05T09:00:00 ... 1912-01-04T09:00:00\n",
       "  * lat      (lat) float32 -39.0 -38.95 -38.9 -38.85 ... -32.1 -32.05 -32.0\n",
       "  * lon      (lon) float32 139.0 139.1 139.1 139.1 ... 151.8 151.9 151.9 151.9\n",
       "Data variables:\n",
       "    precip   (time, lat, lon) float32 dask.array&lt;chunksize=(27, 141, 260), meta=np.ndarray&gt;</pre><div class='xr-wrap' hidden><div class='xr-header'><div class='xr-obj-type'>xarray.Dataset</div></div><ul class='xr-sections'><li class='xr-section-item'><input id='section-bfca3d3f-7f42-46d7-8689-90b1874920e6' class='xr-section-summary-in' type='checkbox' disabled ><label for='section-bfca3d3f-7f42-46d7-8689-90b1874920e6' class='xr-section-summary'  title='Expand/collapse section'>Dimensions:</label><div class='xr-section-inline-details'><ul class='xr-dim-list'><li><span class='xr-has-index'>time</span>: 27</li><li><span class='xr-has-index'>lat</span>: 141</li><li><span class='xr-has-index'>lon</span>: 260</li></ul></div><div class='xr-section-details'></div></li><li class='xr-section-item'><input id='section-b9dff0dd-ab48-4008-93fa-366e715a48b6' class='xr-section-summary-in' type='checkbox'  checked><label for='section-b9dff0dd-ab48-4008-93fa-366e715a48b6' class='xr-section-summary' >Coordinates: <span>(3)</span></label><div class='xr-section-inline-details'></div><div class='xr-section-details'><ul class='xr-var-list'><li class='xr-var-item'><div class='xr-var-name'><span class='xr-has-index'>time</span></div><div class='xr-var-dims'>(time)</div><div class='xr-var-dtype'>datetime64[ns]</div><div class='xr-var-preview xr-preview'>1911-01-05T09:00:00 ... 1912-01-...</div><input id='attrs-36151872-70f4-4018-9534-1be6af371136' class='xr-var-attrs-in' type='checkbox' ><label for='attrs-36151872-70f4-4018-9534-1be6af371136' title='Show/Hide attributes'><svg class='icon xr-icon-file-text2'><use xlink:href='#icon-file-text2'></use></svg></label><input id='data-4402f866-a884-46b6-b60b-7d66f01fa7d1' class='xr-var-data-in' type='checkbox'><label for='data-4402f866-a884-46b6-b60b-7d66f01fa7d1' title='Show/Hide data repr'><svg class='icon xr-icon-database'><use xlink:href='#icon-database'></use></svg></label><div class='xr-var-attrs'><dl class='xr-attrs'><dt><span>axis :</span></dt><dd>T</dd><dt><span>time_zone :</span></dt><dd>local time</dd><dt><span>bounds :</span></dt><dd>time_bnds</dd><dt><span>long_name :</span></dt><dd>time</dd></dl></div><div class='xr-var-data'><pre>array([&#x27;1911-01-05T09:00:00.000000000&#x27;, &#x27;1911-01-19T09:00:00.000000000&#x27;,\n",
       "       &#x27;1911-02-02T09:00:00.000000000&#x27;, &#x27;1911-02-16T09:00:00.000000000&#x27;,\n",
       "       &#x27;1911-03-02T09:00:00.000000000&#x27;, &#x27;1911-03-16T09:00:00.000000000&#x27;,\n",
       "       &#x27;1911-03-30T09:00:00.000000000&#x27;, &#x27;1911-04-13T09:00:00.000000000&#x27;,\n",
       "       &#x27;1911-04-27T09:00:00.000000000&#x27;, &#x27;1911-05-11T09:00:00.000000000&#x27;,\n",
       "       &#x27;1911-05-25T09:00:00.000000000&#x27;, &#x27;1911-06-08T09:00:00.000000000&#x27;,\n",
       "       &#x27;1911-06-22T09:00:00.000000000&#x27;, &#x27;1911-07-06T09:00:00.000000000&#x27;,\n",
       "       &#x27;1911-07-20T09:00:00.000000000&#x27;, &#x27;1911-08-03T09:00:00.000000000&#x27;,\n",
       "       &#x27;1911-08-17T09:00:00.000000000&#x27;, &#x27;1911-08-31T09:00:00.000000000&#x27;,\n",
       "       &#x27;1911-09-14T09:00:00.000000000&#x27;, &#x27;1911-09-28T09:00:00.000000000&#x27;,\n",
       "       &#x27;1911-10-12T09:00:00.000000000&#x27;, &#x27;1911-10-26T09:00:00.000000000&#x27;,\n",
       "       &#x27;1911-11-09T09:00:00.000000000&#x27;, &#x27;1911-11-23T09:00:00.000000000&#x27;,\n",
       "       &#x27;1911-12-07T09:00:00.000000000&#x27;, &#x27;1911-12-21T09:00:00.000000000&#x27;,\n",
       "       &#x27;1912-01-04T09:00:00.000000000&#x27;], dtype=&#x27;datetime64[ns]&#x27;)</pre></div></li><li class='xr-var-item'><div class='xr-var-name'><span class='xr-has-index'>lat</span></div><div class='xr-var-dims'>(lat)</div><div class='xr-var-dtype'>float32</div><div class='xr-var-preview xr-preview'>-39.0 -38.95 -38.9 ... -32.05 -32.0</div><input id='attrs-ed7c79dc-4677-4581-8eac-ae3031b0bc81' class='xr-var-attrs-in' type='checkbox' ><label for='attrs-ed7c79dc-4677-4581-8eac-ae3031b0bc81' title='Show/Hide attributes'><svg class='icon xr-icon-file-text2'><use xlink:href='#icon-file-text2'></use></svg></label><input id='data-cfe4ff60-bb08-4d34-a15e-f0264844bf6f' class='xr-var-data-in' type='checkbox'><label for='data-cfe4ff60-bb08-4d34-a15e-f0264844bf6f' title='Show/Hide data repr'><svg class='icon xr-icon-database'><use xlink:href='#icon-database'></use></svg></label><div class='xr-var-attrs'><dl class='xr-attrs'><dt><span>long_name :</span></dt><dd>latitude</dd><dt><span>standard_name :</span></dt><dd>latitude</dd><dt><span>units :</span></dt><dd>degrees_north</dd><dt><span>bounds :</span></dt><dd>lat_bnds</dd><dt><span>axis :</span></dt><dd>Y</dd></dl></div><div class='xr-var-data'><pre>array([-39.  , -38.95, -38.9 , -38.85, -38.8 , -38.75, -38.7 , -38.65, -38.6 ,\n",
       "       -38.55, -38.5 , -38.45, -38.4 , -38.35, -38.3 , -38.25, -38.2 , -38.15,\n",
       "       -38.1 , -38.05, -38.  , -37.95, -37.9 , -37.85, -37.8 , -37.75, -37.7 ,\n",
       "       -37.65, -37.6 , -37.55, -37.5 , -37.45, -37.4 , -37.35, -37.3 , -37.25,\n",
       "       -37.2 , -37.15, -37.1 , -37.05, -37.  , -36.95, -36.9 , -36.85, -36.8 ,\n",
       "       -36.75, -36.7 , -36.65, -36.6 , -36.55, -36.5 , -36.45, -36.4 , -36.35,\n",
       "       -36.3 , -36.25, -36.2 , -36.15, -36.1 , -36.05, -36.  , -35.95, -35.9 ,\n",
       "       -35.85, -35.8 , -35.75, -35.7 , -35.65, -35.6 , -35.55, -35.5 , -35.45,\n",
       "       -35.4 , -35.35, -35.3 , -35.25, -35.2 , -35.15, -35.1 , -35.05, -35.  ,\n",
       "       -34.95, -34.9 , -34.85, -34.8 , -34.75, -34.7 , -34.65, -34.6 , -34.55,\n",
       "       -34.5 , -34.45, -34.4 , -34.35, -34.3 , -34.25, -34.2 , -34.15, -34.1 ,\n",
       "       -34.05, -34.  , -33.95, -33.9 , -33.85, -33.8 , -33.75, -33.7 , -33.65,\n",
       "       -33.6 , -33.55, -33.5 , -33.45, -33.4 , -33.35, -33.3 , -33.25, -33.2 ,\n",
       "       -33.15, -33.1 , -33.05, -33.  , -32.95, -32.9 , -32.85, -32.8 , -32.75,\n",
       "       -32.7 , -32.65, -32.6 , -32.55, -32.5 , -32.45, -32.4 , -32.35, -32.3 ,\n",
       "       -32.25, -32.2 , -32.15, -32.1 , -32.05, -32.  ], dtype=float32)</pre></div></li><li class='xr-var-item'><div class='xr-var-name'><span class='xr-has-index'>lon</span></div><div class='xr-var-dims'>(lon)</div><div class='xr-var-dtype'>float32</div><div class='xr-var-preview xr-preview'>139.0 139.1 139.1 ... 151.9 151.9</div><input id='attrs-17fea8c5-7e26-4eb2-8fe0-f930d515ccb5' class='xr-var-attrs-in' type='checkbox' ><label for='attrs-17fea8c5-7e26-4eb2-8fe0-f930d515ccb5' title='Show/Hide attributes'><svg class='icon xr-icon-file-text2'><use xlink:href='#icon-file-text2'></use></svg></label><input id='data-85b69da8-f038-454a-86c3-8da6028d37cd' class='xr-var-data-in' type='checkbox'><label for='data-85b69da8-f038-454a-86c3-8da6028d37cd' title='Show/Hide data repr'><svg class='icon xr-icon-database'><use xlink:href='#icon-database'></use></svg></label><div class='xr-var-attrs'><dl class='xr-attrs'><dt><span>long_name :</span></dt><dd>longitude</dd><dt><span>standard_name :</span></dt><dd>longitude</dd><dt><span>units :</span></dt><dd>degrees_east</dd><dt><span>bounds :</span></dt><dd>lon_bnds</dd><dt><span>axis :</span></dt><dd>X</dd></dl></div><div class='xr-var-data'><pre>array([139.  , 139.05, 139.1 , ..., 151.85, 151.9 , 151.95], dtype=float32)</pre></div></li></ul></div></li><li class='xr-section-item'><input id='section-793fd7af-99b2-4e69-a90b-37f230d2ef6e' class='xr-section-summary-in' type='checkbox'  checked><label for='section-793fd7af-99b2-4e69-a90b-37f230d2ef6e' class='xr-section-summary' >Data variables: <span>(1)</span></label><div class='xr-section-inline-details'></div><div class='xr-section-details'><ul class='xr-var-list'><li class='xr-var-item'><div class='xr-var-name'><span>precip</span></div><div class='xr-var-dims'>(time, lat, lon)</div><div class='xr-var-dtype'>float32</div><div class='xr-var-preview xr-preview'>dask.array&lt;chunksize=(27, 141, 260), meta=np.ndarray&gt;</div><input id='attrs-2a948aa7-7c07-409a-ad1d-6f3ed1d695cd' class='xr-var-attrs-in' type='checkbox' ><label for='attrs-2a948aa7-7c07-409a-ad1d-6f3ed1d695cd' title='Show/Hide attributes'><svg class='icon xr-icon-file-text2'><use xlink:href='#icon-file-text2'></use></svg></label><input id='data-785a77d9-4cde-42e9-9906-3e9888a464c5' class='xr-var-data-in' type='checkbox'><label for='data-785a77d9-4cde-42e9-9906-3e9888a464c5' title='Show/Hide data repr'><svg class='icon xr-icon-database'><use xlink:href='#icon-database'></use></svg></label><div class='xr-var-attrs'><dl class='xr-attrs'><dt><span>cell_methods :</span></dt><dd>time: sum</dd><dt><span>units :</span></dt><dd>mm</dd><dt><span>analysis_version_number :</span></dt><dd>3.01</dd><dt><span>long_name :</span></dt><dd>Daily precipitation</dd><dt><span>number_of_stations_reporting :</span></dt><dd>2757</dd><dt><span>standard_name :</span></dt><dd>lwe_thickness_of_precipitation_amount</dd><dt><span>frequency :</span></dt><dd>daily</dd><dt><span>length_scale_for_analysis :</span></dt><dd>80.0</dd><dt><span>grid_mapping :</span></dt><dd>crs</dd><dt><span>coverage_content_type :</span></dt><dd>physicalMeasurement</dd><dt><span>valid_range :</span></dt><dd>[     0. 100000.]</dd></dl></div><div class='xr-var-data'><table>\n",
       "    <tr>\n",
       "        <td>\n",
       "            <table>\n",
       "                <thead>\n",
       "                    <tr>\n",
       "                        <td> </td>\n",
       "                        <th> Array </th>\n",
       "                        <th> Chunk </th>\n",
       "                    </tr>\n",
       "                </thead>\n",
       "                <tbody>\n",
       "                    \n",
       "                    <tr>\n",
       "                        <th> Bytes </th>\n",
       "                        <td> 3.78 MiB </td>\n",
       "                        <td> 3.78 MiB </td>\n",
       "                    </tr>\n",
       "                    \n",
       "                    <tr>\n",
       "                        <th> Shape </th>\n",
       "                        <td> (27, 141, 260) </td>\n",
       "                        <td> (27, 141, 260) </td>\n",
       "                    </tr>\n",
       "                    <tr>\n",
       "                        <th> Count </th>\n",
       "                        <td> 2634 Tasks </td>\n",
       "                        <td> 1 Chunks </td>\n",
       "                    </tr>\n",
       "                    <tr>\n",
       "                    <th> Type </th>\n",
       "                    <td> float32 </td>\n",
       "                    <td> numpy.ndarray </td>\n",
       "                    </tr>\n",
       "                </tbody>\n",
       "            </table>\n",
       "        </td>\n",
       "        <td>\n",
       "        <svg width=\"202\" height=\"137\" style=\"stroke:rgb(0,0,0);stroke-width:1\" >\n",
       "\n",
       "  <!-- Horizontal lines -->\n",
       "  <line x1=\"10\" y1=\"0\" x2=\"32\" y2=\"22\" style=\"stroke-width:2\" />\n",
       "  <line x1=\"10\" y1=\"65\" x2=\"32\" y2=\"87\" style=\"stroke-width:2\" />\n",
       "\n",
       "  <!-- Vertical lines -->\n",
       "  <line x1=\"10\" y1=\"0\" x2=\"10\" y2=\"65\" style=\"stroke-width:2\" />\n",
       "  <line x1=\"32\" y1=\"22\" x2=\"32\" y2=\"87\" style=\"stroke-width:2\" />\n",
       "\n",
       "  <!-- Colored Rectangle -->\n",
       "  <polygon points=\"10.0,0.0 32.82644588493973,22.826445884939726 32.82644588493973,87.90336896186281 10.0,65.07692307692308\" style=\"fill:#ECB172A0;stroke-width:0\"/>\n",
       "\n",
       "  <!-- Horizontal lines -->\n",
       "  <line x1=\"10\" y1=\"0\" x2=\"130\" y2=\"0\" style=\"stroke-width:2\" />\n",
       "  <line x1=\"32\" y1=\"22\" x2=\"152\" y2=\"22\" style=\"stroke-width:2\" />\n",
       "\n",
       "  <!-- Vertical lines -->\n",
       "  <line x1=\"10\" y1=\"0\" x2=\"32\" y2=\"22\" style=\"stroke-width:2\" />\n",
       "  <line x1=\"130\" y1=\"0\" x2=\"152\" y2=\"22\" style=\"stroke-width:2\" />\n",
       "\n",
       "  <!-- Colored Rectangle -->\n",
       "  <polygon points=\"10.0,0.0 130.0,0.0 152.82644588493972,22.826445884939726 32.82644588493973,22.826445884939726\" style=\"fill:#ECB172A0;stroke-width:0\"/>\n",
       "\n",
       "  <!-- Horizontal lines -->\n",
       "  <line x1=\"32\" y1=\"22\" x2=\"152\" y2=\"22\" style=\"stroke-width:2\" />\n",
       "  <line x1=\"32\" y1=\"87\" x2=\"152\" y2=\"87\" style=\"stroke-width:2\" />\n",
       "\n",
       "  <!-- Vertical lines -->\n",
       "  <line x1=\"32\" y1=\"22\" x2=\"32\" y2=\"87\" style=\"stroke-width:2\" />\n",
       "  <line x1=\"152\" y1=\"22\" x2=\"152\" y2=\"87\" style=\"stroke-width:2\" />\n",
       "\n",
       "  <!-- Colored Rectangle -->\n",
       "  <polygon points=\"32.82644588493973,22.826445884939726 152.82644588493974,22.826445884939726 152.82644588493974,87.90336896186281 32.82644588493973,87.90336896186281\" style=\"fill:#ECB172A0;stroke-width:0\"/>\n",
       "\n",
       "  <!-- Text -->\n",
       "  <text x=\"92.826446\" y=\"107.903369\" font-size=\"1.0rem\" font-weight=\"100\" text-anchor=\"middle\" >260</text>\n",
       "  <text x=\"172.826446\" y=\"55.364907\" font-size=\"1.0rem\" font-weight=\"100\" text-anchor=\"middle\" transform=\"rotate(-90,172.826446,55.364907)\">141</text>\n",
       "  <text x=\"11.413223\" y=\"96.490146\" font-size=\"1.0rem\" font-weight=\"100\" text-anchor=\"middle\" transform=\"rotate(45,11.413223,96.490146)\">27</text>\n",
       "</svg>\n",
       "        </td>\n",
       "    </tr>\n",
       "</table></div></li></ul></div></li><li class='xr-section-item'><input id='section-8ffdfacf-6cef-4462-9cb0-1b52e9bb131e' class='xr-section-summary-in' type='checkbox' disabled ><label for='section-8ffdfacf-6cef-4462-9cb0-1b52e9bb131e' class='xr-section-summary'  title='Expand/collapse section'>Attributes: <span>(0)</span></label><div class='xr-section-inline-details'></div><div class='xr-section-details'><dl class='xr-attrs'></dl></div></li></ul></div></div>"
      ],
      "text/plain": [
       "<xarray.Dataset>\n",
       "Dimensions:  (time: 27, lat: 141, lon: 260)\n",
       "Coordinates:\n",
       "  * time     (time) datetime64[ns] 1911-01-05T09:00:00 ... 1912-01-04T09:00:00\n",
       "  * lat      (lat) float32 -39.0 -38.95 -38.9 -38.85 ... -32.1 -32.05 -32.0\n",
       "  * lon      (lon) float32 139.0 139.1 139.1 139.1 ... 151.8 151.9 151.9 151.9\n",
       "Data variables:\n",
       "    precip   (time, lat, lon) float32 dask.array<chunksize=(27, 141, 260), meta=np.ndarray>"
      ]
     },
     "execution_count": 49,
     "metadata": {},
     "output_type": "execute_result"
    }
   ],
   "source": [
    "datasets[0]"
   ]
  },
  {
   "cell_type": "code",
   "execution_count": 50,
   "id": "8e907971-61f6-42eb-baaa-74dbf60452ba",
   "metadata": {},
   "outputs": [
    {
     "data": {
      "text/html": [
       "<div><svg style=\"position: absolute; width: 0; height: 0; overflow: hidden\">\n",
       "<defs>\n",
       "<symbol id=\"icon-database\" viewBox=\"0 0 32 32\">\n",
       "<path d=\"M16 0c-8.837 0-16 2.239-16 5v4c0 2.761 7.163 5 16 5s16-2.239 16-5v-4c0-2.761-7.163-5-16-5z\"></path>\n",
       "<path d=\"M16 17c-8.837 0-16-2.239-16-5v6c0 2.761 7.163 5 16 5s16-2.239 16-5v-6c0 2.761-7.163 5-16 5z\"></path>\n",
       "<path d=\"M16 26c-8.837 0-16-2.239-16-5v6c0 2.761 7.163 5 16 5s16-2.239 16-5v-6c0 2.761-7.163 5-16 5z\"></path>\n",
       "</symbol>\n",
       "<symbol id=\"icon-file-text2\" viewBox=\"0 0 32 32\">\n",
       "<path d=\"M28.681 7.159c-0.694-0.947-1.662-2.053-2.724-3.116s-2.169-2.030-3.116-2.724c-1.612-1.182-2.393-1.319-2.841-1.319h-15.5c-1.378 0-2.5 1.121-2.5 2.5v27c0 1.378 1.122 2.5 2.5 2.5h23c1.378 0 2.5-1.122 2.5-2.5v-19.5c0-0.448-0.137-1.23-1.319-2.841zM24.543 5.457c0.959 0.959 1.712 1.825 2.268 2.543h-4.811v-4.811c0.718 0.556 1.584 1.309 2.543 2.268zM28 29.5c0 0.271-0.229 0.5-0.5 0.5h-23c-0.271 0-0.5-0.229-0.5-0.5v-27c0-0.271 0.229-0.5 0.5-0.5 0 0 15.499-0 15.5 0v7c0 0.552 0.448 1 1 1h7v19.5z\"></path>\n",
       "<path d=\"M23 26h-14c-0.552 0-1-0.448-1-1s0.448-1 1-1h14c0.552 0 1 0.448 1 1s-0.448 1-1 1z\"></path>\n",
       "<path d=\"M23 22h-14c-0.552 0-1-0.448-1-1s0.448-1 1-1h14c0.552 0 1 0.448 1 1s-0.448 1-1 1z\"></path>\n",
       "<path d=\"M23 18h-14c-0.552 0-1-0.448-1-1s0.448-1 1-1h14c0.552 0 1 0.448 1 1s-0.448 1-1 1z\"></path>\n",
       "</symbol>\n",
       "</defs>\n",
       "</svg>\n",
       "<style>/* CSS stylesheet for displaying xarray objects in jupyterlab.\n",
       " *\n",
       " */\n",
       "\n",
       ":root {\n",
       "  --xr-font-color0: var(--jp-content-font-color0, rgba(0, 0, 0, 1));\n",
       "  --xr-font-color2: var(--jp-content-font-color2, rgba(0, 0, 0, 0.54));\n",
       "  --xr-font-color3: var(--jp-content-font-color3, rgba(0, 0, 0, 0.38));\n",
       "  --xr-border-color: var(--jp-border-color2, #e0e0e0);\n",
       "  --xr-disabled-color: var(--jp-layout-color3, #bdbdbd);\n",
       "  --xr-background-color: var(--jp-layout-color0, white);\n",
       "  --xr-background-color-row-even: var(--jp-layout-color1, white);\n",
       "  --xr-background-color-row-odd: var(--jp-layout-color2, #eeeeee);\n",
       "}\n",
       "\n",
       "html[theme=dark],\n",
       "body.vscode-dark {\n",
       "  --xr-font-color0: rgba(255, 255, 255, 1);\n",
       "  --xr-font-color2: rgba(255, 255, 255, 0.54);\n",
       "  --xr-font-color3: rgba(255, 255, 255, 0.38);\n",
       "  --xr-border-color: #1F1F1F;\n",
       "  --xr-disabled-color: #515151;\n",
       "  --xr-background-color: #111111;\n",
       "  --xr-background-color-row-even: #111111;\n",
       "  --xr-background-color-row-odd: #313131;\n",
       "}\n",
       "\n",
       ".xr-wrap {\n",
       "  display: block;\n",
       "  min-width: 300px;\n",
       "  max-width: 700px;\n",
       "}\n",
       "\n",
       ".xr-text-repr-fallback {\n",
       "  /* fallback to plain text repr when CSS is not injected (untrusted notebook) */\n",
       "  display: none;\n",
       "}\n",
       "\n",
       ".xr-header {\n",
       "  padding-top: 6px;\n",
       "  padding-bottom: 6px;\n",
       "  margin-bottom: 4px;\n",
       "  border-bottom: solid 1px var(--xr-border-color);\n",
       "}\n",
       "\n",
       ".xr-header > div,\n",
       ".xr-header > ul {\n",
       "  display: inline;\n",
       "  margin-top: 0;\n",
       "  margin-bottom: 0;\n",
       "}\n",
       "\n",
       ".xr-obj-type,\n",
       ".xr-array-name {\n",
       "  margin-left: 2px;\n",
       "  margin-right: 10px;\n",
       "}\n",
       "\n",
       ".xr-obj-type {\n",
       "  color: var(--xr-font-color2);\n",
       "}\n",
       "\n",
       ".xr-sections {\n",
       "  padding-left: 0 !important;\n",
       "  display: grid;\n",
       "  grid-template-columns: 150px auto auto 1fr 20px 20px;\n",
       "}\n",
       "\n",
       ".xr-section-item {\n",
       "  display: contents;\n",
       "}\n",
       "\n",
       ".xr-section-item input {\n",
       "  display: none;\n",
       "}\n",
       "\n",
       ".xr-section-item input + label {\n",
       "  color: var(--xr-disabled-color);\n",
       "}\n",
       "\n",
       ".xr-section-item input:enabled + label {\n",
       "  cursor: pointer;\n",
       "  color: var(--xr-font-color2);\n",
       "}\n",
       "\n",
       ".xr-section-item input:enabled + label:hover {\n",
       "  color: var(--xr-font-color0);\n",
       "}\n",
       "\n",
       ".xr-section-summary {\n",
       "  grid-column: 1;\n",
       "  color: var(--xr-font-color2);\n",
       "  font-weight: 500;\n",
       "}\n",
       "\n",
       ".xr-section-summary > span {\n",
       "  display: inline-block;\n",
       "  padding-left: 0.5em;\n",
       "}\n",
       "\n",
       ".xr-section-summary-in:disabled + label {\n",
       "  color: var(--xr-font-color2);\n",
       "}\n",
       "\n",
       ".xr-section-summary-in + label:before {\n",
       "  display: inline-block;\n",
       "  content: '►';\n",
       "  font-size: 11px;\n",
       "  width: 15px;\n",
       "  text-align: center;\n",
       "}\n",
       "\n",
       ".xr-section-summary-in:disabled + label:before {\n",
       "  color: var(--xr-disabled-color);\n",
       "}\n",
       "\n",
       ".xr-section-summary-in:checked + label:before {\n",
       "  content: '▼';\n",
       "}\n",
       "\n",
       ".xr-section-summary-in:checked + label > span {\n",
       "  display: none;\n",
       "}\n",
       "\n",
       ".xr-section-summary,\n",
       ".xr-section-inline-details {\n",
       "  padding-top: 4px;\n",
       "  padding-bottom: 4px;\n",
       "}\n",
       "\n",
       ".xr-section-inline-details {\n",
       "  grid-column: 2 / -1;\n",
       "}\n",
       "\n",
       ".xr-section-details {\n",
       "  display: none;\n",
       "  grid-column: 1 / -1;\n",
       "  margin-bottom: 5px;\n",
       "}\n",
       "\n",
       ".xr-section-summary-in:checked ~ .xr-section-details {\n",
       "  display: contents;\n",
       "}\n",
       "\n",
       ".xr-array-wrap {\n",
       "  grid-column: 1 / -1;\n",
       "  display: grid;\n",
       "  grid-template-columns: 20px auto;\n",
       "}\n",
       "\n",
       ".xr-array-wrap > label {\n",
       "  grid-column: 1;\n",
       "  vertical-align: top;\n",
       "}\n",
       "\n",
       ".xr-preview {\n",
       "  color: var(--xr-font-color3);\n",
       "}\n",
       "\n",
       ".xr-array-preview,\n",
       ".xr-array-data {\n",
       "  padding: 0 5px !important;\n",
       "  grid-column: 2;\n",
       "}\n",
       "\n",
       ".xr-array-data,\n",
       ".xr-array-in:checked ~ .xr-array-preview {\n",
       "  display: none;\n",
       "}\n",
       "\n",
       ".xr-array-in:checked ~ .xr-array-data,\n",
       ".xr-array-preview {\n",
       "  display: inline-block;\n",
       "}\n",
       "\n",
       ".xr-dim-list {\n",
       "  display: inline-block !important;\n",
       "  list-style: none;\n",
       "  padding: 0 !important;\n",
       "  margin: 0;\n",
       "}\n",
       "\n",
       ".xr-dim-list li {\n",
       "  display: inline-block;\n",
       "  padding: 0;\n",
       "  margin: 0;\n",
       "}\n",
       "\n",
       ".xr-dim-list:before {\n",
       "  content: '(';\n",
       "}\n",
       "\n",
       ".xr-dim-list:after {\n",
       "  content: ')';\n",
       "}\n",
       "\n",
       ".xr-dim-list li:not(:last-child):after {\n",
       "  content: ',';\n",
       "  padding-right: 5px;\n",
       "}\n",
       "\n",
       ".xr-has-index {\n",
       "  font-weight: bold;\n",
       "}\n",
       "\n",
       ".xr-var-list,\n",
       ".xr-var-item {\n",
       "  display: contents;\n",
       "}\n",
       "\n",
       ".xr-var-item > div,\n",
       ".xr-var-item label,\n",
       ".xr-var-item > .xr-var-name span {\n",
       "  background-color: var(--xr-background-color-row-even);\n",
       "  margin-bottom: 0;\n",
       "}\n",
       "\n",
       ".xr-var-item > .xr-var-name:hover span {\n",
       "  padding-right: 5px;\n",
       "}\n",
       "\n",
       ".xr-var-list > li:nth-child(odd) > div,\n",
       ".xr-var-list > li:nth-child(odd) > label,\n",
       ".xr-var-list > li:nth-child(odd) > .xr-var-name span {\n",
       "  background-color: var(--xr-background-color-row-odd);\n",
       "}\n",
       "\n",
       ".xr-var-name {\n",
       "  grid-column: 1;\n",
       "}\n",
       "\n",
       ".xr-var-dims {\n",
       "  grid-column: 2;\n",
       "}\n",
       "\n",
       ".xr-var-dtype {\n",
       "  grid-column: 3;\n",
       "  text-align: right;\n",
       "  color: var(--xr-font-color2);\n",
       "}\n",
       "\n",
       ".xr-var-preview {\n",
       "  grid-column: 4;\n",
       "}\n",
       "\n",
       ".xr-var-name,\n",
       ".xr-var-dims,\n",
       ".xr-var-dtype,\n",
       ".xr-preview,\n",
       ".xr-attrs dt {\n",
       "  white-space: nowrap;\n",
       "  overflow: hidden;\n",
       "  text-overflow: ellipsis;\n",
       "  padding-right: 10px;\n",
       "}\n",
       "\n",
       ".xr-var-name:hover,\n",
       ".xr-var-dims:hover,\n",
       ".xr-var-dtype:hover,\n",
       ".xr-attrs dt:hover {\n",
       "  overflow: visible;\n",
       "  width: auto;\n",
       "  z-index: 1;\n",
       "}\n",
       "\n",
       ".xr-var-attrs,\n",
       ".xr-var-data {\n",
       "  display: none;\n",
       "  background-color: var(--xr-background-color) !important;\n",
       "  padding-bottom: 5px !important;\n",
       "}\n",
       "\n",
       ".xr-var-attrs-in:checked ~ .xr-var-attrs,\n",
       ".xr-var-data-in:checked ~ .xr-var-data {\n",
       "  display: block;\n",
       "}\n",
       "\n",
       ".xr-var-data > table {\n",
       "  float: right;\n",
       "}\n",
       "\n",
       ".xr-var-name span,\n",
       ".xr-var-data,\n",
       ".xr-attrs {\n",
       "  padding-left: 25px !important;\n",
       "}\n",
       "\n",
       ".xr-attrs,\n",
       ".xr-var-attrs,\n",
       ".xr-var-data {\n",
       "  grid-column: 1 / -1;\n",
       "}\n",
       "\n",
       "dl.xr-attrs {\n",
       "  padding: 0;\n",
       "  margin: 0;\n",
       "  display: grid;\n",
       "  grid-template-columns: 125px auto;\n",
       "}\n",
       "\n",
       ".xr-attrs dt,\n",
       ".xr-attrs dd {\n",
       "  padding: 0;\n",
       "  margin: 0;\n",
       "  float: left;\n",
       "  padding-right: 10px;\n",
       "  width: auto;\n",
       "}\n",
       "\n",
       ".xr-attrs dt {\n",
       "  font-weight: normal;\n",
       "  grid-column: 1;\n",
       "}\n",
       "\n",
       ".xr-attrs dt:hover span {\n",
       "  display: inline-block;\n",
       "  background: var(--xr-background-color);\n",
       "  padding-right: 10px;\n",
       "}\n",
       "\n",
       ".xr-attrs dd {\n",
       "  grid-column: 2;\n",
       "  white-space: pre-wrap;\n",
       "  word-break: break-all;\n",
       "}\n",
       "\n",
       ".xr-icon-database,\n",
       ".xr-icon-file-text2 {\n",
       "  display: inline-block;\n",
       "  vertical-align: middle;\n",
       "  width: 1em;\n",
       "  height: 1.5em !important;\n",
       "  stroke-width: 0;\n",
       "  stroke: currentColor;\n",
       "  fill: currentColor;\n",
       "}\n",
       "</style><pre class='xr-text-repr-fallback'>&lt;xarray.Dataset&gt;\n",
       "Dimensions:  (time: 27, lat: 141, lon: 1)\n",
       "Coordinates:\n",
       "  * time     (time) datetime64[ns] 1911-01-05T09:00:00 ... 1912-01-04T09:00:00\n",
       "  * lat      (lat) float32 -39.0 -38.95 -38.9 -38.85 ... -32.1 -32.05 -32.0\n",
       "  * lon      (lon) float32 152.0\n",
       "Data variables:\n",
       "    precip   (time, lat, lon) float32 dask.array&lt;chunksize=(27, 141, 1), meta=np.ndarray&gt;</pre><div class='xr-wrap' hidden><div class='xr-header'><div class='xr-obj-type'>xarray.Dataset</div></div><ul class='xr-sections'><li class='xr-section-item'><input id='section-c087ec25-00de-4a9e-9c92-18b5dd010d77' class='xr-section-summary-in' type='checkbox' disabled ><label for='section-c087ec25-00de-4a9e-9c92-18b5dd010d77' class='xr-section-summary'  title='Expand/collapse section'>Dimensions:</label><div class='xr-section-inline-details'><ul class='xr-dim-list'><li><span class='xr-has-index'>time</span>: 27</li><li><span class='xr-has-index'>lat</span>: 141</li><li><span class='xr-has-index'>lon</span>: 1</li></ul></div><div class='xr-section-details'></div></li><li class='xr-section-item'><input id='section-6620e36f-efd9-48ae-bdca-65b61906c98b' class='xr-section-summary-in' type='checkbox'  checked><label for='section-6620e36f-efd9-48ae-bdca-65b61906c98b' class='xr-section-summary' >Coordinates: <span>(3)</span></label><div class='xr-section-inline-details'></div><div class='xr-section-details'><ul class='xr-var-list'><li class='xr-var-item'><div class='xr-var-name'><span class='xr-has-index'>time</span></div><div class='xr-var-dims'>(time)</div><div class='xr-var-dtype'>datetime64[ns]</div><div class='xr-var-preview xr-preview'>1911-01-05T09:00:00 ... 1912-01-...</div><input id='attrs-b585ae44-d9a2-4ded-a669-f19a48755cf1' class='xr-var-attrs-in' type='checkbox' ><label for='attrs-b585ae44-d9a2-4ded-a669-f19a48755cf1' title='Show/Hide attributes'><svg class='icon xr-icon-file-text2'><use xlink:href='#icon-file-text2'></use></svg></label><input id='data-a4e441da-8ad3-4c41-9a93-035248de26d9' class='xr-var-data-in' type='checkbox'><label for='data-a4e441da-8ad3-4c41-9a93-035248de26d9' title='Show/Hide data repr'><svg class='icon xr-icon-database'><use xlink:href='#icon-database'></use></svg></label><div class='xr-var-attrs'><dl class='xr-attrs'><dt><span>axis :</span></dt><dd>T</dd><dt><span>time_zone :</span></dt><dd>local time</dd><dt><span>bounds :</span></dt><dd>time_bnds</dd><dt><span>long_name :</span></dt><dd>time</dd></dl></div><div class='xr-var-data'><pre>array([&#x27;1911-01-05T09:00:00.000000000&#x27;, &#x27;1911-01-19T09:00:00.000000000&#x27;,\n",
       "       &#x27;1911-02-02T09:00:00.000000000&#x27;, &#x27;1911-02-16T09:00:00.000000000&#x27;,\n",
       "       &#x27;1911-03-02T09:00:00.000000000&#x27;, &#x27;1911-03-16T09:00:00.000000000&#x27;,\n",
       "       &#x27;1911-03-30T09:00:00.000000000&#x27;, &#x27;1911-04-13T09:00:00.000000000&#x27;,\n",
       "       &#x27;1911-04-27T09:00:00.000000000&#x27;, &#x27;1911-05-11T09:00:00.000000000&#x27;,\n",
       "       &#x27;1911-05-25T09:00:00.000000000&#x27;, &#x27;1911-06-08T09:00:00.000000000&#x27;,\n",
       "       &#x27;1911-06-22T09:00:00.000000000&#x27;, &#x27;1911-07-06T09:00:00.000000000&#x27;,\n",
       "       &#x27;1911-07-20T09:00:00.000000000&#x27;, &#x27;1911-08-03T09:00:00.000000000&#x27;,\n",
       "       &#x27;1911-08-17T09:00:00.000000000&#x27;, &#x27;1911-08-31T09:00:00.000000000&#x27;,\n",
       "       &#x27;1911-09-14T09:00:00.000000000&#x27;, &#x27;1911-09-28T09:00:00.000000000&#x27;,\n",
       "       &#x27;1911-10-12T09:00:00.000000000&#x27;, &#x27;1911-10-26T09:00:00.000000000&#x27;,\n",
       "       &#x27;1911-11-09T09:00:00.000000000&#x27;, &#x27;1911-11-23T09:00:00.000000000&#x27;,\n",
       "       &#x27;1911-12-07T09:00:00.000000000&#x27;, &#x27;1911-12-21T09:00:00.000000000&#x27;,\n",
       "       &#x27;1912-01-04T09:00:00.000000000&#x27;], dtype=&#x27;datetime64[ns]&#x27;)</pre></div></li><li class='xr-var-item'><div class='xr-var-name'><span class='xr-has-index'>lat</span></div><div class='xr-var-dims'>(lat)</div><div class='xr-var-dtype'>float32</div><div class='xr-var-preview xr-preview'>-39.0 -38.95 -38.9 ... -32.05 -32.0</div><input id='attrs-235c1327-4687-45ed-a90f-8706e5f5e66f' class='xr-var-attrs-in' type='checkbox' ><label for='attrs-235c1327-4687-45ed-a90f-8706e5f5e66f' title='Show/Hide attributes'><svg class='icon xr-icon-file-text2'><use xlink:href='#icon-file-text2'></use></svg></label><input id='data-175580c9-991a-437d-9395-a624300ccb54' class='xr-var-data-in' type='checkbox'><label for='data-175580c9-991a-437d-9395-a624300ccb54' title='Show/Hide data repr'><svg class='icon xr-icon-database'><use xlink:href='#icon-database'></use></svg></label><div class='xr-var-attrs'><dl class='xr-attrs'><dt><span>long_name :</span></dt><dd>latitude</dd><dt><span>standard_name :</span></dt><dd>latitude</dd><dt><span>units :</span></dt><dd>degrees_north</dd><dt><span>bounds :</span></dt><dd>lat_bnds</dd><dt><span>axis :</span></dt><dd>Y</dd></dl></div><div class='xr-var-data'><pre>array([-39.  , -38.95, -38.9 , -38.85, -38.8 , -38.75, -38.7 , -38.65, -38.6 ,\n",
       "       -38.55, -38.5 , -38.45, -38.4 , -38.35, -38.3 , -38.25, -38.2 , -38.15,\n",
       "       -38.1 , -38.05, -38.  , -37.95, -37.9 , -37.85, -37.8 , -37.75, -37.7 ,\n",
       "       -37.65, -37.6 , -37.55, -37.5 , -37.45, -37.4 , -37.35, -37.3 , -37.25,\n",
       "       -37.2 , -37.15, -37.1 , -37.05, -37.  , -36.95, -36.9 , -36.85, -36.8 ,\n",
       "       -36.75, -36.7 , -36.65, -36.6 , -36.55, -36.5 , -36.45, -36.4 , -36.35,\n",
       "       -36.3 , -36.25, -36.2 , -36.15, -36.1 , -36.05, -36.  , -35.95, -35.9 ,\n",
       "       -35.85, -35.8 , -35.75, -35.7 , -35.65, -35.6 , -35.55, -35.5 , -35.45,\n",
       "       -35.4 , -35.35, -35.3 , -35.25, -35.2 , -35.15, -35.1 , -35.05, -35.  ,\n",
       "       -34.95, -34.9 , -34.85, -34.8 , -34.75, -34.7 , -34.65, -34.6 , -34.55,\n",
       "       -34.5 , -34.45, -34.4 , -34.35, -34.3 , -34.25, -34.2 , -34.15, -34.1 ,\n",
       "       -34.05, -34.  , -33.95, -33.9 , -33.85, -33.8 , -33.75, -33.7 , -33.65,\n",
       "       -33.6 , -33.55, -33.5 , -33.45, -33.4 , -33.35, -33.3 , -33.25, -33.2 ,\n",
       "       -33.15, -33.1 , -33.05, -33.  , -32.95, -32.9 , -32.85, -32.8 , -32.75,\n",
       "       -32.7 , -32.65, -32.6 , -32.55, -32.5 , -32.45, -32.4 , -32.35, -32.3 ,\n",
       "       -32.25, -32.2 , -32.15, -32.1 , -32.05, -32.  ], dtype=float32)</pre></div></li><li class='xr-var-item'><div class='xr-var-name'><span class='xr-has-index'>lon</span></div><div class='xr-var-dims'>(lon)</div><div class='xr-var-dtype'>float32</div><div class='xr-var-preview xr-preview'>152.0</div><input id='attrs-f2644e65-b079-4c39-973f-77ef10545363' class='xr-var-attrs-in' type='checkbox' ><label for='attrs-f2644e65-b079-4c39-973f-77ef10545363' title='Show/Hide attributes'><svg class='icon xr-icon-file-text2'><use xlink:href='#icon-file-text2'></use></svg></label><input id='data-3a380ea7-3e70-4588-b6d5-e391648000f2' class='xr-var-data-in' type='checkbox'><label for='data-3a380ea7-3e70-4588-b6d5-e391648000f2' title='Show/Hide data repr'><svg class='icon xr-icon-database'><use xlink:href='#icon-database'></use></svg></label><div class='xr-var-attrs'><dl class='xr-attrs'><dt><span>long_name :</span></dt><dd>longitude</dd><dt><span>standard_name :</span></dt><dd>longitude</dd><dt><span>units :</span></dt><dd>degrees_east</dd><dt><span>bounds :</span></dt><dd>lon_bnds</dd><dt><span>axis :</span></dt><dd>X</dd></dl></div><div class='xr-var-data'><pre>array([152.], dtype=float32)</pre></div></li></ul></div></li><li class='xr-section-item'><input id='section-a4af390e-69bd-4a73-93a2-530a0ce40e7a' class='xr-section-summary-in' type='checkbox'  checked><label for='section-a4af390e-69bd-4a73-93a2-530a0ce40e7a' class='xr-section-summary' >Data variables: <span>(1)</span></label><div class='xr-section-inline-details'></div><div class='xr-section-details'><ul class='xr-var-list'><li class='xr-var-item'><div class='xr-var-name'><span>precip</span></div><div class='xr-var-dims'>(time, lat, lon)</div><div class='xr-var-dtype'>float32</div><div class='xr-var-preview xr-preview'>dask.array&lt;chunksize=(27, 141, 1), meta=np.ndarray&gt;</div><input id='attrs-58c3d0ef-c09b-4b40-88fb-0fc6c6e113cc' class='xr-var-attrs-in' type='checkbox' ><label for='attrs-58c3d0ef-c09b-4b40-88fb-0fc6c6e113cc' title='Show/Hide attributes'><svg class='icon xr-icon-file-text2'><use xlink:href='#icon-file-text2'></use></svg></label><input id='data-5d376e5f-422c-42ad-b1b2-262d05478e58' class='xr-var-data-in' type='checkbox'><label for='data-5d376e5f-422c-42ad-b1b2-262d05478e58' title='Show/Hide data repr'><svg class='icon xr-icon-database'><use xlink:href='#icon-database'></use></svg></label><div class='xr-var-attrs'><dl class='xr-attrs'><dt><span>cell_methods :</span></dt><dd>time: sum</dd><dt><span>units :</span></dt><dd>mm</dd><dt><span>analysis_version_number :</span></dt><dd>3.01</dd><dt><span>long_name :</span></dt><dd>Daily precipitation</dd><dt><span>number_of_stations_reporting :</span></dt><dd>2757</dd><dt><span>standard_name :</span></dt><dd>lwe_thickness_of_precipitation_amount</dd><dt><span>frequency :</span></dt><dd>daily</dd><dt><span>length_scale_for_analysis :</span></dt><dd>80.0</dd><dt><span>grid_mapping :</span></dt><dd>crs</dd><dt><span>coverage_content_type :</span></dt><dd>physicalMeasurement</dd><dt><span>valid_range :</span></dt><dd>[     0. 100000.]</dd></dl></div><div class='xr-var-data'><table>\n",
       "    <tr>\n",
       "        <td>\n",
       "            <table>\n",
       "                <thead>\n",
       "                    <tr>\n",
       "                        <td> </td>\n",
       "                        <th> Array </th>\n",
       "                        <th> Chunk </th>\n",
       "                    </tr>\n",
       "                </thead>\n",
       "                <tbody>\n",
       "                    \n",
       "                    <tr>\n",
       "                        <th> Bytes </th>\n",
       "                        <td> 14.87 kiB </td>\n",
       "                        <td> 14.87 kiB </td>\n",
       "                    </tr>\n",
       "                    \n",
       "                    <tr>\n",
       "                        <th> Shape </th>\n",
       "                        <td> (27, 141, 1) </td>\n",
       "                        <td> (27, 141, 1) </td>\n",
       "                    </tr>\n",
       "                    <tr>\n",
       "                        <th> Count </th>\n",
       "                        <td> 2634 Tasks </td>\n",
       "                        <td> 1 Chunks </td>\n",
       "                    </tr>\n",
       "                    <tr>\n",
       "                    <th> Type </th>\n",
       "                    <td> float32 </td>\n",
       "                    <td> numpy.ndarray </td>\n",
       "                    </tr>\n",
       "                </tbody>\n",
       "            </table>\n",
       "        </td>\n",
       "        <td>\n",
       "        <svg width=\"110\" height=\"194\" style=\"stroke:rgb(0,0,0);stroke-width:1\" >\n",
       "\n",
       "  <!-- Horizontal lines -->\n",
       "  <line x1=\"10\" y1=\"0\" x2=\"34\" y2=\"24\" style=\"stroke-width:2\" />\n",
       "  <line x1=\"10\" y1=\"120\" x2=\"34\" y2=\"144\" style=\"stroke-width:2\" />\n",
       "\n",
       "  <!-- Vertical lines -->\n",
       "  <line x1=\"10\" y1=\"0\" x2=\"10\" y2=\"120\" style=\"stroke-width:2\" />\n",
       "  <line x1=\"34\" y1=\"24\" x2=\"34\" y2=\"144\" style=\"stroke-width:2\" />\n",
       "\n",
       "  <!-- Colored Rectangle -->\n",
       "  <polygon points=\"10.0,0.0 34.602398363456544,24.602398363456544 34.602398363456544,144.60239836345653 10.0,120.0\" style=\"fill:#ECB172A0;stroke-width:0\"/>\n",
       "\n",
       "  <!-- Horizontal lines -->\n",
       "  <line x1=\"10\" y1=\"0\" x2=\"35\" y2=\"0\" style=\"stroke-width:2\" />\n",
       "  <line x1=\"34\" y1=\"24\" x2=\"60\" y2=\"24\" style=\"stroke-width:2\" />\n",
       "\n",
       "  <!-- Vertical lines -->\n",
       "  <line x1=\"10\" y1=\"0\" x2=\"34\" y2=\"24\" style=\"stroke-width:2\" />\n",
       "  <line x1=\"35\" y1=\"0\" x2=\"60\" y2=\"24\" style=\"stroke-width:2\" />\n",
       "\n",
       "  <!-- Colored Rectangle -->\n",
       "  <polygon points=\"10.0,0.0 35.41261651458248,0.0 60.015014878039025,24.602398363456544 34.602398363456544,24.602398363456544\" style=\"fill:#ECB172A0;stroke-width:0\"/>\n",
       "\n",
       "  <!-- Horizontal lines -->\n",
       "  <line x1=\"34\" y1=\"24\" x2=\"60\" y2=\"24\" style=\"stroke-width:2\" />\n",
       "  <line x1=\"34\" y1=\"144\" x2=\"60\" y2=\"144\" style=\"stroke-width:2\" />\n",
       "\n",
       "  <!-- Vertical lines -->\n",
       "  <line x1=\"34\" y1=\"24\" x2=\"34\" y2=\"144\" style=\"stroke-width:2\" />\n",
       "  <line x1=\"60\" y1=\"24\" x2=\"60\" y2=\"144\" style=\"stroke-width:2\" />\n",
       "\n",
       "  <!-- Colored Rectangle -->\n",
       "  <polygon points=\"34.602398363456544,24.602398363456544 60.015014878039025,24.602398363456544 60.015014878039025,144.60239836345653 34.602398363456544,144.60239836345653\" style=\"fill:#ECB172A0;stroke-width:0\"/>\n",
       "\n",
       "  <!-- Text -->\n",
       "  <text x=\"47.308707\" y=\"164.602398\" font-size=\"1.0rem\" font-weight=\"100\" text-anchor=\"middle\" >1</text>\n",
       "  <text x=\"80.015015\" y=\"84.602398\" font-size=\"1.0rem\" font-weight=\"100\" text-anchor=\"middle\" transform=\"rotate(-90,80.015015,84.602398)\">141</text>\n",
       "  <text x=\"12.301199\" y=\"152.301199\" font-size=\"1.0rem\" font-weight=\"100\" text-anchor=\"middle\" transform=\"rotate(45,12.301199,152.301199)\">27</text>\n",
       "</svg>\n",
       "        </td>\n",
       "    </tr>\n",
       "</table></div></li></ul></div></li><li class='xr-section-item'><input id='section-cd0a7a29-769e-4500-8689-b69f227bcbef' class='xr-section-summary-in' type='checkbox' disabled ><label for='section-cd0a7a29-769e-4500-8689-b69f227bcbef' class='xr-section-summary'  title='Expand/collapse section'>Attributes: <span>(0)</span></label><div class='xr-section-inline-details'></div><div class='xr-section-details'><dl class='xr-attrs'></dl></div></li></ul></div></div>"
      ],
      "text/plain": [
       "<xarray.Dataset>\n",
       "Dimensions:  (time: 27, lat: 141, lon: 1)\n",
       "Coordinates:\n",
       "  * time     (time) datetime64[ns] 1911-01-05T09:00:00 ... 1912-01-04T09:00:00\n",
       "  * lat      (lat) float32 -39.0 -38.95 -38.9 -38.85 ... -32.1 -32.05 -32.0\n",
       "  * lon      (lon) float32 152.0\n",
       "Data variables:\n",
       "    precip   (time, lat, lon) float32 dask.array<chunksize=(27, 141, 1), meta=np.ndarray>"
      ]
     },
     "execution_count": 50,
     "metadata": {},
     "output_type": "execute_result"
    }
   ],
   "source": [
    "datasets[1]"
   ]
  },
  {
   "cell_type": "code",
   "execution_count": 10,
   "id": "fbb2d466-d29e-4dcf-8727-66b03a25aea9",
   "metadata": {},
   "outputs": [],
   "source": [
    "paths = [create_filepath(ds) for ds in datasets]"
   ]
  },
  {
   "cell_type": "code",
   "execution_count": 13,
   "id": "99ab0fb0-88b4-4df3-94d2-c1983bc7524c",
   "metadata": {},
   "outputs": [],
   "source": [
    "root_path = full_dir_path\n",
    "prefix = 'P_week' + str(nWeek) + '_SEA_'\n",
    "create_filepath(datasets[0], prefix = prefix, root_path = root_path)\n",
    "# start = datasets[0].time[0].dt.strftime(\"%Y-%m-%d\").data\n",
    "# end = datasets[0].time[-1].dt.strftime(\"%Y-%m-%d\").data\n",
    "# # start = ds.time.data[0].strftime(\"%Y-%m-%d\")\n",
    "# # end = ds.time.data[-1].strftime(\"%Y-%m-%d\")\n",
    "# filepath = f'{root_path}/{prefix}_{start}_{end}.nc'\n",
    "# filepath\n",
    "paths = [create_filepath(ds, prefix, root_path) for ds in datasets]"
   ]
  },
  {
   "cell_type": "code",
   "execution_count": 14,
   "id": "d07d9161-8e51-4a2b-ad20-0318025d15a5",
   "metadata": {
    "tags": []
   },
   "outputs": [
    {
     "data": {
      "text/plain": [
       "['/g/data/w97/ad9701/p_prob_analysis/temp_files/P_week2/set4/P_week2_SEA__1911-01-05_1912-01-04.nc',\n",
       " '/g/data/w97/ad9701/p_prob_analysis/temp_files/P_week2/set4/P_week2_SEA__1912-01-18_1913-01-16.nc',\n",
       " '/g/data/w97/ad9701/p_prob_analysis/temp_files/P_week2/set4/P_week2_SEA__1913-01-30_1914-01-29.nc',\n",
       " '/g/data/w97/ad9701/p_prob_analysis/temp_files/P_week2/set4/P_week2_SEA__1914-02-12_1915-02-11.nc',\n",
       " '/g/data/w97/ad9701/p_prob_analysis/temp_files/P_week2/set4/P_week2_SEA__1915-02-25_1916-02-24.nc',\n",
       " '/g/data/w97/ad9701/p_prob_analysis/temp_files/P_week2/set4/P_week2_SEA__1916-03-09_1917-03-08.nc',\n",
       " '/g/data/w97/ad9701/p_prob_analysis/temp_files/P_week2/set4/P_week2_SEA__1917-03-22_1918-03-21.nc',\n",
       " '/g/data/w97/ad9701/p_prob_analysis/temp_files/P_week2/set4/P_week2_SEA__1918-04-04_1919-04-03.nc',\n",
       " '/g/data/w97/ad9701/p_prob_analysis/temp_files/P_week2/set4/P_week2_SEA__1919-04-17_1920-04-15.nc',\n",
       " '/g/data/w97/ad9701/p_prob_analysis/temp_files/P_week2/set4/P_week2_SEA__1920-04-29_1921-04-28.nc',\n",
       " '/g/data/w97/ad9701/p_prob_analysis/temp_files/P_week2/set4/P_week2_SEA__1921-05-12_1922-05-11.nc',\n",
       " '/g/data/w97/ad9701/p_prob_analysis/temp_files/P_week2/set4/P_week2_SEA__1922-05-25_1923-05-24.nc',\n",
       " '/g/data/w97/ad9701/p_prob_analysis/temp_files/P_week2/set4/P_week2_SEA__1923-06-07_1924-06-05.nc',\n",
       " '/g/data/w97/ad9701/p_prob_analysis/temp_files/P_week2/set4/P_week2_SEA__1924-06-19_1925-06-18.nc',\n",
       " '/g/data/w97/ad9701/p_prob_analysis/temp_files/P_week2/set4/P_week2_SEA__1925-07-02_1926-07-01.nc',\n",
       " '/g/data/w97/ad9701/p_prob_analysis/temp_files/P_week2/set4/P_week2_SEA__1926-07-15_1927-07-14.nc',\n",
       " '/g/data/w97/ad9701/p_prob_analysis/temp_files/P_week2/set4/P_week2_SEA__1927-07-28_1928-07-26.nc',\n",
       " '/g/data/w97/ad9701/p_prob_analysis/temp_files/P_week2/set4/P_week2_SEA__1928-08-09_1929-08-08.nc',\n",
       " '/g/data/w97/ad9701/p_prob_analysis/temp_files/P_week2/set4/P_week2_SEA__1929-08-22_1930-08-21.nc',\n",
       " '/g/data/w97/ad9701/p_prob_analysis/temp_files/P_week2/set4/P_week2_SEA__1930-09-04_1931-09-03.nc',\n",
       " '/g/data/w97/ad9701/p_prob_analysis/temp_files/P_week2/set4/P_week2_SEA__1931-09-17_1932-09-15.nc',\n",
       " '/g/data/w97/ad9701/p_prob_analysis/temp_files/P_week2/set4/P_week2_SEA__1932-09-29_1933-09-28.nc',\n",
       " '/g/data/w97/ad9701/p_prob_analysis/temp_files/P_week2/set4/P_week2_SEA__1933-10-12_1934-10-11.nc',\n",
       " '/g/data/w97/ad9701/p_prob_analysis/temp_files/P_week2/set4/P_week2_SEA__1934-10-25_1935-10-24.nc',\n",
       " '/g/data/w97/ad9701/p_prob_analysis/temp_files/P_week2/set4/P_week2_SEA__1935-11-07_1936-11-05.nc',\n",
       " '/g/data/w97/ad9701/p_prob_analysis/temp_files/P_week2/set4/P_week2_SEA__1936-11-19_1937-11-18.nc',\n",
       " '/g/data/w97/ad9701/p_prob_analysis/temp_files/P_week2/set4/P_week2_SEA__1937-12-02_1938-12-01.nc',\n",
       " '/g/data/w97/ad9701/p_prob_analysis/temp_files/P_week2/set4/P_week2_SEA__1938-12-15_1939-12-14.nc',\n",
       " '/g/data/w97/ad9701/p_prob_analysis/temp_files/P_week2/set4/P_week2_SEA__1939-12-28_1940-12-26.nc',\n",
       " '/g/data/w97/ad9701/p_prob_analysis/temp_files/P_week2/set4/P_week2_SEA__1941-01-09_1942-01-08.nc',\n",
       " '/g/data/w97/ad9701/p_prob_analysis/temp_files/P_week2/set4/P_week2_SEA__1942-01-22_1943-01-21.nc',\n",
       " '/g/data/w97/ad9701/p_prob_analysis/temp_files/P_week2/set4/P_week2_SEA__1943-02-04_1944-02-03.nc',\n",
       " '/g/data/w97/ad9701/p_prob_analysis/temp_files/P_week2/set4/P_week2_SEA__1944-02-17_1945-02-15.nc',\n",
       " '/g/data/w97/ad9701/p_prob_analysis/temp_files/P_week2/set4/P_week2_SEA__1945-03-01_1946-02-28.nc',\n",
       " '/g/data/w97/ad9701/p_prob_analysis/temp_files/P_week2/set4/P_week2_SEA__1946-03-14_1947-03-13.nc',\n",
       " '/g/data/w97/ad9701/p_prob_analysis/temp_files/P_week2/set4/P_week2_SEA__1947-03-27_1948-03-25.nc',\n",
       " '/g/data/w97/ad9701/p_prob_analysis/temp_files/P_week2/set4/P_week2_SEA__1948-04-08_1949-04-07.nc',\n",
       " '/g/data/w97/ad9701/p_prob_analysis/temp_files/P_week2/set4/P_week2_SEA__1949-04-21_1950-04-20.nc',\n",
       " '/g/data/w97/ad9701/p_prob_analysis/temp_files/P_week2/set4/P_week2_SEA__1950-05-04_1951-05-03.nc',\n",
       " '/g/data/w97/ad9701/p_prob_analysis/temp_files/P_week2/set4/P_week2_SEA__1951-05-17_1952-05-15.nc',\n",
       " '/g/data/w97/ad9701/p_prob_analysis/temp_files/P_week2/set4/P_week2_SEA__1952-05-29_1953-05-28.nc',\n",
       " '/g/data/w97/ad9701/p_prob_analysis/temp_files/P_week2/set4/P_week2_SEA__1953-06-11_1954-06-10.nc',\n",
       " '/g/data/w97/ad9701/p_prob_analysis/temp_files/P_week2/set4/P_week2_SEA__1954-06-24_1955-06-23.nc',\n",
       " '/g/data/w97/ad9701/p_prob_analysis/temp_files/P_week2/set4/P_week2_SEA__1955-07-07_1956-07-05.nc',\n",
       " '/g/data/w97/ad9701/p_prob_analysis/temp_files/P_week2/set4/P_week2_SEA__1956-07-19_1957-07-18.nc',\n",
       " '/g/data/w97/ad9701/p_prob_analysis/temp_files/P_week2/set4/P_week2_SEA__1957-08-01_1958-07-31.nc',\n",
       " '/g/data/w97/ad9701/p_prob_analysis/temp_files/P_week2/set4/P_week2_SEA__1958-08-14_1959-08-13.nc',\n",
       " '/g/data/w97/ad9701/p_prob_analysis/temp_files/P_week2/set4/P_week2_SEA__1959-08-27_1960-08-25.nc',\n",
       " '/g/data/w97/ad9701/p_prob_analysis/temp_files/P_week2/set4/P_week2_SEA__1960-09-08_1961-09-07.nc',\n",
       " '/g/data/w97/ad9701/p_prob_analysis/temp_files/P_week2/set4/P_week2_SEA__1961-09-21_1962-09-20.nc',\n",
       " '/g/data/w97/ad9701/p_prob_analysis/temp_files/P_week2/set4/P_week2_SEA__1962-10-04_1963-10-03.nc',\n",
       " '/g/data/w97/ad9701/p_prob_analysis/temp_files/P_week2/set4/P_week2_SEA__1963-10-17_1964-10-15.nc',\n",
       " '/g/data/w97/ad9701/p_prob_analysis/temp_files/P_week2/set4/P_week2_SEA__1964-10-29_1965-10-28.nc',\n",
       " '/g/data/w97/ad9701/p_prob_analysis/temp_files/P_week2/set4/P_week2_SEA__1965-11-11_1966-11-10.nc',\n",
       " '/g/data/w97/ad9701/p_prob_analysis/temp_files/P_week2/set4/P_week2_SEA__1966-11-24_1967-11-23.nc',\n",
       " '/g/data/w97/ad9701/p_prob_analysis/temp_files/P_week2/set4/P_week2_SEA__1967-12-07_1968-12-05.nc',\n",
       " '/g/data/w97/ad9701/p_prob_analysis/temp_files/P_week2/set4/P_week2_SEA__1968-12-19_1969-12-18.nc',\n",
       " '/g/data/w97/ad9701/p_prob_analysis/temp_files/P_week2/set4/P_week2_SEA__1970-01-01_1970-12-31.nc',\n",
       " '/g/data/w97/ad9701/p_prob_analysis/temp_files/P_week2/set4/P_week2_SEA__1971-01-14_1972-01-13.nc',\n",
       " '/g/data/w97/ad9701/p_prob_analysis/temp_files/P_week2/set4/P_week2_SEA__1972-01-27_1973-01-25.nc',\n",
       " '/g/data/w97/ad9701/p_prob_analysis/temp_files/P_week2/set4/P_week2_SEA__1973-02-08_1974-02-07.nc',\n",
       " '/g/data/w97/ad9701/p_prob_analysis/temp_files/P_week2/set4/P_week2_SEA__1974-02-21_1975-02-20.nc',\n",
       " '/g/data/w97/ad9701/p_prob_analysis/temp_files/P_week2/set4/P_week2_SEA__1975-03-06_1976-03-04.nc',\n",
       " '/g/data/w97/ad9701/p_prob_analysis/temp_files/P_week2/set4/P_week2_SEA__1976-03-18_1977-03-17.nc',\n",
       " '/g/data/w97/ad9701/p_prob_analysis/temp_files/P_week2/set4/P_week2_SEA__1977-03-31_1978-03-30.nc',\n",
       " '/g/data/w97/ad9701/p_prob_analysis/temp_files/P_week2/set4/P_week2_SEA__1978-04-13_1979-04-12.nc',\n",
       " '/g/data/w97/ad9701/p_prob_analysis/temp_files/P_week2/set4/P_week2_SEA__1979-04-26_1980-04-24.nc',\n",
       " '/g/data/w97/ad9701/p_prob_analysis/temp_files/P_week2/set4/P_week2_SEA__1980-05-08_1981-05-07.nc',\n",
       " '/g/data/w97/ad9701/p_prob_analysis/temp_files/P_week2/set4/P_week2_SEA__1981-05-21_1982-05-20.nc',\n",
       " '/g/data/w97/ad9701/p_prob_analysis/temp_files/P_week2/set4/P_week2_SEA__1982-06-03_1983-06-02.nc',\n",
       " '/g/data/w97/ad9701/p_prob_analysis/temp_files/P_week2/set4/P_week2_SEA__1983-06-16_1984-06-14.nc',\n",
       " '/g/data/w97/ad9701/p_prob_analysis/temp_files/P_week2/set4/P_week2_SEA__1984-06-28_1985-06-27.nc',\n",
       " '/g/data/w97/ad9701/p_prob_analysis/temp_files/P_week2/set4/P_week2_SEA__1985-07-11_1986-07-10.nc',\n",
       " '/g/data/w97/ad9701/p_prob_analysis/temp_files/P_week2/set4/P_week2_SEA__1986-07-24_1987-07-23.nc',\n",
       " '/g/data/w97/ad9701/p_prob_analysis/temp_files/P_week2/set4/P_week2_SEA__1987-08-06_1988-08-04.nc',\n",
       " '/g/data/w97/ad9701/p_prob_analysis/temp_files/P_week2/set4/P_week2_SEA__1988-08-18_1989-08-17.nc',\n",
       " '/g/data/w97/ad9701/p_prob_analysis/temp_files/P_week2/set4/P_week2_SEA__1989-08-31_1990-08-30.nc',\n",
       " '/g/data/w97/ad9701/p_prob_analysis/temp_files/P_week2/set4/P_week2_SEA__1990-09-13_1991-09-12.nc',\n",
       " '/g/data/w97/ad9701/p_prob_analysis/temp_files/P_week2/set4/P_week2_SEA__1991-09-26_1992-09-24.nc',\n",
       " '/g/data/w97/ad9701/p_prob_analysis/temp_files/P_week2/set4/P_week2_SEA__1992-10-08_1993-10-07.nc',\n",
       " '/g/data/w97/ad9701/p_prob_analysis/temp_files/P_week2/set4/P_week2_SEA__1993-10-21_1994-10-20.nc',\n",
       " '/g/data/w97/ad9701/p_prob_analysis/temp_files/P_week2/set4/P_week2_SEA__1994-11-03_1995-11-02.nc',\n",
       " '/g/data/w97/ad9701/p_prob_analysis/temp_files/P_week2/set4/P_week2_SEA__1995-11-16_1996-11-14.nc',\n",
       " '/g/data/w97/ad9701/p_prob_analysis/temp_files/P_week2/set4/P_week2_SEA__1996-11-28_1997-11-27.nc',\n",
       " '/g/data/w97/ad9701/p_prob_analysis/temp_files/P_week2/set4/P_week2_SEA__1997-12-11_1998-12-10.nc',\n",
       " '/g/data/w97/ad9701/p_prob_analysis/temp_files/P_week2/set4/P_week2_SEA__1998-12-24_1999-12-23.nc',\n",
       " '/g/data/w97/ad9701/p_prob_analysis/temp_files/P_week2/set4/P_week2_SEA__2000-01-06_2001-01-04.nc',\n",
       " '/g/data/w97/ad9701/p_prob_analysis/temp_files/P_week2/set4/P_week2_SEA__2001-01-18_2002-01-17.nc',\n",
       " '/g/data/w97/ad9701/p_prob_analysis/temp_files/P_week2/set4/P_week2_SEA__2002-01-31_2003-01-30.nc',\n",
       " '/g/data/w97/ad9701/p_prob_analysis/temp_files/P_week2/set4/P_week2_SEA__2003-02-13_2004-02-12.nc',\n",
       " '/g/data/w97/ad9701/p_prob_analysis/temp_files/P_week2/set4/P_week2_SEA__2004-02-26_2005-02-24.nc',\n",
       " '/g/data/w97/ad9701/p_prob_analysis/temp_files/P_week2/set4/P_week2_SEA__2005-03-10_2006-03-09.nc',\n",
       " '/g/data/w97/ad9701/p_prob_analysis/temp_files/P_week2/set4/P_week2_SEA__2006-03-23_2007-03-22.nc',\n",
       " '/g/data/w97/ad9701/p_prob_analysis/temp_files/P_week2/set4/P_week2_SEA__2007-04-05_2008-04-03.nc',\n",
       " '/g/data/w97/ad9701/p_prob_analysis/temp_files/P_week2/set4/P_week2_SEA__2008-04-17_2009-04-16.nc',\n",
       " '/g/data/w97/ad9701/p_prob_analysis/temp_files/P_week2/set4/P_week2_SEA__2009-04-30_2010-04-29.nc',\n",
       " '/g/data/w97/ad9701/p_prob_analysis/temp_files/P_week2/set4/P_week2_SEA__2010-05-13_2011-05-12.nc',\n",
       " '/g/data/w97/ad9701/p_prob_analysis/temp_files/P_week2/set4/P_week2_SEA__2011-05-26_2012-05-24.nc',\n",
       " '/g/data/w97/ad9701/p_prob_analysis/temp_files/P_week2/set4/P_week2_SEA__2012-06-07_2013-06-06.nc',\n",
       " '/g/data/w97/ad9701/p_prob_analysis/temp_files/P_week2/set4/P_week2_SEA__2013-06-20_2014-06-19.nc',\n",
       " '/g/data/w97/ad9701/p_prob_analysis/temp_files/P_week2/set4/P_week2_SEA__2014-07-03_2015-07-02.nc',\n",
       " '/g/data/w97/ad9701/p_prob_analysis/temp_files/P_week2/set4/P_week2_SEA__2015-07-16_2016-07-14.nc',\n",
       " '/g/data/w97/ad9701/p_prob_analysis/temp_files/P_week2/set4/P_week2_SEA__2016-07-28_2017-07-27.nc',\n",
       " '/g/data/w97/ad9701/p_prob_analysis/temp_files/P_week2/set4/P_week2_SEA__2017-08-10_2018-08-09.nc',\n",
       " '/g/data/w97/ad9701/p_prob_analysis/temp_files/P_week2/set4/P_week2_SEA__2018-08-23_2019-08-22.nc',\n",
       " '/g/data/w97/ad9701/p_prob_analysis/temp_files/P_week2/set4/P_week2_SEA__2019-09-05_2020-05-14.nc']"
      ]
     },
     "execution_count": 14,
     "metadata": {},
     "output_type": "execute_result"
    }
   ],
   "source": [
    "paths"
   ]
  },
  {
   "cell_type": "code",
   "execution_count": 23,
   "id": "412f9850-34a8-4ca6-8179-39621d4d2ba1",
   "metadata": {},
   "outputs": [],
   "source": [
    "xr.save_mfdataset(datasets=datasets, paths=paths)"
   ]
  },
  {
   "cell_type": "code",
   "execution_count": 6,
   "id": "00c869b7-462b-4fc1-9368-5311865b54eb",
   "metadata": {},
   "outputs": [],
   "source": [
    "cluster.scale(cores = 0)"
   ]
  },
  {
   "cell_type": "code",
   "execution_count": 15,
   "id": "e9a75ccc-410c-46dc-b86a-3ac4201ce437",
   "metadata": {},
   "outputs": [
    {
     "data": {
      "text/plain": [
       "{'day_len': {2: 14},\n",
       " 'time_chunk': {2: 378},\n",
       " 'start_day': {2: '1911-01-03'},\n",
       " 'end_day': {2: '2020-05-25'}}"
      ]
     },
     "execution_count": 15,
     "metadata": {},
     "output_type": "execute_result"
    }
   ],
   "source": [
    "allWeek_allSets['week2_sets'][0]"
   ]
  },
  {
   "cell_type": "code",
   "execution_count": 5,
   "id": "bb90dbeb-5d3e-43bf-bd82-7d51d71dcc86",
   "metadata": {},
   "outputs": [],
   "source": [
    "cluster.scale(cores=0)"
   ]
  },
  {
   "cell_type": "code",
   "execution_count": 2,
   "id": "65be9fae-77ed-40e2-a6da-52c652697b22",
   "metadata": {
    "collapsed": true,
    "jupyter": {
     "outputs_hidden": true
    },
    "tags": []
   },
   "outputs": [
    {
     "name": "stdout",
     "output_type": "stream",
     "text": [
      "Writing file:1911\n"
     ]
    },
    {
     "data": {
      "application/vnd.jupyter.widget-view+json": {
       "model_id": "68b7e70036604b7cab2ad1934ffb1b28",
       "version_major": 2,
       "version_minor": 0
      },
      "text/plain": [
       "  0%|          | 0/12 [00:00<?, ?it/s]"
      ]
     },
     "metadata": {},
     "output_type": "display_data"
    },
    {
     "name": "stdout",
     "output_type": "stream",
     "text": [
      "Writing file:1912\n"
     ]
    },
    {
     "data": {
      "application/vnd.jupyter.widget-view+json": {
       "model_id": "ab82dcc7a95f45319c161b22f7d7c2bc",
       "version_major": 2,
       "version_minor": 0
      },
      "text/plain": [
       "  0%|          | 0/12 [00:00<?, ?it/s]"
      ]
     },
     "metadata": {},
     "output_type": "display_data"
    },
    {
     "name": "stdout",
     "output_type": "stream",
     "text": [
      "Writing file:1913\n"
     ]
    },
    {
     "data": {
      "application/vnd.jupyter.widget-view+json": {
       "model_id": "a440398ea9424ad7905d9602f5ecdc11",
       "version_major": 2,
       "version_minor": 0
      },
      "text/plain": [
       "  0%|          | 0/12 [00:00<?, ?it/s]"
      ]
     },
     "metadata": {},
     "output_type": "display_data"
    },
    {
     "name": "stdout",
     "output_type": "stream",
     "text": [
      "Writing file:1914\n"
     ]
    },
    {
     "data": {
      "application/vnd.jupyter.widget-view+json": {
       "model_id": "b870cd41e17b47bfaa998661025c0499",
       "version_major": 2,
       "version_minor": 0
      },
      "text/plain": [
       "  0%|          | 0/12 [00:00<?, ?it/s]"
      ]
     },
     "metadata": {},
     "output_type": "display_data"
    },
    {
     "name": "stdout",
     "output_type": "stream",
     "text": [
      "Writing file:1915\n"
     ]
    },
    {
     "data": {
      "application/vnd.jupyter.widget-view+json": {
       "model_id": "36834d7a26094c67b0e1a104e7c8bec1",
       "version_major": 2,
       "version_minor": 0
      },
      "text/plain": [
       "  0%|          | 0/12 [00:00<?, ?it/s]"
      ]
     },
     "metadata": {},
     "output_type": "display_data"
    },
    {
     "name": "stdout",
     "output_type": "stream",
     "text": [
      "Writing file:1916\n"
     ]
    },
    {
     "data": {
      "application/vnd.jupyter.widget-view+json": {
       "model_id": "95b2fd459a8c4affa6ef27d102934e5d",
       "version_major": 2,
       "version_minor": 0
      },
      "text/plain": [
       "  0%|          | 0/12 [00:00<?, ?it/s]"
      ]
     },
     "metadata": {},
     "output_type": "display_data"
    },
    {
     "name": "stdout",
     "output_type": "stream",
     "text": [
      "Writing file:1917\n"
     ]
    },
    {
     "data": {
      "application/vnd.jupyter.widget-view+json": {
       "model_id": "3f216e9dcfb74351ad04c2711430c904",
       "version_major": 2,
       "version_minor": 0
      },
      "text/plain": [
       "  0%|          | 0/12 [00:00<?, ?it/s]"
      ]
     },
     "metadata": {},
     "output_type": "display_data"
    },
    {
     "name": "stdout",
     "output_type": "stream",
     "text": [
      "Writing file:1918\n"
     ]
    },
    {
     "data": {
      "application/vnd.jupyter.widget-view+json": {
       "model_id": "c4d839f6e17b403eb46754c30889fba7",
       "version_major": 2,
       "version_minor": 0
      },
      "text/plain": [
       "  0%|          | 0/12 [00:00<?, ?it/s]"
      ]
     },
     "metadata": {},
     "output_type": "display_data"
    },
    {
     "name": "stdout",
     "output_type": "stream",
     "text": [
      "Writing file:1919\n"
     ]
    },
    {
     "data": {
      "application/vnd.jupyter.widget-view+json": {
       "model_id": "01fdb37bd42249ec8e32e42e8a69da21",
       "version_major": 2,
       "version_minor": 0
      },
      "text/plain": [
       "  0%|          | 0/12 [00:00<?, ?it/s]"
      ]
     },
     "metadata": {},
     "output_type": "display_data"
    },
    {
     "name": "stdout",
     "output_type": "stream",
     "text": [
      "Writing file:1920\n"
     ]
    },
    {
     "data": {
      "application/vnd.jupyter.widget-view+json": {
       "model_id": "37c5ec5ce1114ed68c0eea4cc5e94d3c",
       "version_major": 2,
       "version_minor": 0
      },
      "text/plain": [
       "  0%|          | 0/12 [00:00<?, ?it/s]"
      ]
     },
     "metadata": {},
     "output_type": "display_data"
    },
    {
     "name": "stdout",
     "output_type": "stream",
     "text": [
      "Writing file:1921\n"
     ]
    },
    {
     "data": {
      "application/vnd.jupyter.widget-view+json": {
       "model_id": "77907adcf804457fab5a4ae96c41c3ed",
       "version_major": 2,
       "version_minor": 0
      },
      "text/plain": [
       "  0%|          | 0/12 [00:00<?, ?it/s]"
      ]
     },
     "metadata": {},
     "output_type": "display_data"
    },
    {
     "name": "stdout",
     "output_type": "stream",
     "text": [
      "Writing file:1922\n"
     ]
    },
    {
     "data": {
      "application/vnd.jupyter.widget-view+json": {
       "model_id": "493496734aea47948f540914861c90eb",
       "version_major": 2,
       "version_minor": 0
      },
      "text/plain": [
       "  0%|          | 0/12 [00:00<?, ?it/s]"
      ]
     },
     "metadata": {},
     "output_type": "display_data"
    },
    {
     "name": "stdout",
     "output_type": "stream",
     "text": [
      "Writing file:1923\n"
     ]
    },
    {
     "data": {
      "application/vnd.jupyter.widget-view+json": {
       "model_id": "760a4d57f03445ba868d235f09fb6524",
       "version_major": 2,
       "version_minor": 0
      },
      "text/plain": [
       "  0%|          | 0/12 [00:00<?, ?it/s]"
      ]
     },
     "metadata": {},
     "output_type": "display_data"
    },
    {
     "name": "stdout",
     "output_type": "stream",
     "text": [
      "Writing file:1924\n"
     ]
    },
    {
     "data": {
      "application/vnd.jupyter.widget-view+json": {
       "model_id": "8611fdc0d1f34fc08e803339a3b358e2",
       "version_major": 2,
       "version_minor": 0
      },
      "text/plain": [
       "  0%|          | 0/12 [00:00<?, ?it/s]"
      ]
     },
     "metadata": {},
     "output_type": "display_data"
    },
    {
     "name": "stdout",
     "output_type": "stream",
     "text": [
      "Writing file:1925\n"
     ]
    },
    {
     "data": {
      "application/vnd.jupyter.widget-view+json": {
       "model_id": "2391b57f805743f5afbd047e43196dd9",
       "version_major": 2,
       "version_minor": 0
      },
      "text/plain": [
       "  0%|          | 0/12 [00:00<?, ?it/s]"
      ]
     },
     "metadata": {},
     "output_type": "display_data"
    },
    {
     "name": "stdout",
     "output_type": "stream",
     "text": [
      "Writing file:1926\n"
     ]
    },
    {
     "data": {
      "application/vnd.jupyter.widget-view+json": {
       "model_id": "14cd5bd831734a38bfaaa94815990c4a",
       "version_major": 2,
       "version_minor": 0
      },
      "text/plain": [
       "  0%|          | 0/12 [00:00<?, ?it/s]"
      ]
     },
     "metadata": {},
     "output_type": "display_data"
    },
    {
     "name": "stdout",
     "output_type": "stream",
     "text": [
      "Writing file:1927\n"
     ]
    },
    {
     "data": {
      "application/vnd.jupyter.widget-view+json": {
       "model_id": "2047c47c925841d29859d15d10e80cf6",
       "version_major": 2,
       "version_minor": 0
      },
      "text/plain": [
       "  0%|          | 0/12 [00:00<?, ?it/s]"
      ]
     },
     "metadata": {},
     "output_type": "display_data"
    },
    {
     "name": "stdout",
     "output_type": "stream",
     "text": [
      "Writing file:1928\n"
     ]
    },
    {
     "data": {
      "application/vnd.jupyter.widget-view+json": {
       "model_id": "4a6997e7cac247d2a49425e8fbbfcd60",
       "version_major": 2,
       "version_minor": 0
      },
      "text/plain": [
       "  0%|          | 0/12 [00:00<?, ?it/s]"
      ]
     },
     "metadata": {},
     "output_type": "display_data"
    },
    {
     "name": "stdout",
     "output_type": "stream",
     "text": [
      "Writing file:1929\n"
     ]
    },
    {
     "data": {
      "application/vnd.jupyter.widget-view+json": {
       "model_id": "b23cad919aab436cb263c9c7677989e6",
       "version_major": 2,
       "version_minor": 0
      },
      "text/plain": [
       "  0%|          | 0/12 [00:00<?, ?it/s]"
      ]
     },
     "metadata": {},
     "output_type": "display_data"
    },
    {
     "name": "stdout",
     "output_type": "stream",
     "text": [
      "Writing file:1930\n"
     ]
    },
    {
     "data": {
      "application/vnd.jupyter.widget-view+json": {
       "model_id": "fb9a405445d74a57ba48a4a1db375a10",
       "version_major": 2,
       "version_minor": 0
      },
      "text/plain": [
       "  0%|          | 0/6 [00:00<?, ?it/s]"
      ]
     },
     "metadata": {},
     "output_type": "display_data"
    },
    {
     "name": "stdout",
     "output_type": "stream",
     "text": [
      "Writing file:1931\n"
     ]
    },
    {
     "data": {
      "application/vnd.jupyter.widget-view+json": {
       "model_id": "e2ee0cfe4a7b4b5596f41977837e6379",
       "version_major": 2,
       "version_minor": 0
      },
      "text/plain": [
       "  0%|          | 0/6 [00:00<?, ?it/s]"
      ]
     },
     "metadata": {},
     "output_type": "display_data"
    },
    {
     "name": "stdout",
     "output_type": "stream",
     "text": [
      "Writing file:1932\n"
     ]
    },
    {
     "data": {
      "application/vnd.jupyter.widget-view+json": {
       "model_id": "ad0c9a1f585546a9b571792c2d70f8a9",
       "version_major": 2,
       "version_minor": 0
      },
      "text/plain": [
       "  0%|          | 0/6 [00:00<?, ?it/s]"
      ]
     },
     "metadata": {},
     "output_type": "display_data"
    },
    {
     "name": "stdout",
     "output_type": "stream",
     "text": [
      "Writing file:1933\n"
     ]
    },
    {
     "data": {
      "application/vnd.jupyter.widget-view+json": {
       "model_id": "3d74c3d8ed064c7f9a00d66ee40083b8",
       "version_major": 2,
       "version_minor": 0
      },
      "text/plain": [
       "  0%|          | 0/6 [00:00<?, ?it/s]"
      ]
     },
     "metadata": {},
     "output_type": "display_data"
    },
    {
     "name": "stdout",
     "output_type": "stream",
     "text": [
      "Writing file:1934\n"
     ]
    },
    {
     "data": {
      "application/vnd.jupyter.widget-view+json": {
       "model_id": "9604d220d18240c985e88b5cc654800b",
       "version_major": 2,
       "version_minor": 0
      },
      "text/plain": [
       "  0%|          | 0/12 [00:00<?, ?it/s]"
      ]
     },
     "metadata": {},
     "output_type": "display_data"
    },
    {
     "name": "stdout",
     "output_type": "stream",
     "text": [
      "Writing file:1935\n"
     ]
    },
    {
     "data": {
      "application/vnd.jupyter.widget-view+json": {
       "model_id": "3146580a47c54b8ab602fe3167d5a52c",
       "version_major": 2,
       "version_minor": 0
      },
      "text/plain": [
       "  0%|          | 0/12 [00:00<?, ?it/s]"
      ]
     },
     "metadata": {},
     "output_type": "display_data"
    },
    {
     "name": "stdout",
     "output_type": "stream",
     "text": [
      "Writing file:1936\n"
     ]
    },
    {
     "data": {
      "application/vnd.jupyter.widget-view+json": {
       "model_id": "73b4ae61718e448da4ac960d618d42b9",
       "version_major": 2,
       "version_minor": 0
      },
      "text/plain": [
       "  0%|          | 0/12 [00:00<?, ?it/s]"
      ]
     },
     "metadata": {},
     "output_type": "display_data"
    },
    {
     "name": "stdout",
     "output_type": "stream",
     "text": [
      "Writing file:1937\n"
     ]
    },
    {
     "data": {
      "application/vnd.jupyter.widget-view+json": {
       "model_id": "a14bf65c1a834158bd1951fed5186242",
       "version_major": 2,
       "version_minor": 0
      },
      "text/plain": [
       "  0%|          | 0/12 [00:00<?, ?it/s]"
      ]
     },
     "metadata": {},
     "output_type": "display_data"
    },
    {
     "name": "stdout",
     "output_type": "stream",
     "text": [
      "Writing file:1938\n"
     ]
    },
    {
     "data": {
      "application/vnd.jupyter.widget-view+json": {
       "model_id": "4dfc5393a0a24f1581c9d368dc1971c4",
       "version_major": 2,
       "version_minor": 0
      },
      "text/plain": [
       "  0%|          | 0/12 [00:00<?, ?it/s]"
      ]
     },
     "metadata": {},
     "output_type": "display_data"
    },
    {
     "name": "stdout",
     "output_type": "stream",
     "text": [
      "Writing file:1939\n"
     ]
    },
    {
     "data": {
      "application/vnd.jupyter.widget-view+json": {
       "model_id": "d04f48b639674fccb2d99d346ac7d1e8",
       "version_major": 2,
       "version_minor": 0
      },
      "text/plain": [
       "  0%|          | 0/12 [00:00<?, ?it/s]"
      ]
     },
     "metadata": {},
     "output_type": "display_data"
    },
    {
     "name": "stdout",
     "output_type": "stream",
     "text": [
      "Writing file:1940\n"
     ]
    },
    {
     "data": {
      "application/vnd.jupyter.widget-view+json": {
       "model_id": "c7db364145bb4c069ff7a48b7865c564",
       "version_major": 2,
       "version_minor": 0
      },
      "text/plain": [
       "  0%|          | 0/12 [00:00<?, ?it/s]"
      ]
     },
     "metadata": {},
     "output_type": "display_data"
    },
    {
     "name": "stdout",
     "output_type": "stream",
     "text": [
      "Writing file:1941\n"
     ]
    },
    {
     "data": {
      "application/vnd.jupyter.widget-view+json": {
       "model_id": "762e5fd9a46b4219ac6eb5b4bc38efd2",
       "version_major": 2,
       "version_minor": 0
      },
      "text/plain": [
       "  0%|          | 0/12 [00:00<?, ?it/s]"
      ]
     },
     "metadata": {},
     "output_type": "display_data"
    },
    {
     "name": "stdout",
     "output_type": "stream",
     "text": [
      "Writing file:1942\n"
     ]
    },
    {
     "data": {
      "application/vnd.jupyter.widget-view+json": {
       "model_id": "b7de0bd8c1a24de79f3e53596b820c18",
       "version_major": 2,
       "version_minor": 0
      },
      "text/plain": [
       "  0%|          | 0/12 [00:00<?, ?it/s]"
      ]
     },
     "metadata": {},
     "output_type": "display_data"
    },
    {
     "name": "stdout",
     "output_type": "stream",
     "text": [
      "Writing file:1943\n"
     ]
    },
    {
     "data": {
      "application/vnd.jupyter.widget-view+json": {
       "model_id": "89c65fefd4ba4d2981105de729d88fbc",
       "version_major": 2,
       "version_minor": 0
      },
      "text/plain": [
       "  0%|          | 0/12 [00:00<?, ?it/s]"
      ]
     },
     "metadata": {},
     "output_type": "display_data"
    },
    {
     "name": "stdout",
     "output_type": "stream",
     "text": [
      "Writing file:1944\n"
     ]
    },
    {
     "data": {
      "application/vnd.jupyter.widget-view+json": {
       "model_id": "7e2afd3cdd3e470293ced357ef2ac973",
       "version_major": 2,
       "version_minor": 0
      },
      "text/plain": [
       "  0%|          | 0/12 [00:00<?, ?it/s]"
      ]
     },
     "metadata": {},
     "output_type": "display_data"
    },
    {
     "name": "stdout",
     "output_type": "stream",
     "text": [
      "Writing file:1945\n"
     ]
    },
    {
     "data": {
      "application/vnd.jupyter.widget-view+json": {
       "model_id": "e2508a223d3143a788e417ca5772bd8e",
       "version_major": 2,
       "version_minor": 0
      },
      "text/plain": [
       "  0%|          | 0/12 [00:00<?, ?it/s]"
      ]
     },
     "metadata": {},
     "output_type": "display_data"
    },
    {
     "name": "stdout",
     "output_type": "stream",
     "text": [
      "Writing file:1946\n"
     ]
    },
    {
     "data": {
      "application/vnd.jupyter.widget-view+json": {
       "model_id": "397c40ede5e641cab311901862124429",
       "version_major": 2,
       "version_minor": 0
      },
      "text/plain": [
       "  0%|          | 0/12 [00:00<?, ?it/s]"
      ]
     },
     "metadata": {},
     "output_type": "display_data"
    },
    {
     "name": "stdout",
     "output_type": "stream",
     "text": [
      "Writing file:1947\n"
     ]
    },
    {
     "data": {
      "application/vnd.jupyter.widget-view+json": {
       "model_id": "f22f5ab84c124bf897196eb129a38467",
       "version_major": 2,
       "version_minor": 0
      },
      "text/plain": [
       "  0%|          | 0/12 [00:00<?, ?it/s]"
      ]
     },
     "metadata": {},
     "output_type": "display_data"
    },
    {
     "name": "stdout",
     "output_type": "stream",
     "text": [
      "Writing file:1948\n"
     ]
    },
    {
     "data": {
      "application/vnd.jupyter.widget-view+json": {
       "model_id": "c12cefbfac5b426d9b72e5a146c8a8f8",
       "version_major": 2,
       "version_minor": 0
      },
      "text/plain": [
       "  0%|          | 0/12 [00:00<?, ?it/s]"
      ]
     },
     "metadata": {},
     "output_type": "display_data"
    },
    {
     "name": "stdout",
     "output_type": "stream",
     "text": [
      "Writing file:1949\n"
     ]
    },
    {
     "data": {
      "application/vnd.jupyter.widget-view+json": {
       "model_id": "8304c022301d4a7b8f3f379fe2334bdf",
       "version_major": 2,
       "version_minor": 0
      },
      "text/plain": [
       "  0%|          | 0/12 [00:00<?, ?it/s]"
      ]
     },
     "metadata": {},
     "output_type": "display_data"
    },
    {
     "name": "stdout",
     "output_type": "stream",
     "text": [
      "Writing file:1950\n"
     ]
    },
    {
     "data": {
      "application/vnd.jupyter.widget-view+json": {
       "model_id": "ed62646b880c451898f3093fba848691",
       "version_major": 2,
       "version_minor": 0
      },
      "text/plain": [
       "  0%|          | 0/12 [00:00<?, ?it/s]"
      ]
     },
     "metadata": {},
     "output_type": "display_data"
    },
    {
     "name": "stdout",
     "output_type": "stream",
     "text": [
      "Writing file:1951\n"
     ]
    },
    {
     "data": {
      "application/vnd.jupyter.widget-view+json": {
       "model_id": "3c14d71df45f453490d924d2f4533a2e",
       "version_major": 2,
       "version_minor": 0
      },
      "text/plain": [
       "  0%|          | 0/12 [00:00<?, ?it/s]"
      ]
     },
     "metadata": {},
     "output_type": "display_data"
    },
    {
     "name": "stdout",
     "output_type": "stream",
     "text": [
      "Writing file:1952\n"
     ]
    },
    {
     "data": {
      "application/vnd.jupyter.widget-view+json": {
       "model_id": "2aea8a344a9e4f6a8a1afc3851203318",
       "version_major": 2,
       "version_minor": 0
      },
      "text/plain": [
       "  0%|          | 0/12 [00:00<?, ?it/s]"
      ]
     },
     "metadata": {},
     "output_type": "display_data"
    },
    {
     "name": "stdout",
     "output_type": "stream",
     "text": [
      "Writing file:1953\n"
     ]
    },
    {
     "data": {
      "application/vnd.jupyter.widget-view+json": {
       "model_id": "f9d149900c6741b49f2bcbfb2544ebd9",
       "version_major": 2,
       "version_minor": 0
      },
      "text/plain": [
       "  0%|          | 0/6 [00:00<?, ?it/s]"
      ]
     },
     "metadata": {},
     "output_type": "display_data"
    },
    {
     "name": "stdout",
     "output_type": "stream",
     "text": [
      "Writing file:1954\n"
     ]
    },
    {
     "data": {
      "application/vnd.jupyter.widget-view+json": {
       "model_id": "e1287cf14fde45e29373a58e8b1df49b",
       "version_major": 2,
       "version_minor": 0
      },
      "text/plain": [
       "  0%|          | 0/6 [00:00<?, ?it/s]"
      ]
     },
     "metadata": {},
     "output_type": "display_data"
    },
    {
     "name": "stdout",
     "output_type": "stream",
     "text": [
      "Writing file:1955\n"
     ]
    },
    {
     "data": {
      "application/vnd.jupyter.widget-view+json": {
       "model_id": "bca6405114ce4ddca68eccaade381f31",
       "version_major": 2,
       "version_minor": 0
      },
      "text/plain": [
       "  0%|          | 0/6 [00:00<?, ?it/s]"
      ]
     },
     "metadata": {},
     "output_type": "display_data"
    },
    {
     "name": "stdout",
     "output_type": "stream",
     "text": [
      "Writing file:1956\n"
     ]
    },
    {
     "data": {
      "application/vnd.jupyter.widget-view+json": {
       "model_id": "2cc857e976de429f930408b760436b2e",
       "version_major": 2,
       "version_minor": 0
      },
      "text/plain": [
       "  0%|          | 0/12 [00:00<?, ?it/s]"
      ]
     },
     "metadata": {},
     "output_type": "display_data"
    },
    {
     "name": "stdout",
     "output_type": "stream",
     "text": [
      "Writing file:1957\n"
     ]
    },
    {
     "data": {
      "application/vnd.jupyter.widget-view+json": {
       "model_id": "32dcd95b0ab2410494ae73dddcfaf36e",
       "version_major": 2,
       "version_minor": 0
      },
      "text/plain": [
       "  0%|          | 0/12 [00:00<?, ?it/s]"
      ]
     },
     "metadata": {},
     "output_type": "display_data"
    },
    {
     "name": "stdout",
     "output_type": "stream",
     "text": [
      "Writing file:1958\n"
     ]
    },
    {
     "data": {
      "application/vnd.jupyter.widget-view+json": {
       "model_id": "b19b2ee307b34856b6a9f3d5de851cc2",
       "version_major": 2,
       "version_minor": 0
      },
      "text/plain": [
       "  0%|          | 0/12 [00:00<?, ?it/s]"
      ]
     },
     "metadata": {},
     "output_type": "display_data"
    },
    {
     "name": "stdout",
     "output_type": "stream",
     "text": [
      "Writing file:1959\n"
     ]
    },
    {
     "data": {
      "application/vnd.jupyter.widget-view+json": {
       "model_id": "8a843c6477784e00a7fceac4cd45ad0e",
       "version_major": 2,
       "version_minor": 0
      },
      "text/plain": [
       "  0%|          | 0/12 [00:00<?, ?it/s]"
      ]
     },
     "metadata": {},
     "output_type": "display_data"
    },
    {
     "name": "stdout",
     "output_type": "stream",
     "text": [
      "Writing file:1960\n"
     ]
    },
    {
     "data": {
      "application/vnd.jupyter.widget-view+json": {
       "model_id": "0a883dd70b5546fa870bf536528b3763",
       "version_major": 2,
       "version_minor": 0
      },
      "text/plain": [
       "  0%|          | 0/12 [00:00<?, ?it/s]"
      ]
     },
     "metadata": {},
     "output_type": "display_data"
    },
    {
     "name": "stdout",
     "output_type": "stream",
     "text": [
      "Writing file:1961\n"
     ]
    },
    {
     "data": {
      "application/vnd.jupyter.widget-view+json": {
       "model_id": "cc6e897c742b4ddd8e9ef1535a9d5775",
       "version_major": 2,
       "version_minor": 0
      },
      "text/plain": [
       "  0%|          | 0/12 [00:00<?, ?it/s]"
      ]
     },
     "metadata": {},
     "output_type": "display_data"
    },
    {
     "name": "stdout",
     "output_type": "stream",
     "text": [
      "Writing file:1962\n"
     ]
    },
    {
     "data": {
      "application/vnd.jupyter.widget-view+json": {
       "model_id": "36758eb3e1a745e4b53011d1e44349b9",
       "version_major": 2,
       "version_minor": 0
      },
      "text/plain": [
       "  0%|          | 0/12 [00:00<?, ?it/s]"
      ]
     },
     "metadata": {},
     "output_type": "display_data"
    },
    {
     "name": "stdout",
     "output_type": "stream",
     "text": [
      "Writing file:1963\n"
     ]
    },
    {
     "data": {
      "application/vnd.jupyter.widget-view+json": {
       "model_id": "ecfd622948f043c986b8e306f0d1859c",
       "version_major": 2,
       "version_minor": 0
      },
      "text/plain": [
       "  0%|          | 0/12 [00:00<?, ?it/s]"
      ]
     },
     "metadata": {},
     "output_type": "display_data"
    },
    {
     "name": "stdout",
     "output_type": "stream",
     "text": [
      "Writing file:1964\n"
     ]
    },
    {
     "data": {
      "application/vnd.jupyter.widget-view+json": {
       "model_id": "ef05de745db9496db29e645c743a01db",
       "version_major": 2,
       "version_minor": 0
      },
      "text/plain": [
       "  0%|          | 0/12 [00:00<?, ?it/s]"
      ]
     },
     "metadata": {},
     "output_type": "display_data"
    },
    {
     "name": "stdout",
     "output_type": "stream",
     "text": [
      "Writing file:1965\n"
     ]
    },
    {
     "data": {
      "application/vnd.jupyter.widget-view+json": {
       "model_id": "97497a739e304a19ae9d3b7a9ae004eb",
       "version_major": 2,
       "version_minor": 0
      },
      "text/plain": [
       "  0%|          | 0/12 [00:00<?, ?it/s]"
      ]
     },
     "metadata": {},
     "output_type": "display_data"
    },
    {
     "name": "stdout",
     "output_type": "stream",
     "text": [
      "Writing file:1966\n"
     ]
    },
    {
     "data": {
      "application/vnd.jupyter.widget-view+json": {
       "model_id": "d615507326d34f11b68bb9f1f902ecaf",
       "version_major": 2,
       "version_minor": 0
      },
      "text/plain": [
       "  0%|          | 0/12 [00:00<?, ?it/s]"
      ]
     },
     "metadata": {},
     "output_type": "display_data"
    },
    {
     "name": "stdout",
     "output_type": "stream",
     "text": [
      "Writing file:1967\n"
     ]
    },
    {
     "data": {
      "application/vnd.jupyter.widget-view+json": {
       "model_id": "2643a30531b04b4aa2e2881a6ac382d1",
       "version_major": 2,
       "version_minor": 0
      },
      "text/plain": [
       "  0%|          | 0/12 [00:00<?, ?it/s]"
      ]
     },
     "metadata": {},
     "output_type": "display_data"
    },
    {
     "name": "stdout",
     "output_type": "stream",
     "text": [
      "Writing file:1968\n"
     ]
    },
    {
     "data": {
      "application/vnd.jupyter.widget-view+json": {
       "model_id": "dc278caf596e4944b350d7647893ce58",
       "version_major": 2,
       "version_minor": 0
      },
      "text/plain": [
       "  0%|          | 0/12 [00:00<?, ?it/s]"
      ]
     },
     "metadata": {},
     "output_type": "display_data"
    },
    {
     "name": "stdout",
     "output_type": "stream",
     "text": [
      "Writing file:1969\n"
     ]
    },
    {
     "data": {
      "application/vnd.jupyter.widget-view+json": {
       "model_id": "94b37d70778443df87fccbd10354013c",
       "version_major": 2,
       "version_minor": 0
      },
      "text/plain": [
       "  0%|          | 0/12 [00:00<?, ?it/s]"
      ]
     },
     "metadata": {},
     "output_type": "display_data"
    },
    {
     "name": "stdout",
     "output_type": "stream",
     "text": [
      "Writing file:1970\n"
     ]
    },
    {
     "data": {
      "application/vnd.jupyter.widget-view+json": {
       "model_id": "d6ebddd993b6419587821af7d9487b3d",
       "version_major": 2,
       "version_minor": 0
      },
      "text/plain": [
       "  0%|          | 0/12 [00:00<?, ?it/s]"
      ]
     },
     "metadata": {},
     "output_type": "display_data"
    },
    {
     "name": "stdout",
     "output_type": "stream",
     "text": [
      "Writing file:1971\n"
     ]
    },
    {
     "data": {
      "application/vnd.jupyter.widget-view+json": {
       "model_id": "8879992b81af4da987bd53ff64abca89",
       "version_major": 2,
       "version_minor": 0
      },
      "text/plain": [
       "  0%|          | 0/12 [00:00<?, ?it/s]"
      ]
     },
     "metadata": {},
     "output_type": "display_data"
    },
    {
     "name": "stdout",
     "output_type": "stream",
     "text": [
      "Writing file:1972\n"
     ]
    },
    {
     "data": {
      "application/vnd.jupyter.widget-view+json": {
       "model_id": "20b30661b7254f928eac48fb0029c4e1",
       "version_major": 2,
       "version_minor": 0
      },
      "text/plain": [
       "  0%|          | 0/12 [00:00<?, ?it/s]"
      ]
     },
     "metadata": {},
     "output_type": "display_data"
    },
    {
     "name": "stdout",
     "output_type": "stream",
     "text": [
      "Writing file:1973\n"
     ]
    },
    {
     "data": {
      "application/vnd.jupyter.widget-view+json": {
       "model_id": "33c4d00202fa492c8012a011806dfc09",
       "version_major": 2,
       "version_minor": 0
      },
      "text/plain": [
       "  0%|          | 0/12 [00:00<?, ?it/s]"
      ]
     },
     "metadata": {},
     "output_type": "display_data"
    },
    {
     "name": "stdout",
     "output_type": "stream",
     "text": [
      "Writing file:1974\n"
     ]
    },
    {
     "data": {
      "application/vnd.jupyter.widget-view+json": {
       "model_id": "abbc47f79333438fa24a0aa25e3078f6",
       "version_major": 2,
       "version_minor": 0
      },
      "text/plain": [
       "  0%|          | 0/12 [00:00<?, ?it/s]"
      ]
     },
     "metadata": {},
     "output_type": "display_data"
    },
    {
     "name": "stdout",
     "output_type": "stream",
     "text": [
      "Writing file:1975\n"
     ]
    },
    {
     "data": {
      "application/vnd.jupyter.widget-view+json": {
       "model_id": "3a2864325b3b4504b424b40d4f5d1479",
       "version_major": 2,
       "version_minor": 0
      },
      "text/plain": [
       "  0%|          | 0/12 [00:00<?, ?it/s]"
      ]
     },
     "metadata": {},
     "output_type": "display_data"
    },
    {
     "name": "stdout",
     "output_type": "stream",
     "text": [
      "Writing file:1976\n"
     ]
    },
    {
     "data": {
      "application/vnd.jupyter.widget-view+json": {
       "model_id": "f3f451697b8b4a48962af11888cd53e8",
       "version_major": 2,
       "version_minor": 0
      },
      "text/plain": [
       "  0%|          | 0/6 [00:00<?, ?it/s]"
      ]
     },
     "metadata": {},
     "output_type": "display_data"
    },
    {
     "name": "stdout",
     "output_type": "stream",
     "text": [
      "Writing file:1977\n"
     ]
    },
    {
     "data": {
      "application/vnd.jupyter.widget-view+json": {
       "model_id": "0d6b42b13af34b5dab7291ef585c0de9",
       "version_major": 2,
       "version_minor": 0
      },
      "text/plain": [
       "  0%|          | 0/6 [00:00<?, ?it/s]"
      ]
     },
     "metadata": {},
     "output_type": "display_data"
    },
    {
     "name": "stdout",
     "output_type": "stream",
     "text": [
      "Writing file:1978\n"
     ]
    },
    {
     "data": {
      "application/vnd.jupyter.widget-view+json": {
       "model_id": "17b849cfa8794f529d64fba7f6ac0d0f",
       "version_major": 2,
       "version_minor": 0
      },
      "text/plain": [
       "  0%|          | 0/6 [00:00<?, ?it/s]"
      ]
     },
     "metadata": {},
     "output_type": "display_data"
    },
    {
     "name": "stdout",
     "output_type": "stream",
     "text": [
      "Writing file:1979\n"
     ]
    },
    {
     "data": {
      "application/vnd.jupyter.widget-view+json": {
       "model_id": "443a3923f1ff4603940840bbf1f875fb",
       "version_major": 2,
       "version_minor": 0
      },
      "text/plain": [
       "  0%|          | 0/12 [00:00<?, ?it/s]"
      ]
     },
     "metadata": {},
     "output_type": "display_data"
    },
    {
     "name": "stdout",
     "output_type": "stream",
     "text": [
      "Writing file:1980\n"
     ]
    },
    {
     "data": {
      "application/vnd.jupyter.widget-view+json": {
       "model_id": "f436ff26bd704f6ab904414997b68ba8",
       "version_major": 2,
       "version_minor": 0
      },
      "text/plain": [
       "  0%|          | 0/12 [00:00<?, ?it/s]"
      ]
     },
     "metadata": {},
     "output_type": "display_data"
    },
    {
     "name": "stdout",
     "output_type": "stream",
     "text": [
      "Writing file:1981\n"
     ]
    },
    {
     "data": {
      "application/vnd.jupyter.widget-view+json": {
       "model_id": "e230328331cb4602908df3d00a2a0b4a",
       "version_major": 2,
       "version_minor": 0
      },
      "text/plain": [
       "  0%|          | 0/12 [00:00<?, ?it/s]"
      ]
     },
     "metadata": {},
     "output_type": "display_data"
    },
    {
     "name": "stdout",
     "output_type": "stream",
     "text": [
      "Writing file:1982\n"
     ]
    },
    {
     "data": {
      "application/vnd.jupyter.widget-view+json": {
       "model_id": "6f08e82ceb85497e97c345a4631ea18d",
       "version_major": 2,
       "version_minor": 0
      },
      "text/plain": [
       "  0%|          | 0/12 [00:00<?, ?it/s]"
      ]
     },
     "metadata": {},
     "output_type": "display_data"
    },
    {
     "name": "stdout",
     "output_type": "stream",
     "text": [
      "Writing file:1983\n"
     ]
    },
    {
     "data": {
      "application/vnd.jupyter.widget-view+json": {
       "model_id": "c0010588747b48fd9735dc956085d1dc",
       "version_major": 2,
       "version_minor": 0
      },
      "text/plain": [
       "  0%|          | 0/12 [00:00<?, ?it/s]"
      ]
     },
     "metadata": {},
     "output_type": "display_data"
    },
    {
     "name": "stdout",
     "output_type": "stream",
     "text": [
      "Writing file:1984\n"
     ]
    },
    {
     "data": {
      "application/vnd.jupyter.widget-view+json": {
       "model_id": "fcb33bb03c1f4c1e9f3ba8e9aabbb340",
       "version_major": 2,
       "version_minor": 0
      },
      "text/plain": [
       "  0%|          | 0/12 [00:00<?, ?it/s]"
      ]
     },
     "metadata": {},
     "output_type": "display_data"
    },
    {
     "name": "stdout",
     "output_type": "stream",
     "text": [
      "Writing file:1985\n"
     ]
    },
    {
     "data": {
      "application/vnd.jupyter.widget-view+json": {
       "model_id": "8bc385623fb343a7bd9e65bfe1dc37d8",
       "version_major": 2,
       "version_minor": 0
      },
      "text/plain": [
       "  0%|          | 0/12 [00:00<?, ?it/s]"
      ]
     },
     "metadata": {},
     "output_type": "display_data"
    },
    {
     "name": "stdout",
     "output_type": "stream",
     "text": [
      "Writing file:1986\n"
     ]
    },
    {
     "data": {
      "application/vnd.jupyter.widget-view+json": {
       "model_id": "dbd9578af2d648d8b33bf91d37dc3095",
       "version_major": 2,
       "version_minor": 0
      },
      "text/plain": [
       "  0%|          | 0/12 [00:00<?, ?it/s]"
      ]
     },
     "metadata": {},
     "output_type": "display_data"
    },
    {
     "name": "stdout",
     "output_type": "stream",
     "text": [
      "Writing file:1987\n"
     ]
    },
    {
     "data": {
      "application/vnd.jupyter.widget-view+json": {
       "model_id": "9c5d2e74f2eb48f6a76ab0c9567d6c24",
       "version_major": 2,
       "version_minor": 0
      },
      "text/plain": [
       "  0%|          | 0/12 [00:00<?, ?it/s]"
      ]
     },
     "metadata": {},
     "output_type": "display_data"
    },
    {
     "name": "stdout",
     "output_type": "stream",
     "text": [
      "Writing file:1988\n"
     ]
    },
    {
     "data": {
      "application/vnd.jupyter.widget-view+json": {
       "model_id": "63391bf08ad44690a37cfceaf161e596",
       "version_major": 2,
       "version_minor": 0
      },
      "text/plain": [
       "  0%|          | 0/12 [00:00<?, ?it/s]"
      ]
     },
     "metadata": {},
     "output_type": "display_data"
    },
    {
     "name": "stdout",
     "output_type": "stream",
     "text": [
      "Writing file:1989\n"
     ]
    },
    {
     "data": {
      "application/vnd.jupyter.widget-view+json": {
       "model_id": "68e39b425b7b45ff98752c923bba8dc4",
       "version_major": 2,
       "version_minor": 0
      },
      "text/plain": [
       "  0%|          | 0/12 [00:00<?, ?it/s]"
      ]
     },
     "metadata": {},
     "output_type": "display_data"
    },
    {
     "name": "stdout",
     "output_type": "stream",
     "text": [
      "Writing file:1990\n"
     ]
    },
    {
     "data": {
      "application/vnd.jupyter.widget-view+json": {
       "model_id": "7b4646c8e47a4d12a075cd9f9fb07e0b",
       "version_major": 2,
       "version_minor": 0
      },
      "text/plain": [
       "  0%|          | 0/12 [00:00<?, ?it/s]"
      ]
     },
     "metadata": {},
     "output_type": "display_data"
    },
    {
     "name": "stdout",
     "output_type": "stream",
     "text": [
      "Writing file:1991\n"
     ]
    },
    {
     "data": {
      "application/vnd.jupyter.widget-view+json": {
       "model_id": "9e3aa78d2b2c4a3b9357589ccd7340a6",
       "version_major": 2,
       "version_minor": 0
      },
      "text/plain": [
       "  0%|          | 0/12 [00:00<?, ?it/s]"
      ]
     },
     "metadata": {},
     "output_type": "display_data"
    },
    {
     "name": "stdout",
     "output_type": "stream",
     "text": [
      "Writing file:1992\n"
     ]
    },
    {
     "data": {
      "application/vnd.jupyter.widget-view+json": {
       "model_id": "f0a8a2af338c4ed8860b5adbb1b77e73",
       "version_major": 2,
       "version_minor": 0
      },
      "text/plain": [
       "  0%|          | 0/12 [00:00<?, ?it/s]"
      ]
     },
     "metadata": {},
     "output_type": "display_data"
    },
    {
     "name": "stdout",
     "output_type": "stream",
     "text": [
      "Writing file:1993\n"
     ]
    },
    {
     "data": {
      "application/vnd.jupyter.widget-view+json": {
       "model_id": "45fa32e549d540ce892dc31a76af8c98",
       "version_major": 2,
       "version_minor": 0
      },
      "text/plain": [
       "  0%|          | 0/12 [00:00<?, ?it/s]"
      ]
     },
     "metadata": {},
     "output_type": "display_data"
    },
    {
     "name": "stdout",
     "output_type": "stream",
     "text": [
      "Writing file:1994\n"
     ]
    },
    {
     "data": {
      "application/vnd.jupyter.widget-view+json": {
       "model_id": "f0ee15652caf4defbe0bbb91a68e89b1",
       "version_major": 2,
       "version_minor": 0
      },
      "text/plain": [
       "  0%|          | 0/12 [00:00<?, ?it/s]"
      ]
     },
     "metadata": {},
     "output_type": "display_data"
    },
    {
     "name": "stdout",
     "output_type": "stream",
     "text": [
      "Writing file:1995\n"
     ]
    },
    {
     "data": {
      "application/vnd.jupyter.widget-view+json": {
       "model_id": "296bc68ac90e46a382f9a4638018cd2a",
       "version_major": 2,
       "version_minor": 0
      },
      "text/plain": [
       "  0%|          | 0/12 [00:00<?, ?it/s]"
      ]
     },
     "metadata": {},
     "output_type": "display_data"
    },
    {
     "name": "stdout",
     "output_type": "stream",
     "text": [
      "Writing file:1996\n"
     ]
    },
    {
     "data": {
      "application/vnd.jupyter.widget-view+json": {
       "model_id": "ff8a5399c7de43a0bcdc16f9d6c136ba",
       "version_major": 2,
       "version_minor": 0
      },
      "text/plain": [
       "  0%|          | 0/12 [00:00<?, ?it/s]"
      ]
     },
     "metadata": {},
     "output_type": "display_data"
    },
    {
     "name": "stdout",
     "output_type": "stream",
     "text": [
      "Writing file:1997\n"
     ]
    },
    {
     "data": {
      "application/vnd.jupyter.widget-view+json": {
       "model_id": "73b070ff5b3e47638d6d8386fd0042de",
       "version_major": 2,
       "version_minor": 0
      },
      "text/plain": [
       "  0%|          | 0/12 [00:00<?, ?it/s]"
      ]
     },
     "metadata": {},
     "output_type": "display_data"
    },
    {
     "name": "stdout",
     "output_type": "stream",
     "text": [
      "Writing file:1998\n"
     ]
    },
    {
     "data": {
      "application/vnd.jupyter.widget-view+json": {
       "model_id": "f842584230ae425dbfd5809115127489",
       "version_major": 2,
       "version_minor": 0
      },
      "text/plain": [
       "  0%|          | 0/12 [00:00<?, ?it/s]"
      ]
     },
     "metadata": {},
     "output_type": "display_data"
    },
    {
     "name": "stdout",
     "output_type": "stream",
     "text": [
      "Writing file:1999\n"
     ]
    },
    {
     "data": {
      "application/vnd.jupyter.widget-view+json": {
       "model_id": "99671ad68fdb4d0780d9b0cc7b5d18b0",
       "version_major": 2,
       "version_minor": 0
      },
      "text/plain": [
       "  0%|          | 0/6 [00:00<?, ?it/s]"
      ]
     },
     "metadata": {},
     "output_type": "display_data"
    },
    {
     "name": "stdout",
     "output_type": "stream",
     "text": [
      "Writing file:2000\n"
     ]
    },
    {
     "data": {
      "application/vnd.jupyter.widget-view+json": {
       "model_id": "0e1ad2c0b011442481bf38bed1c9526c",
       "version_major": 2,
       "version_minor": 0
      },
      "text/plain": [
       "  0%|          | 0/6 [00:00<?, ?it/s]"
      ]
     },
     "metadata": {},
     "output_type": "display_data"
    },
    {
     "name": "stdout",
     "output_type": "stream",
     "text": [
      "Writing file:2001\n"
     ]
    },
    {
     "data": {
      "application/vnd.jupyter.widget-view+json": {
       "model_id": "273b9e763895498aa2d5d4d5cc3532bd",
       "version_major": 2,
       "version_minor": 0
      },
      "text/plain": [
       "  0%|          | 0/6 [00:00<?, ?it/s]"
      ]
     },
     "metadata": {},
     "output_type": "display_data"
    },
    {
     "name": "stdout",
     "output_type": "stream",
     "text": [
      "Writing file:2002\n"
     ]
    },
    {
     "data": {
      "application/vnd.jupyter.widget-view+json": {
       "model_id": "8df742f69cb34cdead78bd9eb448d505",
       "version_major": 2,
       "version_minor": 0
      },
      "text/plain": [
       "  0%|          | 0/12 [00:00<?, ?it/s]"
      ]
     },
     "metadata": {},
     "output_type": "display_data"
    },
    {
     "name": "stdout",
     "output_type": "stream",
     "text": [
      "Writing file:2003\n"
     ]
    },
    {
     "data": {
      "application/vnd.jupyter.widget-view+json": {
       "model_id": "275686d8c0534861b4c7c79104e18c48",
       "version_major": 2,
       "version_minor": 0
      },
      "text/plain": [
       "  0%|          | 0/12 [00:00<?, ?it/s]"
      ]
     },
     "metadata": {},
     "output_type": "display_data"
    },
    {
     "name": "stdout",
     "output_type": "stream",
     "text": [
      "Writing file:2004\n"
     ]
    },
    {
     "data": {
      "application/vnd.jupyter.widget-view+json": {
       "model_id": "223c786354e94ebeac6f3d307aebcd13",
       "version_major": 2,
       "version_minor": 0
      },
      "text/plain": [
       "  0%|          | 0/12 [00:00<?, ?it/s]"
      ]
     },
     "metadata": {},
     "output_type": "display_data"
    },
    {
     "name": "stdout",
     "output_type": "stream",
     "text": [
      "Writing file:2005\n"
     ]
    },
    {
     "data": {
      "application/vnd.jupyter.widget-view+json": {
       "model_id": "9741045005bb43bfa900494a99df9743",
       "version_major": 2,
       "version_minor": 0
      },
      "text/plain": [
       "  0%|          | 0/12 [00:00<?, ?it/s]"
      ]
     },
     "metadata": {},
     "output_type": "display_data"
    },
    {
     "name": "stdout",
     "output_type": "stream",
     "text": [
      "Writing file:2006\n"
     ]
    },
    {
     "data": {
      "application/vnd.jupyter.widget-view+json": {
       "model_id": "a4e5ff2ae16846009d6a37d6a743ec2f",
       "version_major": 2,
       "version_minor": 0
      },
      "text/plain": [
       "  0%|          | 0/12 [00:00<?, ?it/s]"
      ]
     },
     "metadata": {},
     "output_type": "display_data"
    },
    {
     "name": "stdout",
     "output_type": "stream",
     "text": [
      "Writing file:2007\n"
     ]
    },
    {
     "data": {
      "application/vnd.jupyter.widget-view+json": {
       "model_id": "5bd2243d28124c008b3f3303dcd19142",
       "version_major": 2,
       "version_minor": 0
      },
      "text/plain": [
       "  0%|          | 0/12 [00:00<?, ?it/s]"
      ]
     },
     "metadata": {},
     "output_type": "display_data"
    },
    {
     "name": "stdout",
     "output_type": "stream",
     "text": [
      "Writing file:2008\n"
     ]
    },
    {
     "data": {
      "application/vnd.jupyter.widget-view+json": {
       "model_id": "ef144600a1f346b68eaf78f2b26d550a",
       "version_major": 2,
       "version_minor": 0
      },
      "text/plain": [
       "  0%|          | 0/12 [00:00<?, ?it/s]"
      ]
     },
     "metadata": {},
     "output_type": "display_data"
    },
    {
     "name": "stdout",
     "output_type": "stream",
     "text": [
      "Writing file:2009\n"
     ]
    },
    {
     "data": {
      "application/vnd.jupyter.widget-view+json": {
       "model_id": "95b2393e33234268918683f718893c29",
       "version_major": 2,
       "version_minor": 0
      },
      "text/plain": [
       "  0%|          | 0/12 [00:00<?, ?it/s]"
      ]
     },
     "metadata": {},
     "output_type": "display_data"
    },
    {
     "name": "stdout",
     "output_type": "stream",
     "text": [
      "Writing file:2010\n"
     ]
    },
    {
     "data": {
      "application/vnd.jupyter.widget-view+json": {
       "model_id": "3456f07f7fde40679ff62104177bad06",
       "version_major": 2,
       "version_minor": 0
      },
      "text/plain": [
       "  0%|          | 0/12 [00:00<?, ?it/s]"
      ]
     },
     "metadata": {},
     "output_type": "display_data"
    },
    {
     "name": "stdout",
     "output_type": "stream",
     "text": [
      "Writing file:2011\n"
     ]
    },
    {
     "data": {
      "application/vnd.jupyter.widget-view+json": {
       "model_id": "9f73c49459ef439e84ef4dd22ab29951",
       "version_major": 2,
       "version_minor": 0
      },
      "text/plain": [
       "  0%|          | 0/12 [00:00<?, ?it/s]"
      ]
     },
     "metadata": {},
     "output_type": "display_data"
    },
    {
     "name": "stdout",
     "output_type": "stream",
     "text": [
      "Writing file:2012\n"
     ]
    },
    {
     "data": {
      "application/vnd.jupyter.widget-view+json": {
       "model_id": "2a8e8e0f48804ffda63fa27cc1ce5ccd",
       "version_major": 2,
       "version_minor": 0
      },
      "text/plain": [
       "  0%|          | 0/12 [00:00<?, ?it/s]"
      ]
     },
     "metadata": {},
     "output_type": "display_data"
    },
    {
     "name": "stdout",
     "output_type": "stream",
     "text": [
      "Writing file:2013\n"
     ]
    },
    {
     "data": {
      "application/vnd.jupyter.widget-view+json": {
       "model_id": "2d7e0d72cd2148d3a77f96ba18069832",
       "version_major": 2,
       "version_minor": 0
      },
      "text/plain": [
       "  0%|          | 0/12 [00:00<?, ?it/s]"
      ]
     },
     "metadata": {},
     "output_type": "display_data"
    },
    {
     "name": "stdout",
     "output_type": "stream",
     "text": [
      "Writing file:2014\n"
     ]
    },
    {
     "data": {
      "application/vnd.jupyter.widget-view+json": {
       "model_id": "e9fcd5fc98c947f4af2fdbaecf3a59cd",
       "version_major": 2,
       "version_minor": 0
      },
      "text/plain": [
       "  0%|          | 0/12 [00:00<?, ?it/s]"
      ]
     },
     "metadata": {},
     "output_type": "display_data"
    },
    {
     "name": "stdout",
     "output_type": "stream",
     "text": [
      "Writing file:2015\n"
     ]
    },
    {
     "data": {
      "application/vnd.jupyter.widget-view+json": {
       "model_id": "79a49f68dddf406dbf35358436c8a772",
       "version_major": 2,
       "version_minor": 0
      },
      "text/plain": [
       "  0%|          | 0/12 [00:00<?, ?it/s]"
      ]
     },
     "metadata": {},
     "output_type": "display_data"
    },
    {
     "name": "stdout",
     "output_type": "stream",
     "text": [
      "Writing file:2016\n"
     ]
    },
    {
     "data": {
      "application/vnd.jupyter.widget-view+json": {
       "model_id": "8189190138dc4f56adacd5113d4a7b6e",
       "version_major": 2,
       "version_minor": 0
      },
      "text/plain": [
       "  0%|          | 0/12 [00:00<?, ?it/s]"
      ]
     },
     "metadata": {},
     "output_type": "display_data"
    },
    {
     "name": "stdout",
     "output_type": "stream",
     "text": [
      "Writing file:2017\n"
     ]
    },
    {
     "data": {
      "application/vnd.jupyter.widget-view+json": {
       "model_id": "f2895d34d1b846fcb812a31146cd0aad",
       "version_major": 2,
       "version_minor": 0
      },
      "text/plain": [
       "  0%|          | 0/12 [00:00<?, ?it/s]"
      ]
     },
     "metadata": {},
     "output_type": "display_data"
    },
    {
     "name": "stdout",
     "output_type": "stream",
     "text": [
      "Writing file:2018\n"
     ]
    },
    {
     "data": {
      "application/vnd.jupyter.widget-view+json": {
       "model_id": "43e3a6ff1e614ff7bb8eb6102911cd67",
       "version_major": 2,
       "version_minor": 0
      },
      "text/plain": [
       "  0%|          | 0/12 [00:00<?, ?it/s]"
      ]
     },
     "metadata": {},
     "output_type": "display_data"
    },
    {
     "name": "stdout",
     "output_type": "stream",
     "text": [
      "Writing file:2019\n"
     ]
    },
    {
     "data": {
      "application/vnd.jupyter.widget-view+json": {
       "model_id": "aef123a85f744d41b359d635c22d577c",
       "version_major": 2,
       "version_minor": 0
      },
      "text/plain": [
       "  0%|          | 0/12 [00:00<?, ?it/s]"
      ]
     },
     "metadata": {},
     "output_type": "display_data"
    },
    {
     "name": "stdout",
     "output_type": "stream",
     "text": [
      "Writing file:2020\n"
     ]
    },
    {
     "data": {
      "application/vnd.jupyter.widget-view+json": {
       "model_id": "4837c77d25464efda42301a1b6914666",
       "version_major": 2,
       "version_minor": 0
      },
      "text/plain": [
       "  0%|          | 0/6 [00:00<?, ?it/s]"
      ]
     },
     "metadata": {},
     "output_type": "display_data"
    },
    {
     "name": "stdout",
     "output_type": "stream",
     "text": [
      "Writing file:1911\n"
     ]
    },
    {
     "data": {
      "application/vnd.jupyter.widget-view+json": {
       "model_id": "e02fc3b680774c09bea8daf65f4e1d1a",
       "version_major": 2,
       "version_minor": 0
      },
      "text/plain": [
       "  0%|          | 0/12 [00:00<?, ?it/s]"
      ]
     },
     "metadata": {},
     "output_type": "display_data"
    },
    {
     "name": "stdout",
     "output_type": "stream",
     "text": [
      "Writing file:1912\n"
     ]
    },
    {
     "data": {
      "application/vnd.jupyter.widget-view+json": {
       "model_id": "86103e9fa6d8441dbfacebf02aacee6a",
       "version_major": 2,
       "version_minor": 0
      },
      "text/plain": [
       "  0%|          | 0/12 [00:00<?, ?it/s]"
      ]
     },
     "metadata": {},
     "output_type": "display_data"
    },
    {
     "name": "stdout",
     "output_type": "stream",
     "text": [
      "Writing file:1913\n"
     ]
    },
    {
     "data": {
      "application/vnd.jupyter.widget-view+json": {
       "model_id": "1d323fcb5876443f80def2bcc9831e19",
       "version_major": 2,
       "version_minor": 0
      },
      "text/plain": [
       "  0%|          | 0/12 [00:00<?, ?it/s]"
      ]
     },
     "metadata": {},
     "output_type": "display_data"
    },
    {
     "name": "stdout",
     "output_type": "stream",
     "text": [
      "Writing file:1914\n"
     ]
    },
    {
     "data": {
      "application/vnd.jupyter.widget-view+json": {
       "model_id": "62355ca034ce45a4a9c7283d1471aa6c",
       "version_major": 2,
       "version_minor": 0
      },
      "text/plain": [
       "  0%|          | 0/12 [00:00<?, ?it/s]"
      ]
     },
     "metadata": {},
     "output_type": "display_data"
    },
    {
     "name": "stdout",
     "output_type": "stream",
     "text": [
      "Writing file:1915\n"
     ]
    },
    {
     "data": {
      "application/vnd.jupyter.widget-view+json": {
       "model_id": "7893003f0b6d4467bf9f487accc13a2d",
       "version_major": 2,
       "version_minor": 0
      },
      "text/plain": [
       "  0%|          | 0/12 [00:00<?, ?it/s]"
      ]
     },
     "metadata": {},
     "output_type": "display_data"
    },
    {
     "name": "stdout",
     "output_type": "stream",
     "text": [
      "Writing file:1916\n"
     ]
    },
    {
     "data": {
      "application/vnd.jupyter.widget-view+json": {
       "model_id": "78baaa6a0fa64a718eda5399d35bdd14",
       "version_major": 2,
       "version_minor": 0
      },
      "text/plain": [
       "  0%|          | 0/12 [00:00<?, ?it/s]"
      ]
     },
     "metadata": {},
     "output_type": "display_data"
    },
    {
     "name": "stdout",
     "output_type": "stream",
     "text": [
      "Writing file:1917\n"
     ]
    },
    {
     "data": {
      "application/vnd.jupyter.widget-view+json": {
       "model_id": "09dd97aa5d734256941ed4b7e60c91cc",
       "version_major": 2,
       "version_minor": 0
      },
      "text/plain": [
       "  0%|          | 0/12 [00:00<?, ?it/s]"
      ]
     },
     "metadata": {},
     "output_type": "display_data"
    },
    {
     "name": "stdout",
     "output_type": "stream",
     "text": [
      "Writing file:1918\n"
     ]
    },
    {
     "data": {
      "application/vnd.jupyter.widget-view+json": {
       "model_id": "82e4177742b44255bf39ad58a4a9b84b",
       "version_major": 2,
       "version_minor": 0
      },
      "text/plain": [
       "  0%|          | 0/12 [00:00<?, ?it/s]"
      ]
     },
     "metadata": {},
     "output_type": "display_data"
    },
    {
     "name": "stdout",
     "output_type": "stream",
     "text": [
      "Writing file:1919\n"
     ]
    },
    {
     "data": {
      "application/vnd.jupyter.widget-view+json": {
       "model_id": "c66ccd1e239c4d1ea40153e8cd367cf6",
       "version_major": 2,
       "version_minor": 0
      },
      "text/plain": [
       "  0%|          | 0/12 [00:00<?, ?it/s]"
      ]
     },
     "metadata": {},
     "output_type": "display_data"
    },
    {
     "name": "stdout",
     "output_type": "stream",
     "text": [
      "Writing file:1920\n"
     ]
    },
    {
     "data": {
      "application/vnd.jupyter.widget-view+json": {
       "model_id": "5e13943845c34e039e724fccb4348be1",
       "version_major": 2,
       "version_minor": 0
      },
      "text/plain": [
       "  0%|          | 0/6 [00:00<?, ?it/s]"
      ]
     },
     "metadata": {},
     "output_type": "display_data"
    },
    {
     "name": "stdout",
     "output_type": "stream",
     "text": [
      "Writing file:1921\n"
     ]
    },
    {
     "data": {
      "application/vnd.jupyter.widget-view+json": {
       "model_id": "f61c21da2dfe4ce4a4e0e3885de737da",
       "version_major": 2,
       "version_minor": 0
      },
      "text/plain": [
       "  0%|          | 0/6 [00:00<?, ?it/s]"
      ]
     },
     "metadata": {},
     "output_type": "display_data"
    },
    {
     "ename": "KeyboardInterrupt",
     "evalue": "",
     "output_type": "error",
     "traceback": [
      "\u001b[0;31m---------------------------------------------------------------------------\u001b[0m",
      "\u001b[0;31mKeyboardInterrupt\u001b[0m                         Traceback (most recent call last)",
      "\u001b[0;32m/local/zv2/ad9701/tmp/ipykernel_1330565/2460892238.py\u001b[0m in \u001b[0;36m<module>\u001b[0;34m\u001b[0m\n\u001b[1;32m      1\u001b[0m \u001b[0;32mfor\u001b[0m \u001b[0mi\u001b[0m \u001b[0;32min\u001b[0m \u001b[0mrange\u001b[0m\u001b[0;34m(\u001b[0m\u001b[0;36m10\u001b[0m\u001b[0;34m,\u001b[0m \u001b[0;36m13\u001b[0m\u001b[0;34m,\u001b[0m \u001b[0;36m2\u001b[0m\u001b[0;34m)\u001b[0m\u001b[0;34m:\u001b[0m\u001b[0;34m\u001b[0m\u001b[0;34m\u001b[0m\u001b[0m\n\u001b[0;32m----> 2\u001b[0;31m     \u001b[0mtemp\u001b[0m \u001b[0;34m=\u001b[0m \u001b[0mmy\u001b[0m\u001b[0;34m.\u001b[0m\u001b[0mcalc_agcd_accum\u001b[0m\u001b[0;34m(\u001b[0m\u001b[0mnWeek\u001b[0m \u001b[0;34m=\u001b[0m \u001b[0mi\u001b[0m\u001b[0;34m,\u001b[0m \u001b[0mallWeek_dict\u001b[0m \u001b[0;34m=\u001b[0m \u001b[0mallWeek_dict\u001b[0m\u001b[0;34m,\u001b[0m \u001b[0mout_dir\u001b[0m \u001b[0;34m=\u001b[0m \u001b[0mout_dir\u001b[0m\u001b[0;34m,\u001b[0m \u001b[0msub_dir\u001b[0m \u001b[0;34m=\u001b[0m \u001b[0msub_dir\u001b[0m\u001b[0;34m)\u001b[0m\u001b[0;34m\u001b[0m\u001b[0;34m\u001b[0m\u001b[0m\n\u001b[0m",
      "\u001b[0;32m~/drought_probability/my_data_process_funcs.py\u001b[0m in \u001b[0;36mcalc_agcd_accum\u001b[0;34m(nWeek, allWeek_dict, out_dir, sub_dir, agcd_dir, agcd_files, lat_slice, lon_slice)\u001b[0m\n\u001b[1;32m     24\u001b[0m     \u001b[0;32mfor\u001b[0m \u001b[0myear\u001b[0m\u001b[0;34m,\u001b[0m \u001b[0mdata\u001b[0m \u001b[0;32min\u001b[0m \u001b[0mda_P_accum\u001b[0m\u001b[0;34m.\u001b[0m\u001b[0mgroupby\u001b[0m\u001b[0;34m(\u001b[0m\u001b[0;34m'time.year'\u001b[0m\u001b[0;34m)\u001b[0m\u001b[0;34m:\u001b[0m\u001b[0;34m\u001b[0m\u001b[0;34m\u001b[0m\u001b[0m\n\u001b[1;32m     25\u001b[0m         \u001b[0mprint\u001b[0m\u001b[0;34m(\u001b[0m\u001b[0;34m'Writing file:'\u001b[0m \u001b[0;34m+\u001b[0m \u001b[0mstr\u001b[0m\u001b[0;34m(\u001b[0m\u001b[0myear\u001b[0m\u001b[0;34m)\u001b[0m\u001b[0;34m)\u001b[0m\u001b[0;34m\u001b[0m\u001b[0;34m\u001b[0m\u001b[0m\n\u001b[0;32m---> 26\u001b[0;31m         \u001b[0mout_file\u001b[0m \u001b[0;34m=\u001b[0m \u001b[0mfull_dir_path\u001b[0m \u001b[0;34m+\u001b[0m \u001b[0;34m'/P_week'\u001b[0m \u001b[0;34m+\u001b[0m \u001b[0mstr\u001b[0m\u001b[0;34m(\u001b[0m\u001b[0mnWeek\u001b[0m\u001b[0;34m)\u001b[0m \u001b[0;34m+\u001b[0m \u001b[0;34m'_AU_'\u001b[0m \u001b[0;34m+\u001b[0m \u001b[0mstr\u001b[0m\u001b[0;34m(\u001b[0m\u001b[0myear\u001b[0m\u001b[0;34m)\u001b[0m \u001b[0;34m+\u001b[0m \u001b[0;34m'.nc'\u001b[0m\u001b[0;34m\u001b[0m\u001b[0;34m\u001b[0m\u001b[0m\n\u001b[0m\u001b[1;32m     27\u001b[0m         \u001b[0mclimtas\u001b[0m\u001b[0;34m.\u001b[0m\u001b[0mio\u001b[0m\u001b[0;34m.\u001b[0m\u001b[0mto_netcdf_throttled\u001b[0m\u001b[0;34m(\u001b[0m\u001b[0mdata\u001b[0m\u001b[0;34m,\u001b[0m \u001b[0;34mf'{out_file}'\u001b[0m\u001b[0;34m)\u001b[0m\u001b[0;34m\u001b[0m\u001b[0;34m\u001b[0m\u001b[0m\n\u001b[1;32m     28\u001b[0m     \u001b[0;32mreturn\u001b[0m \u001b[0;32mNone\u001b[0m\u001b[0;34m\u001b[0m\u001b[0;34m\u001b[0m\u001b[0m\n",
      "\u001b[0;32m/g/data/hh5/public/apps/miniconda3/envs/analysis3-21.07/lib/python3.9/site-packages/climtas/io.py\u001b[0m in \u001b[0;36mto_netcdf_throttled\u001b[0;34m(ds, path, complevel, max_tasks, show_progress)\u001b[0m\n\u001b[1;32m    128\u001b[0m \u001b[0;34m\u001b[0m\u001b[0m\n\u001b[1;32m    129\u001b[0m     \u001b[0;31m# Run the 'store_chunk' tasks with 'old_graph'\u001b[0m\u001b[0;34m\u001b[0m\u001b[0;34m\u001b[0m\u001b[0m\n\u001b[0;32m--> 130\u001b[0;31m     \u001b[0mthrottle_futures\u001b[0m\u001b[0;34m(\u001b[0m\u001b[0mold_graph\u001b[0m\u001b[0;34m,\u001b[0m \u001b[0mstore_keys\u001b[0m\u001b[0;34m,\u001b[0m \u001b[0mmax_tasks\u001b[0m\u001b[0;34m=\u001b[0m\u001b[0mmax_tasks\u001b[0m\u001b[0;34m)\u001b[0m\u001b[0;34m\u001b[0m\u001b[0;34m\u001b[0m\u001b[0m\n\u001b[0m\u001b[1;32m    131\u001b[0m \u001b[0;34m\u001b[0m\u001b[0m\n\u001b[1;32m    132\u001b[0m     \u001b[0;31m# Finalise any remaining operations with 'new_graph'\u001b[0m\u001b[0;34m\u001b[0m\u001b[0;34m\u001b[0m\u001b[0m\n",
      "\u001b[0;32m/g/data/hh5/public/apps/miniconda3/envs/analysis3-21.07/lib/python3.9/site-packages/climtas/helpers.py\u001b[0m in \u001b[0;36mthrottle_futures\u001b[0;34m(graph, key_list, optimizer, max_tasks)\u001b[0m\n\u001b[1;32m    202\u001b[0m     \u001b[0mac\u001b[0m \u001b[0;34m=\u001b[0m \u001b[0mdask\u001b[0m\u001b[0;34m.\u001b[0m\u001b[0mdistributed\u001b[0m\u001b[0;34m.\u001b[0m\u001b[0mas_completed\u001b[0m\u001b[0;34m(\u001b[0m\u001b[0mfutures\u001b[0m\u001b[0;34m,\u001b[0m \u001b[0mwith_results\u001b[0m\u001b[0;34m=\u001b[0m\u001b[0;32mTrue\u001b[0m\u001b[0;34m)\u001b[0m\u001b[0;34m\u001b[0m\u001b[0;34m\u001b[0m\u001b[0m\n\u001b[1;32m    203\u001b[0m     \u001b[0mresults\u001b[0m \u001b[0;34m=\u001b[0m \u001b[0;34m[\u001b[0m\u001b[0;34m]\u001b[0m\u001b[0;34m\u001b[0m\u001b[0;34m\u001b[0m\u001b[0m\n\u001b[0;32m--> 204\u001b[0;31m     \u001b[0;32mfor\u001b[0m \u001b[0mf\u001b[0m\u001b[0;34m,\u001b[0m \u001b[0mresult\u001b[0m \u001b[0;32min\u001b[0m \u001b[0mac\u001b[0m\u001b[0;34m:\u001b[0m\u001b[0;34m\u001b[0m\u001b[0;34m\u001b[0m\u001b[0m\n\u001b[0m\u001b[1;32m    205\u001b[0m         \u001b[0;32mtry\u001b[0m\u001b[0;34m:\u001b[0m\u001b[0;34m\u001b[0m\u001b[0;34m\u001b[0m\u001b[0m\n\u001b[1;32m    206\u001b[0m             ac.add(\n",
      "\u001b[0;32m/g/data/hh5/public/apps/miniconda3/envs/analysis3-21.07/lib/python3.9/site-packages/distributed/client.py\u001b[0m in \u001b[0;36m__next__\u001b[0;34m(self)\u001b[0m\n\u001b[1;32m   4521\u001b[0m                 \u001b[0;32mraise\u001b[0m \u001b[0mStopIteration\u001b[0m\u001b[0;34m(\u001b[0m\u001b[0;34m)\u001b[0m\u001b[0;34m\u001b[0m\u001b[0;34m\u001b[0m\u001b[0m\n\u001b[1;32m   4522\u001b[0m             \u001b[0;32mwith\u001b[0m \u001b[0mself\u001b[0m\u001b[0;34m.\u001b[0m\u001b[0mthread_condition\u001b[0m\u001b[0;34m:\u001b[0m\u001b[0;34m\u001b[0m\u001b[0;34m\u001b[0m\u001b[0m\n\u001b[0;32m-> 4523\u001b[0;31m                 \u001b[0mself\u001b[0m\u001b[0;34m.\u001b[0m\u001b[0mthread_condition\u001b[0m\u001b[0;34m.\u001b[0m\u001b[0mwait\u001b[0m\u001b[0;34m(\u001b[0m\u001b[0mtimeout\u001b[0m\u001b[0;34m=\u001b[0m\u001b[0;36m0.100\u001b[0m\u001b[0;34m)\u001b[0m\u001b[0;34m\u001b[0m\u001b[0;34m\u001b[0m\u001b[0m\n\u001b[0m\u001b[1;32m   4524\u001b[0m         \u001b[0;32mreturn\u001b[0m \u001b[0mself\u001b[0m\u001b[0;34m.\u001b[0m\u001b[0m_get_and_raise\u001b[0m\u001b[0;34m(\u001b[0m\u001b[0;34m)\u001b[0m\u001b[0;34m\u001b[0m\u001b[0;34m\u001b[0m\u001b[0m\n\u001b[1;32m   4525\u001b[0m \u001b[0;34m\u001b[0m\u001b[0m\n",
      "\u001b[0;32m/g/data/hh5/public/apps/miniconda3/envs/analysis3-21.07/lib/python3.9/threading.py\u001b[0m in \u001b[0;36mwait\u001b[0;34m(self, timeout)\u001b[0m\n\u001b[1;32m    314\u001b[0m             \u001b[0;32melse\u001b[0m\u001b[0;34m:\u001b[0m\u001b[0;34m\u001b[0m\u001b[0;34m\u001b[0m\u001b[0m\n\u001b[1;32m    315\u001b[0m                 \u001b[0;32mif\u001b[0m \u001b[0mtimeout\u001b[0m \u001b[0;34m>\u001b[0m \u001b[0;36m0\u001b[0m\u001b[0;34m:\u001b[0m\u001b[0;34m\u001b[0m\u001b[0;34m\u001b[0m\u001b[0m\n\u001b[0;32m--> 316\u001b[0;31m                     \u001b[0mgotit\u001b[0m \u001b[0;34m=\u001b[0m \u001b[0mwaiter\u001b[0m\u001b[0;34m.\u001b[0m\u001b[0macquire\u001b[0m\u001b[0;34m(\u001b[0m\u001b[0;32mTrue\u001b[0m\u001b[0;34m,\u001b[0m \u001b[0mtimeout\u001b[0m\u001b[0;34m)\u001b[0m\u001b[0;34m\u001b[0m\u001b[0;34m\u001b[0m\u001b[0m\n\u001b[0m\u001b[1;32m    317\u001b[0m                 \u001b[0;32melse\u001b[0m\u001b[0;34m:\u001b[0m\u001b[0;34m\u001b[0m\u001b[0;34m\u001b[0m\u001b[0m\n\u001b[1;32m    318\u001b[0m                     \u001b[0mgotit\u001b[0m \u001b[0;34m=\u001b[0m \u001b[0mwaiter\u001b[0m\u001b[0;34m.\u001b[0m\u001b[0macquire\u001b[0m\u001b[0;34m(\u001b[0m\u001b[0;32mFalse\u001b[0m\u001b[0;34m)\u001b[0m\u001b[0;34m\u001b[0m\u001b[0;34m\u001b[0m\u001b[0m\n",
      "\u001b[0;31mKeyboardInterrupt\u001b[0m: "
     ]
    }
   ],
   "source": [
    "for i in range(10, 13, 2):\n",
    "    temp = my.calc_agcd_accum(nWeek = i, allWeek_dict = allWeek_dict, out_dir = out_dir, sub_dir = sub_dir)"
   ]
  },
  {
   "cell_type": "code",
   "execution_count": null,
   "id": "9e6a3a9e-4f77-4f55-abf1-e8c9eb297fe5",
   "metadata": {},
   "outputs": [
    {
     "name": "stdout",
     "output_type": "stream",
     "text": [
      "Writing file:1911\n"
     ]
    },
    {
     "data": {
      "application/vnd.jupyter.widget-view+json": {
       "model_id": "3f0c1410fb04469db308a047f5079877",
       "version_major": 2,
       "version_minor": 0
      },
      "text/plain": [
       "  0%|          | 0/12 [00:00<?, ?it/s]"
      ]
     },
     "metadata": {},
     "output_type": "display_data"
    },
    {
     "name": "stdout",
     "output_type": "stream",
     "text": [
      "Writing file:1912\n"
     ]
    },
    {
     "data": {
      "application/vnd.jupyter.widget-view+json": {
       "model_id": "c3b89165397b4620a88b55b0c190399c",
       "version_major": 2,
       "version_minor": 0
      },
      "text/plain": [
       "  0%|          | 0/12 [00:00<?, ?it/s]"
      ]
     },
     "metadata": {},
     "output_type": "display_data"
    },
    {
     "name": "stdout",
     "output_type": "stream",
     "text": [
      "Writing file:1913\n"
     ]
    },
    {
     "data": {
      "application/vnd.jupyter.widget-view+json": {
       "model_id": "1f870689da874407ac1b457224cc92fb",
       "version_major": 2,
       "version_minor": 0
      },
      "text/plain": [
       "  0%|          | 0/12 [00:00<?, ?it/s]"
      ]
     },
     "metadata": {},
     "output_type": "display_data"
    },
    {
     "name": "stdout",
     "output_type": "stream",
     "text": [
      "Writing file:1914\n"
     ]
    },
    {
     "data": {
      "application/vnd.jupyter.widget-view+json": {
       "model_id": "134ec8b0e78e41b1bca947b971909b46",
       "version_major": 2,
       "version_minor": 0
      },
      "text/plain": [
       "  0%|          | 0/12 [00:00<?, ?it/s]"
      ]
     },
     "metadata": {},
     "output_type": "display_data"
    }
   ],
   "source": [
    "import sys\n",
    "new_path = '/home/566/ad9701/drought_probability/'\n",
    "if new_path not in sys.path:\n",
    "    sys.path.append(new_path)\n",
    "\n",
    "import xarray as xr\n",
    "import numpy as np\n",
    "import my_data_process_funcs as my\n",
    "\n",
    "# creating information required for weekly accumulations\n",
    "week_names = list(np.arange(2, 13, 2))\n",
    "ndays = list(np.arange(14, 13*14, 14))\n",
    "start_day = ['1911-01-02'] * len(week_names)\n",
    "\n",
    "end_day = [#'2020-05-31',   #1\n",
    "           '2020-05-24',   #2\n",
    "           #'2020-05-31',   #3\n",
    "           '2020-05-24',   #4\n",
    "           '2020-05-10',   #6\n",
    "           '2020-04-26',   #8\n",
    "           '2020-03-29',   #10\n",
    "           '2020-03-29'    #12\n",
    "          ]\n",
    "time_chunk = [#364,   #1 \n",
    "              378,   #2\n",
    "              #378,   #3\n",
    "              336,   #4\n",
    "              378,   #6\n",
    "              336,   #8\n",
    "              350,   #10\n",
    "              336    #12\n",
    "             ]\n",
    "\n",
    "day_len_dict = dict(zip(week_names, ndays))\n",
    "start_day_dict = dict(zip(week_names, start_day))\n",
    "end_day_dict = dict(zip(week_names, end_day))\n",
    "time_chunk_dict = dict(zip(week_names, time_chunk))\n",
    "\n",
    "data_names = ['day_len', 'start_day', 'end_day', 'time_chunk']\n",
    "values = [day_len_dict, start_day_dict, end_day_dict, time_chunk_dict]\n",
    "allWeek_dict = dict(zip(data_names, values))\n",
    "\n",
    "from dask.distributed import Client, LocalCluster\n",
    "cluster = LocalCluster()\n",
    "client = Client(cluster)\n",
    "\n",
    "out_dir = '/g/data/w97/ad9701/p_prob_analysis/weekly_data/awra/'\n",
    "sub_dir = \"/set1\"\n",
    "\n",
    "for i in range(12, 13, 2):\n",
    "    temp = my.calc_agcd_accum(nWeek = i, allWeek_dict = allWeek_dict, out_dir = out_dir, sub_dir = sub_dir)"
   ]
  },
  {
   "cell_type": "markdown",
   "id": "21e2540e-c549-4e0b-8669-8b8123a932d0",
   "metadata": {},
   "source": [
    "#### Scratch Space"
   ]
  },
  {
   "cell_type": "code",
   "execution_count": 3,
   "id": "a7844c74-8f7a-4e79-a028-2521148e8eea",
   "metadata": {
    "tags": []
   },
   "outputs": [
    {
     "name": "stdout",
     "output_type": "stream",
     "text": [
      "14\n"
     ]
    },
    {
     "data": {
      "text/html": [
       "<div><svg style=\"position: absolute; width: 0; height: 0; overflow: hidden\">\n",
       "<defs>\n",
       "<symbol id=\"icon-database\" viewBox=\"0 0 32 32\">\n",
       "<path d=\"M16 0c-8.837 0-16 2.239-16 5v4c0 2.761 7.163 5 16 5s16-2.239 16-5v-4c0-2.761-7.163-5-16-5z\"></path>\n",
       "<path d=\"M16 17c-8.837 0-16-2.239-16-5v6c0 2.761 7.163 5 16 5s16-2.239 16-5v-6c0 2.761-7.163 5-16 5z\"></path>\n",
       "<path d=\"M16 26c-8.837 0-16-2.239-16-5v6c0 2.761 7.163 5 16 5s16-2.239 16-5v-6c0 2.761-7.163 5-16 5z\"></path>\n",
       "</symbol>\n",
       "<symbol id=\"icon-file-text2\" viewBox=\"0 0 32 32\">\n",
       "<path d=\"M28.681 7.159c-0.694-0.947-1.662-2.053-2.724-3.116s-2.169-2.030-3.116-2.724c-1.612-1.182-2.393-1.319-2.841-1.319h-15.5c-1.378 0-2.5 1.121-2.5 2.5v27c0 1.378 1.122 2.5 2.5 2.5h23c1.378 0 2.5-1.122 2.5-2.5v-19.5c0-0.448-0.137-1.23-1.319-2.841zM24.543 5.457c0.959 0.959 1.712 1.825 2.268 2.543h-4.811v-4.811c0.718 0.556 1.584 1.309 2.543 2.268zM28 29.5c0 0.271-0.229 0.5-0.5 0.5h-23c-0.271 0-0.5-0.229-0.5-0.5v-27c0-0.271 0.229-0.5 0.5-0.5 0 0 15.499-0 15.5 0v7c0 0.552 0.448 1 1 1h7v19.5z\"></path>\n",
       "<path d=\"M23 26h-14c-0.552 0-1-0.448-1-1s0.448-1 1-1h14c0.552 0 1 0.448 1 1s-0.448 1-1 1z\"></path>\n",
       "<path d=\"M23 22h-14c-0.552 0-1-0.448-1-1s0.448-1 1-1h14c0.552 0 1 0.448 1 1s-0.448 1-1 1z\"></path>\n",
       "<path d=\"M23 18h-14c-0.552 0-1-0.448-1-1s0.448-1 1-1h14c0.552 0 1 0.448 1 1s-0.448 1-1 1z\"></path>\n",
       "</symbol>\n",
       "</defs>\n",
       "</svg>\n",
       "<style>/* CSS stylesheet for displaying xarray objects in jupyterlab.\n",
       " *\n",
       " */\n",
       "\n",
       ":root {\n",
       "  --xr-font-color0: var(--jp-content-font-color0, rgba(0, 0, 0, 1));\n",
       "  --xr-font-color2: var(--jp-content-font-color2, rgba(0, 0, 0, 0.54));\n",
       "  --xr-font-color3: var(--jp-content-font-color3, rgba(0, 0, 0, 0.38));\n",
       "  --xr-border-color: var(--jp-border-color2, #e0e0e0);\n",
       "  --xr-disabled-color: var(--jp-layout-color3, #bdbdbd);\n",
       "  --xr-background-color: var(--jp-layout-color0, white);\n",
       "  --xr-background-color-row-even: var(--jp-layout-color1, white);\n",
       "  --xr-background-color-row-odd: var(--jp-layout-color2, #eeeeee);\n",
       "}\n",
       "\n",
       "html[theme=dark],\n",
       "body.vscode-dark {\n",
       "  --xr-font-color0: rgba(255, 255, 255, 1);\n",
       "  --xr-font-color2: rgba(255, 255, 255, 0.54);\n",
       "  --xr-font-color3: rgba(255, 255, 255, 0.38);\n",
       "  --xr-border-color: #1F1F1F;\n",
       "  --xr-disabled-color: #515151;\n",
       "  --xr-background-color: #111111;\n",
       "  --xr-background-color-row-even: #111111;\n",
       "  --xr-background-color-row-odd: #313131;\n",
       "}\n",
       "\n",
       ".xr-wrap {\n",
       "  display: block;\n",
       "  min-width: 300px;\n",
       "  max-width: 700px;\n",
       "}\n",
       "\n",
       ".xr-text-repr-fallback {\n",
       "  /* fallback to plain text repr when CSS is not injected (untrusted notebook) */\n",
       "  display: none;\n",
       "}\n",
       "\n",
       ".xr-header {\n",
       "  padding-top: 6px;\n",
       "  padding-bottom: 6px;\n",
       "  margin-bottom: 4px;\n",
       "  border-bottom: solid 1px var(--xr-border-color);\n",
       "}\n",
       "\n",
       ".xr-header > div,\n",
       ".xr-header > ul {\n",
       "  display: inline;\n",
       "  margin-top: 0;\n",
       "  margin-bottom: 0;\n",
       "}\n",
       "\n",
       ".xr-obj-type,\n",
       ".xr-array-name {\n",
       "  margin-left: 2px;\n",
       "  margin-right: 10px;\n",
       "}\n",
       "\n",
       ".xr-obj-type {\n",
       "  color: var(--xr-font-color2);\n",
       "}\n",
       "\n",
       ".xr-sections {\n",
       "  padding-left: 0 !important;\n",
       "  display: grid;\n",
       "  grid-template-columns: 150px auto auto 1fr 20px 20px;\n",
       "}\n",
       "\n",
       ".xr-section-item {\n",
       "  display: contents;\n",
       "}\n",
       "\n",
       ".xr-section-item input {\n",
       "  display: none;\n",
       "}\n",
       "\n",
       ".xr-section-item input + label {\n",
       "  color: var(--xr-disabled-color);\n",
       "}\n",
       "\n",
       ".xr-section-item input:enabled + label {\n",
       "  cursor: pointer;\n",
       "  color: var(--xr-font-color2);\n",
       "}\n",
       "\n",
       ".xr-section-item input:enabled + label:hover {\n",
       "  color: var(--xr-font-color0);\n",
       "}\n",
       "\n",
       ".xr-section-summary {\n",
       "  grid-column: 1;\n",
       "  color: var(--xr-font-color2);\n",
       "  font-weight: 500;\n",
       "}\n",
       "\n",
       ".xr-section-summary > span {\n",
       "  display: inline-block;\n",
       "  padding-left: 0.5em;\n",
       "}\n",
       "\n",
       ".xr-section-summary-in:disabled + label {\n",
       "  color: var(--xr-font-color2);\n",
       "}\n",
       "\n",
       ".xr-section-summary-in + label:before {\n",
       "  display: inline-block;\n",
       "  content: '►';\n",
       "  font-size: 11px;\n",
       "  width: 15px;\n",
       "  text-align: center;\n",
       "}\n",
       "\n",
       ".xr-section-summary-in:disabled + label:before {\n",
       "  color: var(--xr-disabled-color);\n",
       "}\n",
       "\n",
       ".xr-section-summary-in:checked + label:before {\n",
       "  content: '▼';\n",
       "}\n",
       "\n",
       ".xr-section-summary-in:checked + label > span {\n",
       "  display: none;\n",
       "}\n",
       "\n",
       ".xr-section-summary,\n",
       ".xr-section-inline-details {\n",
       "  padding-top: 4px;\n",
       "  padding-bottom: 4px;\n",
       "}\n",
       "\n",
       ".xr-section-inline-details {\n",
       "  grid-column: 2 / -1;\n",
       "}\n",
       "\n",
       ".xr-section-details {\n",
       "  display: none;\n",
       "  grid-column: 1 / -1;\n",
       "  margin-bottom: 5px;\n",
       "}\n",
       "\n",
       ".xr-section-summary-in:checked ~ .xr-section-details {\n",
       "  display: contents;\n",
       "}\n",
       "\n",
       ".xr-array-wrap {\n",
       "  grid-column: 1 / -1;\n",
       "  display: grid;\n",
       "  grid-template-columns: 20px auto;\n",
       "}\n",
       "\n",
       ".xr-array-wrap > label {\n",
       "  grid-column: 1;\n",
       "  vertical-align: top;\n",
       "}\n",
       "\n",
       ".xr-preview {\n",
       "  color: var(--xr-font-color3);\n",
       "}\n",
       "\n",
       ".xr-array-preview,\n",
       ".xr-array-data {\n",
       "  padding: 0 5px !important;\n",
       "  grid-column: 2;\n",
       "}\n",
       "\n",
       ".xr-array-data,\n",
       ".xr-array-in:checked ~ .xr-array-preview {\n",
       "  display: none;\n",
       "}\n",
       "\n",
       ".xr-array-in:checked ~ .xr-array-data,\n",
       ".xr-array-preview {\n",
       "  display: inline-block;\n",
       "}\n",
       "\n",
       ".xr-dim-list {\n",
       "  display: inline-block !important;\n",
       "  list-style: none;\n",
       "  padding: 0 !important;\n",
       "  margin: 0;\n",
       "}\n",
       "\n",
       ".xr-dim-list li {\n",
       "  display: inline-block;\n",
       "  padding: 0;\n",
       "  margin: 0;\n",
       "}\n",
       "\n",
       ".xr-dim-list:before {\n",
       "  content: '(';\n",
       "}\n",
       "\n",
       ".xr-dim-list:after {\n",
       "  content: ')';\n",
       "}\n",
       "\n",
       ".xr-dim-list li:not(:last-child):after {\n",
       "  content: ',';\n",
       "  padding-right: 5px;\n",
       "}\n",
       "\n",
       ".xr-has-index {\n",
       "  font-weight: bold;\n",
       "}\n",
       "\n",
       ".xr-var-list,\n",
       ".xr-var-item {\n",
       "  display: contents;\n",
       "}\n",
       "\n",
       ".xr-var-item > div,\n",
       ".xr-var-item label,\n",
       ".xr-var-item > .xr-var-name span {\n",
       "  background-color: var(--xr-background-color-row-even);\n",
       "  margin-bottom: 0;\n",
       "}\n",
       "\n",
       ".xr-var-item > .xr-var-name:hover span {\n",
       "  padding-right: 5px;\n",
       "}\n",
       "\n",
       ".xr-var-list > li:nth-child(odd) > div,\n",
       ".xr-var-list > li:nth-child(odd) > label,\n",
       ".xr-var-list > li:nth-child(odd) > .xr-var-name span {\n",
       "  background-color: var(--xr-background-color-row-odd);\n",
       "}\n",
       "\n",
       ".xr-var-name {\n",
       "  grid-column: 1;\n",
       "}\n",
       "\n",
       ".xr-var-dims {\n",
       "  grid-column: 2;\n",
       "}\n",
       "\n",
       ".xr-var-dtype {\n",
       "  grid-column: 3;\n",
       "  text-align: right;\n",
       "  color: var(--xr-font-color2);\n",
       "}\n",
       "\n",
       ".xr-var-preview {\n",
       "  grid-column: 4;\n",
       "}\n",
       "\n",
       ".xr-var-name,\n",
       ".xr-var-dims,\n",
       ".xr-var-dtype,\n",
       ".xr-preview,\n",
       ".xr-attrs dt {\n",
       "  white-space: nowrap;\n",
       "  overflow: hidden;\n",
       "  text-overflow: ellipsis;\n",
       "  padding-right: 10px;\n",
       "}\n",
       "\n",
       ".xr-var-name:hover,\n",
       ".xr-var-dims:hover,\n",
       ".xr-var-dtype:hover,\n",
       ".xr-attrs dt:hover {\n",
       "  overflow: visible;\n",
       "  width: auto;\n",
       "  z-index: 1;\n",
       "}\n",
       "\n",
       ".xr-var-attrs,\n",
       ".xr-var-data {\n",
       "  display: none;\n",
       "  background-color: var(--xr-background-color) !important;\n",
       "  padding-bottom: 5px !important;\n",
       "}\n",
       "\n",
       ".xr-var-attrs-in:checked ~ .xr-var-attrs,\n",
       ".xr-var-data-in:checked ~ .xr-var-data {\n",
       "  display: block;\n",
       "}\n",
       "\n",
       ".xr-var-data > table {\n",
       "  float: right;\n",
       "}\n",
       "\n",
       ".xr-var-name span,\n",
       ".xr-var-data,\n",
       ".xr-attrs {\n",
       "  padding-left: 25px !important;\n",
       "}\n",
       "\n",
       ".xr-attrs,\n",
       ".xr-var-attrs,\n",
       ".xr-var-data {\n",
       "  grid-column: 1 / -1;\n",
       "}\n",
       "\n",
       "dl.xr-attrs {\n",
       "  padding: 0;\n",
       "  margin: 0;\n",
       "  display: grid;\n",
       "  grid-template-columns: 125px auto;\n",
       "}\n",
       "\n",
       ".xr-attrs dt,\n",
       ".xr-attrs dd {\n",
       "  padding: 0;\n",
       "  margin: 0;\n",
       "  float: left;\n",
       "  padding-right: 10px;\n",
       "  width: auto;\n",
       "}\n",
       "\n",
       ".xr-attrs dt {\n",
       "  font-weight: normal;\n",
       "  grid-column: 1;\n",
       "}\n",
       "\n",
       ".xr-attrs dt:hover span {\n",
       "  display: inline-block;\n",
       "  background: var(--xr-background-color);\n",
       "  padding-right: 10px;\n",
       "}\n",
       "\n",
       ".xr-attrs dd {\n",
       "  grid-column: 2;\n",
       "  white-space: pre-wrap;\n",
       "  word-break: break-all;\n",
       "}\n",
       "\n",
       ".xr-icon-database,\n",
       ".xr-icon-file-text2 {\n",
       "  display: inline-block;\n",
       "  vertical-align: middle;\n",
       "  width: 1em;\n",
       "  height: 1.5em !important;\n",
       "  stroke-width: 0;\n",
       "  stroke: currentColor;\n",
       "  fill: currentColor;\n",
       "}\n",
       "</style><pre class='xr-text-repr-fallback'>&lt;xarray.DataArray &#x27;precip&#x27; (time: 2854, lat: 681, lon: 841)&gt;\n",
       "dask.array&lt;resample_op, shape=(2854, 681, 841), dtype=float32, chunksize=(27, 390, 400), chunktype=numpy.ndarray&gt;\n",
       "Coordinates:\n",
       "  * time     (time) datetime64[ns] 1911-01-02T09:00:00 ... 2020-05-11T09:00:00\n",
       "  * lat      (lat) float32 -44.0 -43.95 -43.9 -43.85 ... -10.1 -10.05 -10.0\n",
       "  * lon      (lon) float32 112.0 112.1 112.1 112.2 ... 153.9 153.9 153.9 154.0\n",
       "Attributes:\n",
       "    cell_methods:                  time: sum\n",
       "    units:                         mm\n",
       "    analysis_version_number:       3.01\n",
       "    long_name:                     Daily precipitation\n",
       "    number_of_stations_reporting:  2757\n",
       "    standard_name:                 lwe_thickness_of_precipitation_amount\n",
       "    frequency:                     daily\n",
       "    length_scale_for_analysis:     80.0\n",
       "    grid_mapping:                  crs\n",
       "    coverage_content_type:         physicalMeasurement\n",
       "    valid_range:                   [     0. 100000.]</pre><div class='xr-wrap' hidden><div class='xr-header'><div class='xr-obj-type'>xarray.DataArray</div><div class='xr-array-name'>'precip'</div><ul class='xr-dim-list'><li><span class='xr-has-index'>time</span>: 2854</li><li><span class='xr-has-index'>lat</span>: 681</li><li><span class='xr-has-index'>lon</span>: 841</li></ul></div><ul class='xr-sections'><li class='xr-section-item'><div class='xr-array-wrap'><input id='section-39ecbe90-9cef-411c-8863-f49d01b3a606' class='xr-array-in' type='checkbox' checked><label for='section-39ecbe90-9cef-411c-8863-f49d01b3a606' title='Show/hide data repr'><svg class='icon xr-icon-database'><use xlink:href='#icon-database'></use></svg></label><div class='xr-array-preview xr-preview'><span>dask.array&lt;chunksize=(27, 390, 400), meta=np.ndarray&gt;</span></div><div class='xr-array-data'><table>\n",
       "    <tr>\n",
       "        <td>\n",
       "            <table>\n",
       "                <thead>\n",
       "                    <tr>\n",
       "                        <td> </td>\n",
       "                        <th> Array </th>\n",
       "                        <th> Chunk </th>\n",
       "                    </tr>\n",
       "                </thead>\n",
       "                <tbody>\n",
       "                    \n",
       "                    <tr>\n",
       "                        <th> Bytes </th>\n",
       "                        <td> 6.09 GiB </td>\n",
       "                        <td> 16.07 MiB </td>\n",
       "                    </tr>\n",
       "                    \n",
       "                    <tr>\n",
       "                        <th> Shape </th>\n",
       "                        <td> (2854, 681, 841) </td>\n",
       "                        <td> (27, 390, 400) </td>\n",
       "                    </tr>\n",
       "                    <tr>\n",
       "                        <th> Count </th>\n",
       "                        <td> 4765 Tasks </td>\n",
       "                        <td> 636 Chunks </td>\n",
       "                    </tr>\n",
       "                    <tr>\n",
       "                    <th> Type </th>\n",
       "                    <td> float32 </td>\n",
       "                    <td> numpy.ndarray </td>\n",
       "                    </tr>\n",
       "                </tbody>\n",
       "            </table>\n",
       "        </td>\n",
       "        <td>\n",
       "        <svg width=\"174\" height=\"163\" style=\"stroke:rgb(0,0,0);stroke-width:1\" >\n",
       "\n",
       "  <!-- Horizontal lines -->\n",
       "  <line x1=\"10\" y1=\"0\" x2=\"80\" y2=\"70\" style=\"stroke-width:2\" />\n",
       "  <line x1=\"10\" y1=\"24\" x2=\"80\" y2=\"95\" />\n",
       "  <line x1=\"10\" y1=\"42\" x2=\"80\" y2=\"113\" style=\"stroke-width:2\" />\n",
       "\n",
       "  <!-- Vertical lines -->\n",
       "  <line x1=\"10\" y1=\"0\" x2=\"10\" y2=\"42\" style=\"stroke-width:2\" />\n",
       "  <line x1=\"13\" y1=\"3\" x2=\"13\" y2=\"46\" />\n",
       "  <line x1=\"17\" y1=\"7\" x2=\"17\" y2=\"50\" />\n",
       "  <line x1=\"20\" y1=\"10\" x2=\"20\" y2=\"53\" />\n",
       "  <line x1=\"24\" y1=\"14\" x2=\"24\" y2=\"57\" />\n",
       "  <line x1=\"28\" y1=\"18\" x2=\"28\" y2=\"60\" />\n",
       "  <line x1=\"32\" y1=\"22\" x2=\"32\" y2=\"64\" />\n",
       "  <line x1=\"36\" y1=\"26\" x2=\"36\" y2=\"68\" />\n",
       "  <line x1=\"39\" y1=\"29\" x2=\"39\" y2=\"72\" />\n",
       "  <line x1=\"43\" y1=\"33\" x2=\"43\" y2=\"76\" />\n",
       "  <line x1=\"46\" y1=\"36\" x2=\"46\" y2=\"79\" />\n",
       "  <line x1=\"50\" y1=\"40\" x2=\"50\" y2=\"83\" />\n",
       "  <line x1=\"54\" y1=\"44\" x2=\"54\" y2=\"86\" />\n",
       "  <line x1=\"58\" y1=\"48\" x2=\"58\" y2=\"90\" />\n",
       "  <line x1=\"62\" y1=\"52\" x2=\"62\" y2=\"94\" />\n",
       "  <line x1=\"65\" y1=\"55\" x2=\"65\" y2=\"98\" />\n",
       "  <line x1=\"69\" y1=\"59\" x2=\"69\" y2=\"102\" />\n",
       "  <line x1=\"72\" y1=\"62\" x2=\"72\" y2=\"105\" />\n",
       "  <line x1=\"76\" y1=\"66\" x2=\"76\" y2=\"109\" />\n",
       "  <line x1=\"80\" y1=\"70\" x2=\"80\" y2=\"113\" style=\"stroke-width:2\" />\n",
       "\n",
       "  <!-- Colored Rectangle -->\n",
       "  <polygon points=\"10.0,0.0 80.58823529411765,70.58823529411765 80.58823529411765,113.31028347303473 10.0,42.722048178917085\" style=\"fill:#8B4903A0;stroke-width:0\"/>\n",
       "\n",
       "  <!-- Horizontal lines -->\n",
       "  <line x1=\"10\" y1=\"0\" x2=\"53\" y2=\"0\" style=\"stroke-width:2\" />\n",
       "  <line x1=\"13\" y1=\"3\" x2=\"56\" y2=\"3\" />\n",
       "  <line x1=\"17\" y1=\"7\" x2=\"60\" y2=\"7\" />\n",
       "  <line x1=\"20\" y1=\"10\" x2=\"64\" y2=\"10\" />\n",
       "  <line x1=\"24\" y1=\"14\" x2=\"68\" y2=\"14\" />\n",
       "  <line x1=\"28\" y1=\"18\" x2=\"71\" y2=\"18\" />\n",
       "  <line x1=\"32\" y1=\"22\" x2=\"75\" y2=\"22\" />\n",
       "  <line x1=\"36\" y1=\"26\" x2=\"79\" y2=\"26\" />\n",
       "  <line x1=\"39\" y1=\"29\" x2=\"82\" y2=\"29\" />\n",
       "  <line x1=\"43\" y1=\"33\" x2=\"86\" y2=\"33\" />\n",
       "  <line x1=\"46\" y1=\"36\" x2=\"90\" y2=\"36\" />\n",
       "  <line x1=\"50\" y1=\"40\" x2=\"94\" y2=\"40\" />\n",
       "  <line x1=\"54\" y1=\"44\" x2=\"97\" y2=\"44\" />\n",
       "  <line x1=\"58\" y1=\"48\" x2=\"101\" y2=\"48\" />\n",
       "  <line x1=\"62\" y1=\"52\" x2=\"105\" y2=\"52\" />\n",
       "  <line x1=\"65\" y1=\"55\" x2=\"108\" y2=\"55\" />\n",
       "  <line x1=\"69\" y1=\"59\" x2=\"112\" y2=\"59\" />\n",
       "  <line x1=\"72\" y1=\"62\" x2=\"116\" y2=\"62\" />\n",
       "  <line x1=\"76\" y1=\"66\" x2=\"120\" y2=\"66\" />\n",
       "  <line x1=\"80\" y1=\"70\" x2=\"124\" y2=\"70\" style=\"stroke-width:2\" />\n",
       "\n",
       "  <!-- Vertical lines -->\n",
       "  <line x1=\"10\" y1=\"0\" x2=\"80\" y2=\"70\" style=\"stroke-width:2\" />\n",
       "  <line x1=\"30\" y1=\"0\" x2=\"101\" y2=\"70\" />\n",
       "  <line x1=\"51\" y1=\"0\" x2=\"121\" y2=\"70\" />\n",
       "  <line x1=\"53\" y1=\"0\" x2=\"124\" y2=\"70\" style=\"stroke-width:2\" />\n",
       "\n",
       "  <!-- Colored Rectangle -->\n",
       "  <polygon points=\"10.0,0.0 53.484508307455044,0.0 124.0727436015727,70.58823529411765 80.58823529411765,70.58823529411765\" style=\"fill:#8B4903A0;stroke-width:0\"/>\n",
       "\n",
       "  <!-- Horizontal lines -->\n",
       "  <line x1=\"80\" y1=\"70\" x2=\"124\" y2=\"70\" style=\"stroke-width:2\" />\n",
       "  <line x1=\"80\" y1=\"95\" x2=\"124\" y2=\"95\" />\n",
       "  <line x1=\"80\" y1=\"113\" x2=\"124\" y2=\"113\" style=\"stroke-width:2\" />\n",
       "\n",
       "  <!-- Vertical lines -->\n",
       "  <line x1=\"80\" y1=\"70\" x2=\"80\" y2=\"113\" style=\"stroke-width:2\" />\n",
       "  <line x1=\"101\" y1=\"70\" x2=\"101\" y2=\"113\" />\n",
       "  <line x1=\"121\" y1=\"70\" x2=\"121\" y2=\"113\" />\n",
       "  <line x1=\"124\" y1=\"70\" x2=\"124\" y2=\"113\" style=\"stroke-width:2\" />\n",
       "\n",
       "  <!-- Colored Rectangle -->\n",
       "  <polygon points=\"80.58823529411765,70.58823529411765 124.0727436015727,70.58823529411765 124.0727436015727,113.31028347303473 80.58823529411765,113.31028347303473\" style=\"fill:#ECB172A0;stroke-width:0\"/>\n",
       "\n",
       "  <!-- Text -->\n",
       "  <text x=\"102.330489\" y=\"133.310283\" font-size=\"1.0rem\" font-weight=\"100\" text-anchor=\"middle\" >841</text>\n",
       "  <text x=\"144.072744\" y=\"91.949259\" font-size=\"1.0rem\" font-weight=\"100\" text-anchor=\"middle\" transform=\"rotate(-90,144.072744,91.949259)\">681</text>\n",
       "  <text x=\"35.294118\" y=\"98.016166\" font-size=\"1.0rem\" font-weight=\"100\" text-anchor=\"middle\" transform=\"rotate(45,35.294118,98.016166)\">2854</text>\n",
       "</svg>\n",
       "        </td>\n",
       "    </tr>\n",
       "</table></div></div></li><li class='xr-section-item'><input id='section-14951602-7647-4383-9e7f-22130ae44a07' class='xr-section-summary-in' type='checkbox'  checked><label for='section-14951602-7647-4383-9e7f-22130ae44a07' class='xr-section-summary' >Coordinates: <span>(3)</span></label><div class='xr-section-inline-details'></div><div class='xr-section-details'><ul class='xr-var-list'><li class='xr-var-item'><div class='xr-var-name'><span class='xr-has-index'>time</span></div><div class='xr-var-dims'>(time)</div><div class='xr-var-dtype'>datetime64[ns]</div><div class='xr-var-preview xr-preview'>1911-01-02T09:00:00 ... 2020-05-...</div><input id='attrs-f291637c-fda0-454a-a05b-d4b1d61ac32f' class='xr-var-attrs-in' type='checkbox' ><label for='attrs-f291637c-fda0-454a-a05b-d4b1d61ac32f' title='Show/Hide attributes'><svg class='icon xr-icon-file-text2'><use xlink:href='#icon-file-text2'></use></svg></label><input id='data-835b1b26-7861-4a94-9f51-52bd1b848e56' class='xr-var-data-in' type='checkbox'><label for='data-835b1b26-7861-4a94-9f51-52bd1b848e56' title='Show/Hide data repr'><svg class='icon xr-icon-database'><use xlink:href='#icon-database'></use></svg></label><div class='xr-var-attrs'><dl class='xr-attrs'><dt><span>axis :</span></dt><dd>T</dd><dt><span>time_zone :</span></dt><dd>local time</dd><dt><span>bounds :</span></dt><dd>time_bnds</dd><dt><span>long_name :</span></dt><dd>time</dd></dl></div><div class='xr-var-data'><pre>array([&#x27;1911-01-02T09:00:00.000000000&#x27;, &#x27;1911-01-16T09:00:00.000000000&#x27;,\n",
       "       &#x27;1911-01-30T09:00:00.000000000&#x27;, ..., &#x27;2020-04-13T09:00:00.000000000&#x27;,\n",
       "       &#x27;2020-04-27T09:00:00.000000000&#x27;, &#x27;2020-05-11T09:00:00.000000000&#x27;],\n",
       "      dtype=&#x27;datetime64[ns]&#x27;)</pre></div></li><li class='xr-var-item'><div class='xr-var-name'><span class='xr-has-index'>lat</span></div><div class='xr-var-dims'>(lat)</div><div class='xr-var-dtype'>float32</div><div class='xr-var-preview xr-preview'>-44.0 -43.95 -43.9 ... -10.05 -10.0</div><input id='attrs-a9122205-5c30-46e5-ba56-02240caebc93' class='xr-var-attrs-in' type='checkbox' ><label for='attrs-a9122205-5c30-46e5-ba56-02240caebc93' title='Show/Hide attributes'><svg class='icon xr-icon-file-text2'><use xlink:href='#icon-file-text2'></use></svg></label><input id='data-48c1e123-e8f2-4c8b-afd2-6a90da38852c' class='xr-var-data-in' type='checkbox'><label for='data-48c1e123-e8f2-4c8b-afd2-6a90da38852c' title='Show/Hide data repr'><svg class='icon xr-icon-database'><use xlink:href='#icon-database'></use></svg></label><div class='xr-var-attrs'><dl class='xr-attrs'><dt><span>long_name :</span></dt><dd>latitude</dd><dt><span>standard_name :</span></dt><dd>latitude</dd><dt><span>units :</span></dt><dd>degrees_north</dd><dt><span>bounds :</span></dt><dd>lat_bnds</dd><dt><span>axis :</span></dt><dd>Y</dd></dl></div><div class='xr-var-data'><pre>array([-44.  , -43.95, -43.9 , ..., -10.1 , -10.05, -10.  ], dtype=float32)</pre></div></li><li class='xr-var-item'><div class='xr-var-name'><span class='xr-has-index'>lon</span></div><div class='xr-var-dims'>(lon)</div><div class='xr-var-dtype'>float32</div><div class='xr-var-preview xr-preview'>112.0 112.1 112.1 ... 153.9 154.0</div><input id='attrs-f2c2b277-81b7-458e-86a8-b04208f1af90' class='xr-var-attrs-in' type='checkbox' ><label for='attrs-f2c2b277-81b7-458e-86a8-b04208f1af90' title='Show/Hide attributes'><svg class='icon xr-icon-file-text2'><use xlink:href='#icon-file-text2'></use></svg></label><input id='data-937653bd-91c4-419a-bd89-bc436b0477c2' class='xr-var-data-in' type='checkbox'><label for='data-937653bd-91c4-419a-bd89-bc436b0477c2' title='Show/Hide data repr'><svg class='icon xr-icon-database'><use xlink:href='#icon-database'></use></svg></label><div class='xr-var-attrs'><dl class='xr-attrs'><dt><span>long_name :</span></dt><dd>longitude</dd><dt><span>standard_name :</span></dt><dd>longitude</dd><dt><span>units :</span></dt><dd>degrees_east</dd><dt><span>bounds :</span></dt><dd>lon_bnds</dd><dt><span>axis :</span></dt><dd>X</dd></dl></div><div class='xr-var-data'><pre>array([112.  , 112.05, 112.1 , ..., 153.9 , 153.95, 154.  ], dtype=float32)</pre></div></li></ul></div></li><li class='xr-section-item'><input id='section-2fda894d-42f1-4f3a-bbf4-32f6595956ed' class='xr-section-summary-in' type='checkbox'  ><label for='section-2fda894d-42f1-4f3a-bbf4-32f6595956ed' class='xr-section-summary' >Attributes: <span>(11)</span></label><div class='xr-section-inline-details'></div><div class='xr-section-details'><dl class='xr-attrs'><dt><span>cell_methods :</span></dt><dd>time: sum</dd><dt><span>units :</span></dt><dd>mm</dd><dt><span>analysis_version_number :</span></dt><dd>3.01</dd><dt><span>long_name :</span></dt><dd>Daily precipitation</dd><dt><span>number_of_stations_reporting :</span></dt><dd>2757</dd><dt><span>standard_name :</span></dt><dd>lwe_thickness_of_precipitation_amount</dd><dt><span>frequency :</span></dt><dd>daily</dd><dt><span>length_scale_for_analysis :</span></dt><dd>80.0</dd><dt><span>grid_mapping :</span></dt><dd>crs</dd><dt><span>coverage_content_type :</span></dt><dd>physicalMeasurement</dd><dt><span>valid_range :</span></dt><dd>[     0. 100000.]</dd></dl></div></li></ul></div></div>"
      ],
      "text/plain": [
       "<xarray.DataArray 'precip' (time: 2854, lat: 681, lon: 841)>\n",
       "dask.array<resample_op, shape=(2854, 681, 841), dtype=float32, chunksize=(27, 390, 400), chunktype=numpy.ndarray>\n",
       "Coordinates:\n",
       "  * time     (time) datetime64[ns] 1911-01-02T09:00:00 ... 2020-05-11T09:00:00\n",
       "  * lat      (lat) float32 -44.0 -43.95 -43.9 -43.85 ... -10.1 -10.05 -10.0\n",
       "  * lon      (lon) float32 112.0 112.1 112.1 112.2 ... 153.9 153.9 153.9 154.0\n",
       "Attributes:\n",
       "    cell_methods:                  time: sum\n",
       "    units:                         mm\n",
       "    analysis_version_number:       3.01\n",
       "    long_name:                     Daily precipitation\n",
       "    number_of_stations_reporting:  2757\n",
       "    standard_name:                 lwe_thickness_of_precipitation_amount\n",
       "    frequency:                     daily\n",
       "    length_scale_for_analysis:     80.0\n",
       "    grid_mapping:                  crs\n",
       "    coverage_content_type:         physicalMeasurement\n",
       "    valid_range:                   [     0. 100000.]"
      ]
     },
     "execution_count": 3,
     "metadata": {},
     "output_type": "execute_result"
    }
   ],
   "source": [
    "import climtas\n",
    "nWeek = 2\n",
    "agcd_dir = '/g/data/zv2/agcd/v1/precip/total/r005/01day/'\n",
    "agcd_files = 'agcd_v1_precip_total_r005_daily_*.nc'\n",
    "lat_slice = slice(-44, -10)\n",
    "lon_slice = slice(112, 154)\n",
    "\n",
    "ds_agcd = xr.open_mfdataset(agcd_dir + agcd_files, chunks = {'lat':400,'lon':400})\n",
    "\n",
    "time_slice = slice('1911-01-02', '2020-05-24') #allWeek_dict['start_day'][nWeek], allWeek_dict['end_day'][nWeek])\n",
    "time_chunk_dict = {'time':allWeek_dict['time_chunk'][nWeek]}\n",
    "da_P = ds_agcd['precip'].sel(lat = lat_slice, lon = lon_slice, time = time_slice).chunk(chunks = time_chunk_dict)  # time needs to be rechunked for blocked_resample operation\n",
    "print(allWeek_dict['day_len'][nWeek])\n",
    "#n = allWeek_dict['day_len'][nWeek]\n",
    "da_P_accum = climtas.blocked.blocked_resample(da_P, time = 7*nWeek).sum()\n",
    "da_P_accum"
   ]
  },
  {
   "cell_type": "code",
   "execution_count": 4,
   "id": "8bbc64c6-5df6-46d7-8247-f62bf18268c3",
   "metadata": {},
   "outputs": [
    {
     "name": "stdout",
     "output_type": "stream",
     "text": [
      "2\n",
      "4\n",
      "6\n",
      "8\n",
      "10\n",
      "12\n"
     ]
    }
   ],
   "source": [
    "for i in range(2, 13, 2):\n",
    "    print(i)"
   ]
  },
  {
   "cell_type": "code",
   "execution_count": null,
   "id": "cd853c5e-57d4-42dd-8855-d6a0a121730e",
   "metadata": {},
   "outputs": [
    {
     "name": "stderr",
     "output_type": "stream",
     "text": [
      "distributed.nanny - WARNING - Restarting worker\n",
      "distributed.nanny - WARNING - Restarting worker\n",
      "distributed.nanny - WARNING - Restarting worker\n",
      "distributed.nanny - WARNING - Restarting worker\n"
     ]
    }
   ],
   "source": [
    "%who"
   ]
  },
  {
   "cell_type": "code",
   "execution_count": 1,
   "id": "1e320de3-65c6-4b2a-ab17-9302dd6a9a06",
   "metadata": {},
   "outputs": [
    {
     "data": {
      "text/plain": [
       "True"
      ]
     },
     "execution_count": 1,
     "metadata": {},
     "output_type": "execute_result"
    }
   ],
   "source": [
    "x = None\n",
    "x is None"
   ]
  },
  {
   "cell_type": "code",
   "execution_count": null,
   "id": "2fc4b58f-e05b-46d7-8ec2-634081ddfbd4",
   "metadata": {},
   "outputs": [],
   "source": []
  }
 ],
 "metadata": {
  "kernelspec": {
   "display_name": "Python [conda env:analysis3-21.07]",
   "language": "python",
   "name": "conda-env-analysis3-21.07-py"
  },
  "language_info": {
   "codemirror_mode": {
    "name": "ipython",
    "version": 3
   },
   "file_extension": ".py",
   "mimetype": "text/x-python",
   "name": "python",
   "nbconvert_exporter": "python",
   "pygments_lexer": "ipython3",
   "version": "3.9.7"
  }
 },
 "nbformat": 4,
 "nbformat_minor": 5
}
